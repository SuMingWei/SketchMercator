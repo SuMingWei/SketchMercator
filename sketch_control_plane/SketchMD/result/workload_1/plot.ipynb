{
 "cells": [
  {
   "cell_type": "code",
   "execution_count": 26,
   "metadata": {},
   "outputs": [],
   "source": [
    "import sys\n",
    "sys.path.append('/Users/hnamkung/workspace/sketch_home')\n",
    "from python_lib.pkl_saver import PklSaver\n",
    "\n",
    "import os\n",
    "# before_path = '/Users/hnamkung/workspace/sketch_home/sketch_control_plane/SketchMD/result/workload_1/20140320/before'\n",
    "# after_path = '/Users/hnamkung/workspace/sketch_home/sketch_control_plane/SketchMD/result/workload_1/20140320/after'\n",
    "\n",
    "# before_path = '/Users/hnamkung/workspace/sketch_home/sketch_control_plane/SketchMD/result/workload_1/20140619/before'\n",
    "# after_path = '/Users/hnamkung/workspace/sketch_home/sketch_control_plane/SketchMD/result/workload_1/20140619/after'\n",
    "\n",
    "# before_path = '/Users/hnamkung/workspace/sketch_home/sketch_control_plane/SketchMD/result/workload_1/20160121/before'\n",
    "# after_path = '/Users/hnamkung/workspace/sketch_home/sketch_control_plane/SketchMD/result/workload_1/20160121/after'\n",
    "\n",
    "# before_path = '/Users/hnamkung/workspace/sketch_home/sketch_control_plane/SketchMD/result/workload_1/20180517/before'\n",
    "# after_path = '/Users/hnamkung/workspace/sketch_home/sketch_control_plane/SketchMD/result/workload_1/20180517/after'\n",
    "\n",
    "before_path = '/Users/hnamkung/workspace/sketch_home/sketch_control_plane/SketchMD/result/workload_1/20180816/before'\n",
    "after_path = '/Users/hnamkung/workspace/sketch_home/sketch_control_plane/SketchMD/result/workload_1/20180816/after'\n",
    "\n",
    "pcap_dir_list = sorted(os.listdir(after_path))\n",
    "\n",
    "import statistics\n"
   ]
  },
  {
   "cell_type": "code",
   "execution_count": 27,
   "metadata": {},
   "outputs": [
    {
     "name": "stdout",
     "output_type": "stream",
     "text": [
      "[3.460986793294049, 0.7309582919136866, 0.8140525174751597, 0.8950786922174022, 0.8954824388964928, 0.7386179041717759, 1.0581342105368423, 1.5888348356492292, 0.5256365357112337, 0.28165051452696055, 0.28577121144881046, 4.230329813030439, 5.07146737088857, 4.468801369604872, 3.1524235854365408, 3.540734164177709, 0.7767035861863869, 0.7331640193085316, 0.6378183350881099, 1.2730037984632474, 0.9068226482141637, 0.7099460933319428, 0.5455981475484181, 0.5573882621427376, 0.3889687289031552, 0.2211179464463493, 3.809514734886207, 3.3962369210699235, 5.565479173462316, 2.449758210944271, 2.60878337888303, 0.5767410805522875, 0.6775273021960452, 0.6633489465770464, 0.7567653197983144, 1.0275644519808151, 1.0868501815785412, 0.6827366768833204, 0.8250225999048247, 0.2786773978628075, 0.2237512912990841, 3.9983452854889747, 2.936713805776277, 3.7302943848546146, 2.747117231342608, 3.055959230197514, 0.5215598720944531, 0.6702977935726986, 0.9919410788908222, 0.8995129836098156, 0.6357984643194904, 0.9236707885141783, 0.5815680675035999, 0.636997003116447, 0.21748608858166588, 0.21098760612894682, 3.51869308606433, 4.352719488724981, 3.8537517036281566, 2.959946413877532, 5.210842807995939, 0.7037148941283397, 0.6263184202823083, 0.7554912990977178, 0.6575718437506601, 0.6799589068557422, 0.988962878544844, 0.7360772720876908, 0.5665224658728265, 0.2378011699000799, 0.24301162951011757, 4.867989579519807, 5.781406339632895, 5.712169018257241, 2.807340411771626, 4.350916491459304, 0.7991244552082296, 0.5495625013179471, 0.8745356195344862, 0.5558266890386502, 0.6312667113416822, 0.8425833052695737, 0.7803162009206587, 0.6194012911106421, 0.2731540930301735, 0.40396087338765213, 4.255021236587229, 5.756060414278551, 3.6448326112226983, 2.980954594571695, 4.305346846937223, 0.5820319345199105, 0.533674204635766, 0.539228645075028, 0.6795105668402972, 1.0012660069462695, 0.815696110372475, 0.4834453268581149, 0.553127465493717, 0.2244469125928291, 0.1682906680540763, 4.551379906132188, 4.750103447928294, 4.556402334138622, 2.8684277499713122, 6.3614341314681155, 0.8999352431572999, 0.8241989937949777, 0.8753010557891406, 0.678552178361901, 0.7180933223886956, 0.9157638537979657, 0.5406120517639875, 0.6579695467034918, 0.26974149443870277, 0.21520529436165467, 4.533364356588299, 4.940842070187937, 3.1820269268225077, 3.167948097542442, 6.4080041342192295, 0.6286409613954036, 0.5517121129599808, 0.6505900614477512, 0.6019129449983317, 0.6491970331763564, 0.8415610759565645, 0.75520605702876, 0.6257221045130262, 0.18518901296728071, 0.24064584940965164, 4.002852931232192, 4.319323006922148, 3.9977530678058355, 3.1322720290521175, 5.208120723758555, 0.5890086616702963, 0.41682809149204575, 0.6342853184334664, 0.6001909793141192, 0.857152069367868, 1.173801000750825, 0.5416652345240134, 0.6206604327629036, 0.23951381755565515, 0.13507225357458943, 6.33530682259007, 5.062691299756925, 5.251960504252855, 2.739644973500043]\n",
      "[4.067727843244398, 0.6332605604594748, 0.6974434622578214, 0.6085906148790816, 0.9267654082601269, 0.9999937322401835, 1.3182936836018866, 1.409280850265616, 0.7753395020402734, 0.2397640372168621, 0.39925908885888695, 4.6233800966966285, 4.945560309092166, 4.262322781914197, 3.20030842659754, 3.568547341131613, 0.8223476894977141, 0.4954860240341109, 0.5440829927443379, 0.6030980758536186, 1.1321653829854141, 0.927146991055051, 0.5184275554751474, 0.614820742972262, 0.3635111342715798, 0.1800286226575497, 4.185336325331324, 3.5208610701788547, 4.885840741124718, 2.443780930243781, 2.6500571299386553, 0.5791078992529589, 0.7252217601158053, 0.7157530873682486, 0.7571098608709705, 0.7777172562721882, 0.9514481690507598, 0.52863810562822, 0.635390167007972, 0.23324258306255602, 0.16281662311794964, 4.141353249201035, 3.0048741545957607, 3.5040860152496798, 2.694383464814621, 3.188699861936257, 0.7382354260973915, 0.9134532475202637, 0.6543712847785045, 0.8032224457956201, 0.655051517504494, 0.9640942508334355, 0.5702307209011211, 0.6395640048896479, 0.2926414684003456, 0.2618269360204559, 3.432334968322684, 4.084205628858601, 3.1924508837964836, 3.002678944049382, 4.723221238736172, 0.897700369884713, 0.7606821284138101, 0.6284184160610525, 0.48979946987670475, 0.6119395914759801, 0.8513874686815168, 0.636167022327255, 0.5756463791749585, 0.2759315114260395, 0.2582559486930492, 4.52203641448099, 5.370571938774995, 5.951765027235556, 2.7020764213596933, 4.166294361526762, 0.7095597660590119, 0.5351730817312425, 0.5555367161250774, 0.4776610851354399, 0.7474033624463517, 1.2900355070263405, 0.6577572631629487, 0.6833939211458352, 0.25238736280050317, 0.35867248718487255, 3.753407852079963, 5.090178454682313, 2.9633148286613205, 2.8314805661216274, 4.667269688124282, 0.6993579650400421, 0.5464508557206755, 0.8163960431959256, 0.7539973682892662, 0.7945080000900115, 0.8265071304633537, 0.5212651241570014, 0.6895488188087812, 0.2543811644304908, 0.2085696949382841, 4.855536195764789, 4.532011980443135, 4.22286800013913, 2.7952109967584975, 6.140266046726181, 0.9038859037591713, 0.7924256261505478, 0.8391537164276202, 0.8299723163619009, 0.6504198469951544, 0.8457981355297632, 0.7422356106764382, 0.6465681111000323, 0.2512775478845132, 0.1930706518278098, 4.1859211930540585, 4.306385647581926, 3.7169914748179944, 3.07247823245798, 6.249962898322504, 0.5366546747071161, 0.6104601295415363, 0.6747836595474141, 0.595235748119328, 0.5315825488213439, 0.628794041459383, 0.7690972149903756, 0.6677254336331322, 0.17245206457884626, 0.22920198840165476, 4.045280102231253, 4.038566591042283, 3.772752407410905, 3.111896883421413, 5.155404395580813, 0.5740481156645104, 0.42542437319441917, 0.7624094256695958, 0.49812919751156587, 0.801449105086028, 1.001295779117576, 0.45903623722065895, 0.543719819756251, 0.25441484731722275, 0.1742646830384809, 6.106773755766097, 5.008910950876882, 5.348282046515925, 2.7076063106885084]\n",
      "150 0.8065884863416947\n",
      "150 0.7765283791562307\n"
     ]
    }
   ],
   "source": [
    "# CM\n",
    "before_list = []\n",
    "after_list = []\n",
    "\n",
    "for pcap_dir in pcap_dir_list:\n",
    "    if \"pcap\" not in pcap_dir:\n",
    "        continue\n",
    "    for inst_name in [\"inst1\", \"inst2\", \"inst3\", \"inst4\", \"inst5\", \"inst6\"]:\n",
    "        before_pkl_path = os.path.join(before_path, pcap_dir, inst_name)\n",
    "        saver = PklSaver(before_pkl_path, \"data.pkl\")\n",
    "        before_list += saver.load()\n",
    "\n",
    "        after_pkl_path = os.path.join(after_path, pcap_dir, inst_name)\n",
    "        saver = PklSaver(after_pkl_path, \"data.pkl\")\n",
    "        after_list += saver.load()\n",
    "\n",
    "print(before_list)\n",
    "print(after_list)\n",
    "\n",
    "print(len(before_list), statistics.median(before_list))\n",
    "print(len(after_list), statistics.median(after_list))\n"
   ]
  },
  {
   "cell_type": "code",
   "execution_count": 28,
   "metadata": {},
   "outputs": [
    {
     "data": {
      "image/png": "[encoded data removed]",
      "text/plain": [
       "<Figure size 180x360 with 1 Axes>"
      ]
     },
     "metadata": {
      "needs_background": "light"
     },
     "output_type": "display_data"
    }
   ],
   "source": [
    "import matplotlib.pyplot as plt\n",
    "import math\n",
    "import matplotlib\n",
    "matplotlib.rcParams['text.usetex'] = True\n",
    "matplotlib.rcParams['pdf.fonttype'] = 42\n",
    "matplotlib.rcParams['ps.fonttype'] = 42\n",
    "\n",
    "data = [before_list, after_list]\n",
    "\n",
    "values = []\n",
    "\n",
    "position = 0\n",
    "positions = []\n",
    "labels = []\n",
    "colors = []\n",
    "\n",
    "for i, v in enumerate(data):\n",
    "    labels.append(\"%d.txt\" % (i+1))\n",
    "    values.append(v)\n",
    "    colors.append('C'+str(int(i)))\n",
    "    positions.append(position)\n",
    "    position += 1\n",
    "\n",
    "\n",
    "plt.figure(figsize=(2.5, 5))\n",
    "\n",
    "box_plot_data = values\n",
    "box = plt.boxplot(box_plot_data, patch_artist=True, labels=labels, widths=0.4, positions=positions, showfliers=False)\n",
    "\n",
    "for patch, color in zip(box['boxes'], colors):\n",
    "    patch.set_facecolor(color)\n",
    "\n",
    "for median in box['medians']:\n",
    "    median.set(color='black', linewidth=2)\n",
    "\n",
    "plt.tick_params(labelsize=20)\n",
    "\n",
    "# plt.axis('off')\n",
    "\n",
    "ax = plt.gca()\n",
    "ax.tick_params(axis=u'both', which=u'both',length=0)\n",
    "ax.axvline(x=1.5, color='black', linestyle=\"-\", linewidth=1)\n",
    "# ax.axvline(x=3.5, color='black', linestyle=\"-\", linewidth=1)\n",
    "# ax.axvline(x=5.5, color='black', linestyle=\"-\", linewidth=1)\n",
    "# ax.axvline(x=7.5, color='black', linestyle=\"-\", linewidth=1)\n",
    "\n",
    "# plt.title(\"CM(inst6) CS(inst7), Kary(inst8)\", fontsize = 20)\n",
    "plt.title(\"CM(s1-s6)\", fontsize = 20)\n",
    "plt.ylabel(\"ARE ($\\%$)\", fontsize = 20)\n",
    "plt.ylim([0, 10])\n",
    "from matplotlib.ticker import MultipleLocator\n",
    "ax.yaxis.set_major_locator(MultipleLocator(2))\n",
    "plt.legend([box['boxes'][0], box['boxes'][1]], ['before', 'after'], loc=1, bbox_to_anchor=(1,1.5), fontsize=15)\n",
    "plt.xticks([0.5], [\"trace1\"])\n",
    "\n",
    "\n",
    "plt.grid(color='gray', linestyle='--', linewidth=1)\n",
    "ax.xaxis.grid(False)\n",
    "plt.tight_layout()\n",
    "plt.savefig(\"CM.png\", bbox_inches='tight', pad_inches=0.2)\n",
    "plt.show()\n",
    "plt.close()\n"
   ]
  },
  {
   "cell_type": "code",
   "execution_count": null,
   "metadata": {},
   "outputs": [],
   "source": []
  }
 ],
 "metadata": {
  "kernelspec": {
   "display_name": "Python 3.7.1 ('base')",
   "language": "python",
   "name": "python3"
  },
  "language_info": {
   "codemirror_mode": {
    "name": "ipython",
    "version": 3
   },
   "file_extension": ".py",
   "mimetype": "text/x-python",
   "name": "python",
   "nbconvert_exporter": "python",
   "pygments_lexer": "ipython3",
   "version": "3.7.1"
  },
  "orig_nbformat": 4,
  "vscode": {
   "interpreter": {
    "hash": "25f3d71a74086e2048b405605cf8f4ef405c30c43c1b90e1cb1de581ffa0947a"
   }
  }
 },
 "nbformat": 4,
 "nbformat_minor": 2
}
