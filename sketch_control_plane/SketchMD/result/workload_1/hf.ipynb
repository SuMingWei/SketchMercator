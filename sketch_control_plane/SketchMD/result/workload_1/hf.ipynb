{
 "cells": [
  {
   "cell_type": "code",
   "execution_count": 17,
   "metadata": {},
   "outputs": [],
   "source": [
    "import sys\n",
    "sys.path.append('/Users/hnamkung/workspace/sketch_home')\n",
    "from python_lib.pkl_saver import PklSaver\n",
    "\n",
    "import os\n",
    "import statistics\n",
    "workload_dict = {}\n",
    "\n",
    "# workload_dict['workload_1'] = {}\n",
    "# workload_dict['workload_1']['date_list'] = [\"20140320\", \"20140619\", \"20160121\", \"20180517\", \"20180816\"]\n",
    "# # workload_dict['workload_1']['date_list'] = []\n",
    "# # workload_dict['workload_1']['date_list'] = []\n",
    "# # workload_dict['workload_1']['date_list'] = []\n",
    "\n",
    "# workload_dict['workload_1']['hf_list'] = [\"inst1\", \"inst2\", \"inst3\", \"inst4\", \"inst5\", \"inst6\"]\n",
    "\n",
    "workload_dict['workload_2'] = {}\n",
    "workload_dict['workload_2']['date_list'] = [\"20140320\"]\n",
    "workload_dict['workload_2']['hf_list'] = [\"inst2\", \"inst8\", \"inst9\"]\n",
    "\n",
    "# workload_dict['workload_3'] = {}\n",
    "# workload_dict['workload_3']['date_list'] = [\"20140320\"]\n",
    "# workload_dict['workload_3']['hf_list'] = [\"inst4\", \"inst5\"]\n",
    "\n",
    "# workload_dict['workload_4'] = {}\n",
    "# workload_dict['workload_4']['date_list'] = [\"20140320\"]\n",
    "# workload_dict['workload_4']['hf_list'] = [\"inst8\"]\n"
   ]
  },
  {
   "cell_type": "code",
   "execution_count": 21,
   "metadata": {},
   "outputs": [
    {
     "name": "stdout",
     "output_type": "stream",
     "text": [
      "workload_2\n",
      "20140320\n",
      "/Users/hnamkung/workspace/sketch_home/sketch_control_plane/SketchMD/result/workload_2/20140320/before\n",
      "equinix-sanjose.dirA.20140320-130000.UTC.anon.pcap\n",
      "inst2 [(50, 0), (50, 0), (50, 0), (50, 0), (50, 0), (50, 0)]\n",
      "inst8 [(50, 0), (50, 0)]\n",
      "inst9 [(50, 0), (50, 0)]\n",
      "equinix-sanjose.dirA.20140320-130100.UTC.anon.pcap\n",
      "inst2 [(50, 0), (50, 0), (50, 0), (50, 0), (50, 0), (50, 0)]\n",
      "inst8 [(50, 0), (50, 0)]\n",
      "inst9 [(50, 0), (50, 0)]\n",
      "equinix-sanjose.dirA.20140320-130200.UTC.anon.pcap\n",
      "inst2 [(50, 0), (50, 0), (50, 0), (50, 0), (50, 0), (50, 0)]\n",
      "inst8 [(50, 0), (50, 0)]\n",
      "inst9 [(50, 0), (50, 0)]\n",
      "equinix-sanjose.dirA.20140320-130300.UTC.anon.pcap\n",
      "inst2 [(50, 0), (50, 0), (50, 0), (50, 0), (50, 0), (50, 0)]\n",
      "inst8 [(50, 0), (50, 0)]\n",
      "inst9 [(50, 0), (50, 0)]\n",
      "equinix-sanjose.dirA.20140320-130400.UTC.anon.pcap\n",
      "inst2 [(50, 0), (50, 0), (50, 0), (50, 0), (50, 0), (50, 0)]\n",
      "inst8 [(50, 0), (50, 0)]\n",
      "inst9 [(50, 0), (50, 0)]\n",
      "equinix-sanjose.dirA.20140320-130500.UTC.anon.pcap\n",
      "inst2 [(50, 0), (50, 0), (50, 0), (50, 0), (50, 0), (50, 0)]\n",
      "inst8 [(50, 0), (50, 0)]\n",
      "inst9 [(50, 0), (50, 0)]\n",
      "equinix-sanjose.dirA.20140320-130600.UTC.anon.pcap\n",
      "inst2 [(50, 0), (50, 0), (50, 0), (50, 0), (50, 0), (50, 0)]\n",
      "inst8 [(50, 0), (50, 0)]\n",
      "inst9 [(50, 0), (50, 0)]\n",
      "equinix-sanjose.dirA.20140320-130700.UTC.anon.pcap\n",
      "inst2 [(50, 0), (50, 0), (50, 0), (50, 0), (50, 0), (50, 0)]\n",
      "inst8 [(50, 0), (50, 0)]\n",
      "inst9 [(50, 0), (50, 0)]\n",
      "equinix-sanjose.dirA.20140320-130800.UTC.anon.pcap\n",
      "inst2 [(50, 0), (50, 0), (50, 0), (50, 0), (50, 0), (50, 0)]\n",
      "inst8 [(50, 0), (50, 0)]\n",
      "inst9 [(50, 0), (50, 0)]\n",
      "equinix-sanjose.dirA.20140320-130900.UTC.anon.pcap\n",
      "inst2 [(50, 0), (50, 0), (50, 0), (50, 0), (50, 0), (50, 0)]\n",
      "inst8 [(50, 0), (50, 0)]\n",
      "inst9 [(50, 0), (50, 0)]\n",
      "/Users/hnamkung/workspace/sketch_home/sketch_control_plane/SketchMD/result/workload_2/20140320/after\n",
      "equinix-sanjose.dirA.20140320-130000.UTC.anon.pcap\n",
      "inst2 [(50, 0), (50, 0), (50, 0), (50, 0), (50, 0), (50, 0)]\n",
      "inst8 [(50, 0), (50, 0)]\n",
      "inst9 [(50, 0), (50, 0)]\n",
      "equinix-sanjose.dirA.20140320-130100.UTC.anon.pcap\n",
      "inst2 [(50, 0), (50, 0), (50, 0), (50, 0), (50, 0), (50, 0)]\n",
      "inst8 [(50, 0), (50, 0)]\n",
      "inst9 [(50, 0), (50, 0)]\n",
      "equinix-sanjose.dirA.20140320-130200.UTC.anon.pcap\n",
      "inst2 [(50, 0), (50, 0), (50, 0), (50, 0), (50, 0), (50, 0)]\n",
      "inst8 [(50, 0), (50, 0)]\n",
      "inst9 [(50, 0), (50, 0)]\n",
      "equinix-sanjose.dirA.20140320-130300.UTC.anon.pcap\n",
      "inst2 [(50, 0), (50, 0), (50, 0), (50, 0), (50, 0), (50, 0)]\n",
      "inst8 [(50, 0), (50, 0)]\n",
      "inst9 [(50, 0), (50, 0)]\n",
      "equinix-sanjose.dirA.20140320-130400.UTC.anon.pcap\n",
      "inst2 [(50, 0), (50, 0), (50, 0), (50, 0), (50, 0), (50, 0)]\n",
      "inst8 [(50, 0), (50, 0)]\n",
      "inst9 [(50, 0), (50, 0)]\n",
      "equinix-sanjose.dirA.20140320-130500.UTC.anon.pcap\n",
      "inst2 [(50, 0), (50, 0), (50, 0), (50, 0), (50, 0), (50, 0)]\n",
      "inst8 [(50, 0), (50, 0)]\n",
      "inst9 [(50, 0), (50, 0)]\n",
      "equinix-sanjose.dirA.20140320-130600.UTC.anon.pcap\n",
      "inst2 [(50, 0), (50, 0), (50, 0), (50, 0), (50, 0), (50, 0)]\n",
      "inst8 [(50, 0), (50, 0)]\n",
      "inst9 [(50, 0), (50, 0)]\n",
      "equinix-sanjose.dirA.20140320-130700.UTC.anon.pcap\n",
      "inst2 [(50, 0), (50, 0), (50, 0), (50, 0), (50, 0), (50, 0)]\n",
      "inst8 [(50, 0), (50, 0)]\n",
      "inst9 [(50, 0), (50, 0)]\n",
      "equinix-sanjose.dirA.20140320-130800.UTC.anon.pcap\n",
      "inst2 [(50, 0), (50, 0), (50, 0), (50, 0), (50, 0), (50, 0)]\n",
      "inst8 [(50, 0), (50, 0)]\n",
      "inst9 [(50, 0), (50, 0)]\n",
      "equinix-sanjose.dirA.20140320-130900.UTC.anon.pcap\n",
      "inst2 [(50, 0), (50, 0), (50, 0), (50, 0), (50, 0), (50, 0)]\n",
      "inst8 [(50, 0), (50, 0)]\n",
      "inst9 [(50, 0), (50, 0)]\n"
     ]
    }
   ],
   "source": [
    "before_path_template = '/Users/hnamkung/workspace/sketch_home/sketch_control_plane/SketchMD/result/%s/%s/before'\n",
    "after_path_template = '/Users/hnamkung/workspace/sketch_home/sketch_control_plane/SketchMD/result/%s/%s/after'\n",
    "\n",
    "before_found = 0\n",
    "before_miss = 0\n",
    "\n",
    "after_found = 0\n",
    "after_miss = 0\n",
    "\n",
    "for workload_name, dict in workload_dict.items():\n",
    "    # if workload_name != \"workload_2\":\n",
    "    #     continue\n",
    "    print(workload_name)\n",
    "    for date in dict[\"date_list\"]:\n",
    "        print(date)\n",
    "        before_path = before_path_template % (workload_name, date)\n",
    "        after_path = after_path_template % (workload_name, date)\n",
    "        for path in [before_path, after_path]:\n",
    "        # for path in [before_path]:\n",
    "        # for path in [after_path]:\n",
    "            print(path)\n",
    "            pcap_dir_list = sorted(os.listdir(path))\n",
    "            for pcap_dir in pcap_dir_list:\n",
    "                if \"pcap\" in pcap_dir:\n",
    "                    print(pcap_dir)\n",
    "                    for inst_name in dict[\"hf_list\"]:\n",
    "                        # print(inst_name)\n",
    "                        pkl_path = os.path.join(path, pcap_dir, inst_name)\n",
    "                        saver = PklSaver(pkl_path, \"hf.pkl\")\n",
    "                        data = saver.load()\n",
    "                        # print(data)\n",
    "                        flag = False\n",
    "                        for (found, miss) in data:\n",
    "                            if \"before\" in path:\n",
    "                                before_found += found\n",
    "                                before_miss += miss\n",
    "                            else:\n",
    "                                after_found += found\n",
    "                                after_miss += miss\n",
    "                            if miss != 0:\n",
    "                                flag = True\n",
    "                        if flag:\n",
    "                            print(inst_name, data)\n",
    "\n",
    "\n"
   ]
  },
  {
   "cell_type": "code",
   "execution_count": 19,
   "metadata": {},
   "outputs": [
    {
     "name": "stdout",
     "output_type": "stream",
     "text": [
      "5000\n",
      "0\n"
     ]
    }
   ],
   "source": [
    "print(after_found)\n",
    "print(after_miss)\n"
   ]
  },
  {
   "cell_type": "code",
   "execution_count": 20,
   "metadata": {},
   "outputs": [
    {
     "name": "stdout",
     "output_type": "stream",
     "text": [
      "5000\n",
      "0\n"
     ]
    }
   ],
   "source": [
    "print(before_found)\n",
    "print(before_miss)"
   ]
  }
 ],
 "metadata": {
  "kernelspec": {
   "display_name": "Python 3.7.1 ('base')",
   "language": "python",
   "name": "python3"
  },
  "language_info": {
   "codemirror_mode": {
    "name": "ipython",
    "version": 3
   },
   "file_extension": ".py",
   "mimetype": "text/x-python",
   "name": "python",
   "nbconvert_exporter": "python",
   "pygments_lexer": "ipython3",
   "version": "3.7.1"
  },
  "orig_nbformat": 4,
  "vscode": {
   "interpreter": {
    "hash": "25f3d71a74086e2048b405605cf8f4ef405c30c43c1b90e1cb1de581ffa0947a"
   }
  }
 },
 "nbformat": 4,
 "nbformat_minor": 2
}
