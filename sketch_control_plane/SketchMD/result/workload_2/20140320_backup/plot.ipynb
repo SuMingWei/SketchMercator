{
 "cells": [
  {
   "cell_type": "code",
   "execution_count": 1,
   "metadata": {},
   "outputs": [],
   "source": [
    "import sys\n",
    "sys.path.append('/Users/hnamkung/workspace/sketch_home')\n",
    "from python_lib.pkl_saver import PklSaver\n",
    "\n",
    "import os\n",
    "before_path = '/Users/hnamkung/workspace/sketch_home/sketch_control_plane/SketchMD/result/workload_2/20140320/before'\n",
    "after_path = '/Users/hnamkung/workspace/sketch_home/sketch_control_plane/SketchMD/result/workload_2/20140320/after'\n",
    "pcap_dir_list = sorted(os.listdir(before_path))\n",
    "\n",
    "import statistics\n"
   ]
  },
  {
   "cell_type": "code",
   "execution_count": null,
   "metadata": {},
   "outputs": [],
   "source": []
  },
  {
   "cell_type": "code",
   "execution_count": null,
   "metadata": {},
   "outputs": [],
   "source": []
  },
  {
   "cell_type": "code",
   "execution_count": 38,
   "metadata": {},
   "outputs": [
    {
     "name": "stdout",
     "output_type": "stream",
     "text": [
      "[0.2068886249568982, 0.8768898006511171, 0.5352122828515822, 0.9994306807955776, 0.1290480093472612, 1.353594509152966, 1.7078102899575671, 0.4583007806492492, 1.0672224141902786, 1.3473674919458052, 1.0837737794884073, 0.004332380209687202, 0.02911155182765961, 0.5573375269316301, 0.3311125470710132, 1.692787052969353, 0.28864584507836283, 3.3350681157201896, 1.4204821575777646, 2.7918205181882563, 1.2090658058494088, 0.39466171053662796, 0.6131529661572964, 0.6001017628924606, 0.3947739041882435, 0.7439969608612209, 0.6709205217228114, 0.5364881098385504, 0.8228270093344647, 0.16387993832574715, 0.2746421615898047, 0.19436553535957624, 0.8180693798221332, 0.6551450267556486, 0.9611432010136924, 1.0952158175953512, 1.9477816105626262, 1.339952402708545, 0.10942095200067571, 1.1559789910834248, 1.1659211950292414, 1.9053606402785503, 1.2703431941103935, 1.743056606397206, 1.9546876136446285, 0.3742538121307723, 1.0414498218650934, 0.8049384058956299, 0.09669156967910239, 0.13963379433866377]\n",
      "[0.06848888612166117, 0.9414281577438819, 0.3064046490661664, 0.90030209075459, 0.03408117597994592, 0.913319323127795, 0.43345754046481155, 1.9031826009311816, 1.2648023143683704, 2.0953650910428547, 1.4925593553246268, 0.6087399712523551, 0.724748478639797, 0.5755793119923555, 0.6138051847526447, 1.10779503262684, 0.19252984212552945, 3.172019077901431, 1.2132438967319243, 1.719690854603316, 1.3463304882705665, 0.25084900369185636, 0.2800002456142506, 0.7622993764823043, 0.1210748500375194, 0.9431021456234248, 1.102811508036479, 0.24025926879335724, 0.5635379887537597, 0.5571044241219869, 0.5911650606932799, 0.3089048641159302, 0.3438857852265673, 0.7899468268237635, 0.18733977519226977, 1.0035251763925517, 2.766357006045557, 0.6056221579164944, 0.5103764180555441, 1.6977167247018037, 0.5058229791426788, 1.0652046743847525, 0.9334941552359078, 1.5623955543473902, 0.8997422972500211, 0.2214358837405973, 0.0976302476258099, 0.8234934056470152, 0.29354374914418735, 0.7506177444169891]\n",
      "50 0.8115038928588816\n",
      "50 0.737683111528393\n"
     ]
    }
   ],
   "source": [
    "# MRB\n",
    "before_list = []\n",
    "after_list = []\n",
    "\n",
    "for pcap_dir in pcap_dir_list:\n",
    "    # print(pcap_dir)\n",
    "    for inst_name in [\"inst3\", \"inst6\"]:\n",
    "        before_pkl_path = os.path.join(before_path, pcap_dir, inst_name)\n",
    "        saver = PklSaver(before_pkl_path, \"data.pkl\")\n",
    "        before_list += saver.load()\n",
    "\n",
    "        after_pkl_path = os.path.join(after_path, pcap_dir, inst_name)\n",
    "        saver = PklSaver(after_pkl_path, \"data.pkl\")\n",
    "        after_list += saver.load()\n",
    "\n",
    "print(before_list)\n",
    "print(after_list)\n",
    "\n",
    "print(len(before_list), statistics.median(before_list))\n",
    "print(len(after_list), statistics.median(after_list))\n"
   ]
  },
  {
   "cell_type": "code",
   "execution_count": 39,
   "metadata": {},
   "outputs": [
    {
     "data": {
      "image/png": "[encoded data removed]",
      "text/plain": [
       "<Figure size 144x360 with 1 Axes>"
      ]
     },
     "metadata": {
      "needs_background": "light"
     },
     "output_type": "display_data"
    }
   ],
   "source": [
    "import matplotlib.pyplot as plt\n",
    "import math\n",
    "import matplotlib\n",
    "matplotlib.rcParams['text.usetex'] = True\n",
    "matplotlib.rcParams['pdf.fonttype'] = 42\n",
    "matplotlib.rcParams['ps.fonttype'] = 42\n",
    "\n",
    "data = [before_list, after_list]\n",
    "\n",
    "values = []\n",
    "\n",
    "position = 0\n",
    "positions = []\n",
    "labels = []\n",
    "colors = []\n",
    "\n",
    "for i, v in enumerate(data):\n",
    "    labels.append(\"%d.txt\" % (i+1))\n",
    "    values.append(v)\n",
    "    colors.append('C'+str(int(i)))\n",
    "    positions.append(position)\n",
    "    position += 1\n",
    "\n",
    "\n",
    "plt.figure(figsize=(2, 5))\n",
    "\n",
    "box_plot_data = values\n",
    "box = plt.boxplot(box_plot_data, patch_artist=True, labels=labels, widths=0.4, positions=positions, showfliers=False)\n",
    "\n",
    "for patch, color in zip(box['boxes'], colors):\n",
    "    patch.set_facecolor(color)\n",
    "\n",
    "for median in box['medians']:\n",
    "    median.set(color='black', linewidth=2)\n",
    "\n",
    "plt.tick_params(labelsize=20)\n",
    "\n",
    "# plt.axis('off')\n",
    "\n",
    "ax = plt.gca()\n",
    "ax.tick_params(axis=u'both', which=u'both',length=0)\n",
    "ax.axvline(x=1.5, color='black', linestyle=\"-\", linewidth=1)\n",
    "# ax.axvline(x=3.5, color='black', linestyle=\"-\", linewidth=1)\n",
    "# ax.axvline(x=5.5, color='black', linestyle=\"-\", linewidth=1)\n",
    "# ax.axvline(x=7.5, color='black', linestyle=\"-\", linewidth=1)\n",
    "\n",
    "plt.title(\"MRB (s3, s6)\", fontsize = 20)\n",
    "plt.ylabel(\"cardinality RE ($\\%$)\", fontsize = 20)\n",
    "plt.ylim([0, 5])\n",
    "# from matplotlib.ticker import MultipleLocator\n",
    "# ax.yaxis.set_major_locator(MultipleLocator(0.5))\n",
    "plt.legend([box['boxes'][0], box['boxes'][1]], ['before', 'after'], loc=1, bbox_to_anchor=(1,1.5), fontsize=15)\n",
    "plt.xticks([0.5], [\"trace1\"])\n",
    "\n",
    "\n",
    "plt.grid(color='gray', linestyle='--', linewidth=1)\n",
    "ax.xaxis.grid(False)\n",
    "plt.tight_layout()\n",
    "plt.savefig(\"mrb.png\", bbox_inches='tight', pad_inches=0.2)\n",
    "plt.show()\n",
    "plt.close()\n"
   ]
  },
  {
   "cell_type": "code",
   "execution_count": null,
   "metadata": {},
   "outputs": [],
   "source": []
  },
  {
   "cell_type": "code",
   "execution_count": null,
   "metadata": {},
   "outputs": [],
   "source": []
  },
  {
   "cell_type": "code",
   "execution_count": 40,
   "metadata": {},
   "outputs": [
    {
     "name": "stdout",
     "output_type": "stream",
     "text": [
      "[15.633208473459401, 17.54522072579082, 17.851420231406646, 19.470031737054423, 19.139426002524896, 19.361476507824175, 10.894002273672342, 9.641314278658822, 16.369667230176212, 17.359345010003295, 17.97167748308484, 18.288760276122463, 19.272823469223965, 19.252617400478382, 10.629438071154079, 9.908098618755025, 16.144067655594732, 16.400775390494786, 17.1487685460077, 18.821128667015188, 19.594398226328643, 19.55712523578696, 11.18902886678536, 9.724373929044596, 16.5768967917514, 17.00114549427174, 18.17423796662821, 18.712761103931076, 18.83748417419164, 20.564197593995303, 10.907184369224042, 9.800968805552753, 16.831306214445775, 16.637549499422917, 17.612093178133037, 18.093504546776906, 17.852200400067186, 18.43550345838612, 10.917953699349127, 10.392570126225062, 16.015605677329063, 17.96570619070926, 19.063242172893037, 19.787943119265766, 21.755347563077077, 20.773152746147225, 10.634211344323932, 8.819173784565166, 14.241449175640582, 12.4726787863684, 13.379234125800519, 13.546077124622888, 14.218929242688134, 15.210379061560051, 14.024116031232273, 13.518081868265682, 12.507196854251331, 13.15062921954581, 15.023439939943186, 20.9497624376916, 22.204328405686383, 22.140061201896817, 13.862648480256532, 7.889489229998834, 23.31124962542722, 22.889899967871937, 24.26170294356504, 24.907222525920833, 22.592792897251215, 24.116046717521666, 6.126053116715479, 5.8127066685707245, 22.55175375348214, 22.333907283382995, 23.99459353315581, 25.861850251259575, 26.898692766723016, 24.003625369244574, 6.364844212437706, 4.996573205950875]\n",
      "[16.10927826950125, 17.912627628454498, 18.89740209726871, 19.15261158684838, 19.60527900802917, 19.656979797887086, 10.638332195381258, 9.603524515820943, 16.807563021415735, 17.70060523397315, 18.78833820549314, 18.652724176607695, 19.636882951862358, 19.55111529781265, 10.451048380345963, 9.825137087996124, 16.43799515727789, 16.98801722654399, 17.797250165665346, 19.18121767549147, 19.117325282466894, 19.55697573567875, 10.972950516517832, 9.735370190151425, 17.697461734141648, 17.34289087157882, 18.448378615953757, 18.897169700340353, 19.749615093226673, 20.081126933688008, 10.580359573424582, 9.517841689430037, 17.25401821534814, 17.015389547992623, 18.592689994867225, 19.065690699999596, 18.286246009808853, 18.586843215315906, 10.638043688588231, 10.225914571430975, 16.48377881521845, 18.260627596412384, 19.611044895378082, 20.430973987627013, 21.447646674551084, 22.002767852405253, 10.521922457321379, 8.597673377784794, 14.377346103265504, 13.24363598580498, 13.743875439832609, 14.1552490921732, 14.420125884718008, 15.292377754352737, 13.76310071985328, 13.459710923848208, 13.180054951357148, 13.830990486874706, 14.397218118023783, 20.19949302160145, 22.499669370248927, 22.879079374593772, 13.808079285292136, 8.054914606399578, 23.831419220297448, 23.3291534072025, 25.42037803707852, 25.639880014794237, 25.498783362979594, 23.32518322319451, 5.817691909229272, 5.492646805115585, 22.848738049208308, 22.9023107783353, 24.627054977823796, 26.103601164000867, 27.660677601752344, 26.314065565822325, 6.214093963225895, 4.264401994020036]\n",
      "80 17.452282867897058\n",
      "80 17.854938897059924\n"
     ]
    }
   ],
   "source": [
    "# Entropy\n",
    "before_list = []\n",
    "after_list = []\n",
    "\n",
    "for pcap_dir in pcap_dir_list:\n",
    "    for inst_name in [\"inst1\", \"inst7\"]:\n",
    "        before_pkl_path = os.path.join(before_path, pcap_dir, inst_name)\n",
    "        saver = PklSaver(before_pkl_path, \"data.pkl\")\n",
    "        before_list += saver.load()\n",
    "\n",
    "        after_pkl_path = os.path.join(after_path, pcap_dir, inst_name)\n",
    "        saver = PklSaver(after_pkl_path, \"data.pkl\")\n",
    "        after_list += saver.load()\n",
    "\n",
    "print(before_list)\n",
    "print(after_list)\n",
    "\n",
    "print(len(before_list), statistics.median(before_list))\n",
    "print(len(after_list), statistics.median(after_list))\n"
   ]
  },
  {
   "cell_type": "code",
   "execution_count": 41,
   "metadata": {},
   "outputs": [
    {
     "data": {
      "image/png": "[encoded data removed]",
      "text/plain": [
       "<Figure size 144x360 with 1 Axes>"
      ]
     },
     "metadata": {
      "needs_background": "light"
     },
     "output_type": "display_data"
    }
   ],
   "source": [
    "import matplotlib.pyplot as plt\n",
    "import math\n",
    "import matplotlib\n",
    "matplotlib.rcParams['text.usetex'] = True\n",
    "matplotlib.rcParams['pdf.fonttype'] = 42\n",
    "matplotlib.rcParams['ps.fonttype'] = 42\n",
    "\n",
    "data = [before_list, after_list]\n",
    "\n",
    "values = []\n",
    "\n",
    "position = 0\n",
    "positions = []\n",
    "labels = []\n",
    "colors = []\n",
    "\n",
    "for i, v in enumerate(data):\n",
    "    labels.append(\"%d.txt\" % (i+1))\n",
    "    values.append(v)\n",
    "    colors.append('C'+str(int(i)))\n",
    "    positions.append(position)\n",
    "    position += 1\n",
    "\n",
    "\n",
    "plt.figure(figsize=(2, 5))\n",
    "\n",
    "box_plot_data = values\n",
    "box = plt.boxplot(box_plot_data, patch_artist=True, labels=labels, widths=0.4, positions=positions, showfliers=False)\n",
    "\n",
    "for patch, color in zip(box['boxes'], colors):\n",
    "    patch.set_facecolor(color)\n",
    "\n",
    "for median in box['medians']:\n",
    "    median.set(color='black', linewidth=2)\n",
    "\n",
    "plt.tick_params(labelsize=20)\n",
    "\n",
    "# plt.axis('off')\n",
    "\n",
    "ax = plt.gca()\n",
    "ax.tick_params(axis=u'both', which=u'both',length=0)\n",
    "ax.axvline(x=1.5, color='black', linestyle=\"-\", linewidth=1)\n",
    "# ax.axvline(x=3.5, color='black', linestyle=\"-\", linewidth=1)\n",
    "# ax.axvline(x=5.5, color='black', linestyle=\"-\", linewidth=1)\n",
    "# ax.axvline(x=7.5, color='black', linestyle=\"-\", linewidth=1)\n",
    "\n",
    "plt.title(\"Entropy (s1, s7)\", fontsize = 20)\n",
    "plt.ylabel(\"entropy RE ($\\%$)\", fontsize = 20)\n",
    "# plt.ylim([0, 5])\n",
    "# from matplotlib.ticker import MultipleLocator\n",
    "# ax.yaxis.set_major_locator(MultipleLocator(0.5))\n",
    "plt.legend([box['boxes'][0], box['boxes'][1]], ['before', 'after'], loc=1, bbox_to_anchor=(1,1.5), fontsize=15)\n",
    "plt.xticks([0.5], [\"trace1\"])\n",
    "\n",
    "\n",
    "plt.grid(color='gray', linestyle='--', linewidth=1)\n",
    "ax.xaxis.grid(False)\n",
    "plt.tight_layout()\n",
    "plt.savefig(\"entropy.png\", bbox_inches='tight', pad_inches=0.2)\n",
    "plt.show()\n",
    "plt.close()\n"
   ]
  },
  {
   "cell_type": "code",
   "execution_count": null,
   "metadata": {},
   "outputs": [],
   "source": []
  },
  {
   "cell_type": "code",
   "execution_count": null,
   "metadata": {},
   "outputs": [],
   "source": []
  },
  {
   "cell_type": "code",
   "execution_count": 2,
   "metadata": {},
   "outputs": [
    {
     "name": "stdout",
     "output_type": "stream",
     "text": [
      "[0.5096317462312798, 0.5124939818873622, 0.46294474266097635, 0.46314952074636323, 0.49256936355867487, 0.4751362412949542, 0.49205942171844036, 0.48212968675706375, 0.49477946264265665, 0.4748766071821279, 0.4234428178968139, 0.4902306555788233, 0.5114434179465083, 0.4827677733986425, 0.4559138871559404, 0.46835791740308086, 0.5326444682126767, 0.48586517943912366, 0.47245190009495314, 0.46761515298874506, 0.4955381126120078, 0.4649439918985653, 0.41279496898620893, 0.5035568288047494, 0.5164225403567249, 0.4616497633222486, 0.4311165482982254, 0.5332751060566074, 0.5160692858871522, 0.47236993248685205, 0.4487902719263981, 0.49848737165166174, 0.48003806576632235, 0.45013405684045277, 0.4896730617644552, 0.47015052612586067, 0.5490987117891103, 0.4655739924991852, 0.4527320422821768, 0.48279020033525827]\n",
      "[0.4806744892338174, 0.45522512602197396, 0.4513301399857303, 0.45130241629889384, 0.4885089507354396, 0.41884167834861297, 0.45336447910768946, 0.41746574969658923, 0.4744991293667148, 0.4591717373756726, 0.43132305999736836, 0.4548291576887713, 0.46989910627529713, 0.4838090773353365, 0.4584268178534627, 0.4538775411586325, 0.5121113326679491, 0.48095632179641407, 0.4674118660766944, 0.42486644571131316, 0.5125370665378699, 0.4651456760691542, 0.42530632770382515, 0.4669194515092528, 0.5220729340394921, 0.43429844512873633, 0.4213376993036805, 0.5286010751447496, 0.49603753908576054, 0.4766106111649544, 0.43582191853617736, 0.465373106264662, 0.46149559281556535, 0.3853710020636452, 0.4202682334403929, 0.45095347776323874, 0.515312643278949, 0.43036401994563256, 0.4773624662602989, 0.4405397867183638]\n",
      "40 0.481083876261693\n",
      "40 0.4587992776145676\n"
     ]
    }
   ],
   "source": [
    "# MRAC\n",
    "before_list = []\n",
    "after_list = []\n",
    "\n",
    "for pcap_dir in pcap_dir_list:\n",
    "    for inst_name in [\"inst4\", \"inst10\"]:\n",
    "        before_pkl_path = os.path.join(before_path, pcap_dir, inst_name)\n",
    "        saver = PklSaver(before_pkl_path, \"data.pkl\")\n",
    "        before_list += saver.load()\n",
    "\n",
    "        after_pkl_path = os.path.join(after_path, pcap_dir, inst_name)\n",
    "        saver = PklSaver(after_pkl_path, \"data.pkl\")\n",
    "        after_list += saver.load()\n",
    "\n",
    "print(before_list)\n",
    "print(after_list)\n",
    "print(len(before_list), statistics.median(before_list))\n",
    "print(len(after_list), statistics.median(after_list))\n"
   ]
  },
  {
   "cell_type": "code",
   "execution_count": 3,
   "metadata": {},
   "outputs": [
    {
     "data": {
      "image/png": "[encoded data removed]",
      "text/plain": [
       "<Figure size 180x360 with 1 Axes>"
      ]
     },
     "metadata": {
      "needs_background": "light"
     },
     "output_type": "display_data"
    }
   ],
   "source": [
    "import matplotlib.pyplot as plt\n",
    "import math\n",
    "import matplotlib\n",
    "matplotlib.rcParams['text.usetex'] = True\n",
    "matplotlib.rcParams['pdf.fonttype'] = 42\n",
    "matplotlib.rcParams['ps.fonttype'] = 42\n",
    "\n",
    "data = [before_list, after_list]\n",
    "\n",
    "values = []\n",
    "\n",
    "position = 0\n",
    "positions = []\n",
    "labels = []\n",
    "colors = []\n",
    "\n",
    "for i, v in enumerate(data):\n",
    "    labels.append(\"%d.txt\" % (i+1))\n",
    "    values.append(v)\n",
    "    colors.append('C'+str(int(i)))\n",
    "    positions.append(position)\n",
    "    position += 1\n",
    "\n",
    "\n",
    "plt.figure(figsize=(2.5, 5))\n",
    "\n",
    "box_plot_data = values\n",
    "box = plt.boxplot(box_plot_data, patch_artist=True, labels=labels, widths=0.4, positions=positions, showfliers=False)\n",
    "\n",
    "for patch, color in zip(box['boxes'], colors):\n",
    "    patch.set_facecolor(color)\n",
    "\n",
    "for median in box['medians']:\n",
    "    median.set(color='black', linewidth=2)\n",
    "\n",
    "plt.tick_params(labelsize=20)\n",
    "\n",
    "# plt.axis('off')\n",
    "\n",
    "ax = plt.gca()\n",
    "ax.tick_params(axis=u'both', which=u'both',length=0)\n",
    "ax.axvline(x=1.5, color='black', linestyle=\"-\", linewidth=1)\n",
    "# ax.axvline(x=3.5, color='black', linestyle=\"-\", linewidth=1)\n",
    "# ax.axvline(x=5.5, color='black', linestyle=\"-\", linewidth=1)\n",
    "# ax.axvline(x=7.5, color='black', linestyle=\"-\", linewidth=1)\n",
    "\n",
    "plt.title(\"MRAC (s4, s10)\", fontsize = 20)\n",
    "plt.ylabel(\"WMRD\", fontsize = 20)\n",
    "plt.ylim([0.3, 0.7])\n",
    "# from matplotlib.ticker import MultipleLocator\n",
    "# ax.yaxis.set_major_locator(MultipleLocator(0.5))\n",
    "plt.legend([box['boxes'][0], box['boxes'][1]], ['before', 'after'], loc=1, bbox_to_anchor=(1,1.5), fontsize=15)\n",
    "plt.xticks([0.5], [\"trace1\"])\n",
    "\n",
    "\n",
    "plt.grid(color='gray', linestyle='--', linewidth=1)\n",
    "ax.xaxis.grid(False)\n",
    "plt.tight_layout()\n",
    "plt.savefig(\"mrac.png\", bbox_inches='tight', pad_inches=0.2)\n",
    "plt.show()\n",
    "plt.close()\n"
   ]
  },
  {
   "cell_type": "code",
   "execution_count": null,
   "metadata": {},
   "outputs": [],
   "source": []
  },
  {
   "cell_type": "code",
   "execution_count": null,
   "metadata": {},
   "outputs": [],
   "source": []
  },
  {
   "cell_type": "code",
   "execution_count": null,
   "metadata": {},
   "outputs": [],
   "source": []
  },
  {
   "cell_type": "code",
   "execution_count": 44,
   "metadata": {},
   "outputs": [
    {
     "name": "stdout",
     "output_type": "stream",
     "text": [
      "[0.9260160392571324, 0.6461189787318188, 0.5913671085586486, 0.501178436971372, 0.5479641356755992, 0.8347548285408709, 0.8562296229804397, 0.5928557007318357, 0.8137770080834916, 0.6780948250494305, 0.5349668421228315, 0.48501131169597217, 0.8139864115116481, 0.46175762368095186, 0.6078420647398939, 1.0172032332499439, 0.6361275922186562, 0.7320606848937813, 0.5189389421976071, 0.7243121947492531, 0.8664203836771341, 0.934009795576982, 0.5284429115171811, 1.4685086775626706, 0.754729251843153, 0.7986164038768002, 0.8440531989687274, 0.7158008951814285, 0.839025092478218, 0.7529899435484944, 0.8509878304424356, 0.7476162398966321, 0.6025991343002103, 1.058036652793, 0.5781250529175429, 0.8761275668381294, 0.9377219351611701, 0.990051870109177, 0.6548465832132264, 0.9078079976992695, 0.7278758323765754, 0.7463810888172658, 0.9290702674851273, 0.7581230879533752, 0.6398124217958132, 0.7058815221822491, 0.6748619823037815, 0.7033420302477985, 0.8032704963066917, 0.9382852031097548, 0.6983737289009558, 0.8900546218618145, 0.7769238998598227, 0.7461560310043649, 0.736694877129888, 0.718591293120621, 0.6259754389380224, 0.7330811176914794, 0.5588055983141533, 0.7655429953057825]\n",
      "[0.8523779584094929, 0.46859826378707065, 0.5803209119163248, 0.44811930425240953, 0.42592784691204977, 0.5640324385435239, 0.8390142464203673, 0.5453292332500114, 0.6631580643083894, 0.6219268590960797, 0.6722352141604914, 0.7130859049787466, 0.7626489933755124, 0.44617600960157594, 0.7285707525675009, 0.5130462612872138, 0.6519985738916927, 0.7457870198601786, 0.6366172816795066, 0.7725569213545811, 0.988944785090874, 1.018137379058025, 0.6191584108536908, 0.5277745869362329, 0.6904449511705466, 0.8643416479012018, 0.855203825745213, 0.7961559174231618, 0.7832054883135977, 0.7068097314465963, 0.7924816891687773, 0.7640172596882657, 0.5953702666586799, 0.5767434946667067, 0.8555212771974335, 0.6819299775911841, 0.9107008090490267, 0.9597097327560227, 0.5594480096652359, 0.9244385170164751, 0.7632767818522613, 0.8132778268371301, 0.9713169535227371, 0.9276120221129637, 0.89225711080012, 0.6442177700381788, 0.6134181244691628, 0.81208520333851, 0.7779023957100287, 0.7146590102615538, 0.7752547846357616, 0.7991925811505368, 0.8132429073599962, 0.70127280369747, 0.7636638725477244, 0.6132009568766315, 0.7052690366340112, 0.7177149484657092, 0.8124646065468876, 0.49283734762178577]\n",
      "60 0.7414254540671265\n",
      "60 0.7231428505166051\n"
     ]
    }
   ],
   "source": [
    "# CS\n",
    "before_list = []\n",
    "after_list = []\n",
    "\n",
    "for pcap_dir in pcap_dir_list:\n",
    "    for inst_name in [\"inst2\"]:\n",
    "        before_pkl_path = os.path.join(before_path, pcap_dir, inst_name)\n",
    "        saver = PklSaver(before_pkl_path, \"data.pkl\")\n",
    "        before_list += saver.load()\n",
    "\n",
    "        after_pkl_path = os.path.join(after_path, pcap_dir, inst_name)\n",
    "        saver = PklSaver(after_pkl_path, \"data.pkl\")\n",
    "        after_list += saver.load()\n",
    "\n",
    "print(before_list)\n",
    "print(after_list)\n",
    "\n",
    "print(len(before_list), statistics.median(before_list))\n",
    "print(len(after_list), statistics.median(after_list))\n"
   ]
  },
  {
   "cell_type": "code",
   "execution_count": 45,
   "metadata": {},
   "outputs": [
    {
     "data": {
      "image/png": "[encoded data removed]",
      "text/plain": [
       "<Figure size 180x360 with 1 Axes>"
      ]
     },
     "metadata": {
      "needs_background": "light"
     },
     "output_type": "display_data"
    }
   ],
   "source": [
    "import matplotlib.pyplot as plt\n",
    "import math\n",
    "import matplotlib\n",
    "matplotlib.rcParams['text.usetex'] = True\n",
    "matplotlib.rcParams['pdf.fonttype'] = 42\n",
    "matplotlib.rcParams['ps.fonttype'] = 42\n",
    "\n",
    "data = [before_list, after_list]\n",
    "\n",
    "values = []\n",
    "\n",
    "position = 0\n",
    "positions = []\n",
    "labels = []\n",
    "colors = []\n",
    "\n",
    "for i, v in enumerate(data):\n",
    "    labels.append(\"%d.txt\" % (i+1))\n",
    "    values.append(v)\n",
    "    colors.append('C'+str(int(i)))\n",
    "    positions.append(position)\n",
    "    position += 1\n",
    "\n",
    "\n",
    "plt.figure(figsize=(2.5, 5))\n",
    "\n",
    "box_plot_data = values\n",
    "box = plt.boxplot(box_plot_data, patch_artist=True, labels=labels, widths=0.4, positions=positions, showfliers=False)\n",
    "\n",
    "for patch, color in zip(box['boxes'], colors):\n",
    "    patch.set_facecolor(color)\n",
    "\n",
    "for median in box['medians']:\n",
    "    median.set(color='black', linewidth=2)\n",
    "\n",
    "plt.tick_params(labelsize=20)\n",
    "\n",
    "# plt.axis('off')\n",
    "\n",
    "ax = plt.gca()\n",
    "ax.tick_params(axis=u'both', which=u'both',length=0)\n",
    "ax.axvline(x=1.5, color='black', linestyle=\"-\", linewidth=1)\n",
    "# ax.axvline(x=3.5, color='black', linestyle=\"-\", linewidth=1)\n",
    "# ax.axvline(x=5.5, color='black', linestyle=\"-\", linewidth=1)\n",
    "# ax.axvline(x=7.5, color='black', linestyle=\"-\", linewidth=1)\n",
    "\n",
    "# plt.title(\"CM(inst6) CS(inst7), Kary(inst8)\", fontsize = 20)\n",
    "plt.title(\"CS(s2)\", fontsize = 20)\n",
    "plt.ylabel(\"ARE ($\\%$)\", fontsize = 20)\n",
    "# plt.ylim([0, 6])\n",
    "# from matplotlib.ticker import MultipleLocator\n",
    "# ax.yaxis.set_major_locator(MultipleLocator(2))\n",
    "plt.legend([box['boxes'][0], box['boxes'][1]], ['before', 'after'], loc=1, bbox_to_anchor=(1,1.5), fontsize=15)\n",
    "plt.xticks([0.5], [\"trace1\"])\n",
    "\n",
    "\n",
    "plt.grid(color='gray', linestyle='--', linewidth=1)\n",
    "ax.xaxis.grid(False)\n",
    "plt.tight_layout()\n",
    "plt.savefig(\"CS.png\", bbox_inches='tight', pad_inches=0.2)\n",
    "plt.show()\n",
    "plt.close()\n"
   ]
  },
  {
   "cell_type": "code",
   "execution_count": null,
   "metadata": {},
   "outputs": [],
   "source": []
  },
  {
   "cell_type": "code",
   "execution_count": null,
   "metadata": {},
   "outputs": [],
   "source": []
  },
  {
   "cell_type": "code",
   "execution_count": 46,
   "metadata": {},
   "outputs": [
    {
     "name": "stdout",
     "output_type": "stream",
     "text": [
      "[3.1604129514641386, 3.454695146657391, 4.1642736741674415, 3.517644214909158, 3.480456782812663, 2.9026070232695975, 4.068582049391942, 4.524186734939415, 4.262988279838961, 3.7301414916323643, 4.165298716123588, 3.497216852612652, 3.54585669190329, 3.851425755611473, 4.497746698422906, 4.045726406487396, 3.176425215948175, 3.125618192236504, 4.734575993291807, 3.048421765116253]\n",
      "[3.043142550170474, 3.615301022959343, 3.9440247952435414, 3.6459998345570357, 3.268797389753446, 3.384277908670431, 4.075422057195535, 2.927406354307398, 4.194632917207978, 3.958495258360656, 4.088226384109483, 3.3284809357266147, 3.4330469668150982, 4.004415926011919, 4.5343555765895855, 3.6819673951151812, 3.226962529376395, 3.35921115748889, 4.582608455703752, 2.536676308541003]\n",
      "20 3.637999091767827\n",
      "20 3.630650428758189\n"
     ]
    }
   ],
   "source": [
    "# CM\n",
    "before_list = []\n",
    "after_list = []\n",
    "\n",
    "for pcap_dir in pcap_dir_list:\n",
    "    for inst_name in [\"inst8\"]:\n",
    "        before_pkl_path = os.path.join(before_path, pcap_dir, inst_name)\n",
    "        saver = PklSaver(before_pkl_path, \"data.pkl\")\n",
    "        before_list += saver.load()\n",
    "\n",
    "        after_pkl_path = os.path.join(after_path, pcap_dir, inst_name)\n",
    "        saver = PklSaver(after_pkl_path, \"data.pkl\")\n",
    "        after_list += saver.load()\n",
    "\n",
    "print(before_list)\n",
    "print(after_list)\n",
    "\n",
    "print(len(before_list), statistics.median(before_list))\n",
    "print(len(after_list), statistics.median(after_list))\n"
   ]
  },
  {
   "cell_type": "code",
   "execution_count": 47,
   "metadata": {},
   "outputs": [
    {
     "data": {
      "image/png": "[encoded data removed]",
      "text/plain": [
       "<Figure size 180x360 with 1 Axes>"
      ]
     },
     "metadata": {
      "needs_background": "light"
     },
     "output_type": "display_data"
    }
   ],
   "source": [
    "import matplotlib.pyplot as plt\n",
    "import math\n",
    "import matplotlib\n",
    "matplotlib.rcParams['text.usetex'] = True\n",
    "matplotlib.rcParams['pdf.fonttype'] = 42\n",
    "matplotlib.rcParams['ps.fonttype'] = 42\n",
    "\n",
    "data = [before_list, after_list]\n",
    "\n",
    "values = []\n",
    "\n",
    "position = 0\n",
    "positions = []\n",
    "labels = []\n",
    "colors = []\n",
    "\n",
    "for i, v in enumerate(data):\n",
    "    labels.append(\"%d.txt\" % (i+1))\n",
    "    values.append(v)\n",
    "    colors.append('C'+str(int(i)))\n",
    "    positions.append(position)\n",
    "    position += 1\n",
    "\n",
    "\n",
    "plt.figure(figsize=(2.5, 5))\n",
    "\n",
    "box_plot_data = values\n",
    "box = plt.boxplot(box_plot_data, patch_artist=True, labels=labels, widths=0.4, positions=positions, showfliers=False)\n",
    "\n",
    "for patch, color in zip(box['boxes'], colors):\n",
    "    patch.set_facecolor(color)\n",
    "\n",
    "for median in box['medians']:\n",
    "    median.set(color='black', linewidth=2)\n",
    "\n",
    "plt.tick_params(labelsize=20)\n",
    "\n",
    "# plt.axis('off')\n",
    "\n",
    "ax = plt.gca()\n",
    "ax.tick_params(axis=u'both', which=u'both',length=0)\n",
    "ax.axvline(x=1.5, color='black', linestyle=\"-\", linewidth=1)\n",
    "# ax.axvline(x=3.5, color='black', linestyle=\"-\", linewidth=1)\n",
    "# ax.axvline(x=5.5, color='black', linestyle=\"-\", linewidth=1)\n",
    "# ax.axvline(x=7.5, color='black', linestyle=\"-\", linewidth=1)\n",
    "\n",
    "# plt.title(\"CM(inst6) CS(inst7), Kary(inst8)\", fontsize = 20)\n",
    "plt.title(\"CM(s8)\", fontsize = 20)\n",
    "plt.ylabel(\"ARE ($\\%$)\", fontsize = 20)\n",
    "# plt.ylim([0, 4])\n",
    "# from matplotlib.ticker import MultipleLocator\n",
    "# ax.yaxis.set_major_locator(MultipleLocator(2))\n",
    "plt.legend([box['boxes'][0], box['boxes'][1]], ['before', 'after'], loc=1, bbox_to_anchor=(1,1.5), fontsize=15)\n",
    "plt.xticks([0.5], [\"trace1\"])\n",
    "\n",
    "\n",
    "plt.grid(color='gray', linestyle='--', linewidth=1)\n",
    "ax.xaxis.grid(False)\n",
    "plt.tight_layout()\n",
    "plt.savefig(\"CM.png\", bbox_inches='tight', pad_inches=0.2)\n",
    "plt.show()\n",
    "plt.close()\n"
   ]
  },
  {
   "cell_type": "code",
   "execution_count": null,
   "metadata": {},
   "outputs": [],
   "source": []
  },
  {
   "cell_type": "code",
   "execution_count": null,
   "metadata": {},
   "outputs": [],
   "source": []
  },
  {
   "cell_type": "code",
   "execution_count": 4,
   "metadata": {},
   "outputs": [
    {
     "name": "stdout",
     "output_type": "stream",
     "text": [
      "[6.069713545069736, 5.119778613731137, 7.2983613737442115, 7.960891285172784, 5.5663727980853865, 24.203583443074702, 9.43847296814481, 13.706634099003049, 7.335996582708338, 2.551474407966085]\n",
      "[1.7568242623388541, 2.776760858689148, 1.4558078971339825, 2.637357508656856, 1.6823737870772284, 2.157617875885081, 2.8187986795173234, 2.6763632327080473, 1.872901235686091, 2.6413942319545614]\n",
      "10 7.317178978226275\n",
      "10 2.3974876922709685\n"
     ]
    }
   ],
   "source": [
    "# Kary\n",
    "before_list = []\n",
    "after_list = []\n",
    "\n",
    "for pcap_dir in pcap_dir_list:\n",
    "    for inst_name in [\"inst9\"]:\n",
    "        before_pkl_path = os.path.join(before_path, pcap_dir, inst_name)\n",
    "        saver = PklSaver(before_pkl_path, \"data.pkl\")\n",
    "        before_list += saver.load()\n",
    "\n",
    "        after_pkl_path = os.path.join(after_path, pcap_dir, inst_name)\n",
    "        saver = PklSaver(after_pkl_path, \"data.pkl\")\n",
    "        after_list += saver.load()\n",
    "\n",
    "print(before_list)\n",
    "print(after_list)\n",
    "\n",
    "print(len(before_list), statistics.median(before_list))\n",
    "print(len(after_list), statistics.median(after_list))\n"
   ]
  },
  {
   "cell_type": "code",
   "execution_count": 5,
   "metadata": {},
   "outputs": [
    {
     "data": {
      "image/png": "[encoded data removed]",
      "text/plain": [
       "<Figure size 180x360 with 1 Axes>"
      ]
     },
     "metadata": {
      "needs_background": "light"
     },
     "output_type": "display_data"
    }
   ],
   "source": [
    "import matplotlib.pyplot as plt\n",
    "import math\n",
    "import matplotlib\n",
    "matplotlib.rcParams['text.usetex'] = True\n",
    "matplotlib.rcParams['pdf.fonttype'] = 42\n",
    "matplotlib.rcParams['ps.fonttype'] = 42\n",
    "\n",
    "data = [before_list, after_list]\n",
    "\n",
    "values = []\n",
    "\n",
    "position = 0\n",
    "positions = []\n",
    "labels = []\n",
    "colors = []\n",
    "\n",
    "for i, v in enumerate(data):\n",
    "    labels.append(\"%d.txt\" % (i+1))\n",
    "    values.append(v)\n",
    "    colors.append('C'+str(int(i)))\n",
    "    positions.append(position)\n",
    "    position += 1\n",
    "\n",
    "\n",
    "plt.figure(figsize=(2.5, 5))\n",
    "\n",
    "box_plot_data = values\n",
    "box = plt.boxplot(box_plot_data, patch_artist=True, labels=labels, widths=0.4, positions=positions, showfliers=False)\n",
    "\n",
    "for patch, color in zip(box['boxes'], colors):\n",
    "    patch.set_facecolor(color)\n",
    "\n",
    "for median in box['medians']:\n",
    "    median.set(color='black', linewidth=2)\n",
    "\n",
    "plt.tick_params(labelsize=20)\n",
    "\n",
    "# plt.axis('off')\n",
    "\n",
    "ax = plt.gca()\n",
    "ax.tick_params(axis=u'both', which=u'both',length=0)\n",
    "ax.axvline(x=1.5, color='black', linestyle=\"-\", linewidth=1)\n",
    "# ax.axvline(x=3.5, color='black', linestyle=\"-\", linewidth=1)\n",
    "# ax.axvline(x=5.5, color='black', linestyle=\"-\", linewidth=1)\n",
    "# ax.axvline(x=7.5, color='black', linestyle=\"-\", linewidth=1)\n",
    "\n",
    "# plt.title(\"CM(inst6) CS(inst7), Kary(inst8)\", fontsize = 20)\n",
    "plt.title(\"K-ary(s9)\", fontsize = 20)\n",
    "plt.ylabel(\"ARE ($\\%$)\", fontsize = 20)\n",
    "plt.ylim([0, 15])\n",
    "# from matplotlib.ticker import MultipleLocator\n",
    "# ax.yaxis.set_major_locator(MultipleLocator(2))\n",
    "plt.legend([box['boxes'][0], box['boxes'][1]], ['before', 'after'], loc=1, bbox_to_anchor=(1,1.5), fontsize=15)\n",
    "plt.xticks([0.5], [\"trace1\"])\n",
    "\n",
    "\n",
    "plt.grid(color='gray', linestyle='--', linewidth=1)\n",
    "ax.xaxis.grid(False)\n",
    "plt.tight_layout()\n",
    "plt.savefig(\"kary.png\", bbox_inches='tight', pad_inches=0.2)\n",
    "plt.show()\n",
    "plt.close()\n"
   ]
  }
 ],
 "metadata": {
  "kernelspec": {
   "display_name": "Python 3.7.1 ('base')",
   "language": "python",
   "name": "python3"
  },
  "language_info": {
   "codemirror_mode": {
    "name": "ipython",
    "version": 3
   },
   "file_extension": ".py",
   "mimetype": "text/x-python",
   "name": "python",
   "nbconvert_exporter": "python",
   "pygments_lexer": "ipython3",
   "version": "3.7.1"
  },
  "orig_nbformat": 4,
  "vscode": {
   "interpreter": {
    "hash": "25f3d71a74086e2048b405605cf8f4ef405c30c43c1b90e1cb1de581ffa0947a"
   }
  }
 },
 "nbformat": 4,
 "nbformat_minor": 2
}
