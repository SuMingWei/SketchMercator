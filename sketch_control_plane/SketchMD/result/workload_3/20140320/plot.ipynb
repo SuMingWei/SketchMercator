{
 "cells": [
  {
   "cell_type": "code",
   "execution_count": 15,
   "metadata": {},
   "outputs": [],
   "source": [
    "import sys\n",
    "sys.path.append('/Users/hnamkung/workspace/sketch_home')\n",
    "from python_lib.pkl_saver import PklSaver\n",
    "\n",
    "import os\n",
    "before_path = '/Users/hnamkung/workspace/sketch_home/sketch_control_plane/SketchMD/result/workload_3/20140320/before'\n",
    "after_path = '/Users/hnamkung/workspace/sketch_home/sketch_control_plane/SketchMD/result/workload_3/20140320/after'\n",
    "pcap_dir_list = sorted(os.listdir(before_path))\n",
    "\n",
    "import statistics\n"
   ]
  },
  {
   "cell_type": "code",
   "execution_count": null,
   "metadata": {},
   "outputs": [],
   "source": []
  },
  {
   "cell_type": "code",
   "execution_count": null,
   "metadata": {},
   "outputs": [],
   "source": []
  },
  {
   "cell_type": "code",
   "execution_count": null,
   "metadata": {},
   "outputs": [],
   "source": []
  },
  {
   "cell_type": "code",
   "execution_count": 2,
   "metadata": {},
   "outputs": [
    {
     "name": "stdout",
     "output_type": "stream",
     "text": [
      "[3.106881947395112, 0.815596104205632, 1.3505614520842948, 6.801731631537726, 1.1331012155641074, 2.1420364061523576, 4.01567754214656, 0.31335649320042597, 1.4020296965074655, 2.3881815939808284, 0.32168622806073005, 1.6603948565211963, 0.2530399456484062, 0.271961678127173, 2.139394704218661, 2.429325428385511, 1.0322381189564263, 2.17219170142772, 0.3394131641554322, 1.8930473533567624, 1.8485467463812866, 0.13774669366939152, 0.7330026076448515, 6.083821948376955, 0.8718123276347141, 1.5442283027783403, 0.6686238644922301, 0.738433630817411, 0.781546639665865, 2.093654705710347, 0.5444192860948321, 2.8000082292673896, 2.2188663897477223, 1.7450707816831317, 2.093536408158872, 2.2088867400434196, 2.174784599011561, 2.3178849196297695, 0.9370958884696462, 1.0273658462008868]\n",
      "[3.1055218228827153, 0.7636454171071266, 2.0783784888235055, 5.64906900328587, 1.4300116832209293, 1.9404207640300657, 4.374730177003886, 0.8046009310516012, 1.1844368800556349, 1.673813112440661, 0.30936853259748665, 0.07653578739649226, 0.559367820822701, 0.3940067969273258, 1.5088328757474125, 1.5128351825625346, 1.040654517871011, 1.9209958979607245, 0.3110728704745516, 1.3798874889581105, 2.658064888372814, 0.37145053732889877, 0.8673275680236237, 6.217058867196199, 0.9176366085619166, 1.8736449641942055, 0.8004499474246215, 0.11126364998609205, 1.2915682669600068, 1.274259597314232, 0.04347668562733234, 2.4575016480606915, 1.7845425009202796, 2.6393579266668388, 2.3475641425158407, 1.3126702063047355, 2.092069979799889, 2.502969700193252, 1.8453898805529458, 2.081943429594095]\n",
      "40 1.6023115796497684\n",
      "40 1.469422279484171\n"
     ]
    }
   ],
   "source": [
    "# HLL\n",
    "before_list = []\n",
    "after_list = []\n",
    "\n",
    "for pcap_dir in pcap_dir_list:\n",
    "    # print(pcap_dir)\n",
    "    for inst_name in [\"inst1\", \"inst2\"]:\n",
    "        before_pkl_path = os.path.join(before_path, pcap_dir, inst_name)\n",
    "        saver = PklSaver(before_pkl_path, \"data.pkl\")\n",
    "        before_list += saver.load()\n",
    "\n",
    "        after_pkl_path = os.path.join(after_path, pcap_dir, inst_name)\n",
    "        saver = PklSaver(after_pkl_path, \"data.pkl\")\n",
    "        after_list += saver.load()\n",
    "\n",
    "print(before_list)\n",
    "print(after_list)\n",
    "\n",
    "print(len(before_list), statistics.median(before_list))\n",
    "print(len(after_list), statistics.median(after_list))\n"
   ]
  },
  {
   "cell_type": "code",
   "execution_count": 4,
   "metadata": {},
   "outputs": [
    {
     "data": {
      "image/png": "[encoded data removed]",
      "text/plain": [
       "<Figure size 144x360 with 1 Axes>"
      ]
     },
     "metadata": {
      "needs_background": "light"
     },
     "output_type": "display_data"
    }
   ],
   "source": [
    "import matplotlib.pyplot as plt\n",
    "import math\n",
    "import matplotlib\n",
    "matplotlib.rcParams['text.usetex'] = True\n",
    "matplotlib.rcParams['pdf.fonttype'] = 42\n",
    "matplotlib.rcParams['ps.fonttype'] = 42\n",
    "\n",
    "data = [before_list, after_list]\n",
    "\n",
    "values = []\n",
    "\n",
    "position = 0\n",
    "positions = []\n",
    "labels = []\n",
    "colors = []\n",
    "\n",
    "for i, v in enumerate(data):\n",
    "    labels.append(\"%d.txt\" % (i+1))\n",
    "    values.append(v)\n",
    "    colors.append('C'+str(int(i)))\n",
    "    positions.append(position)\n",
    "    position += 1\n",
    "\n",
    "\n",
    "plt.figure(figsize=(2, 5))\n",
    "\n",
    "box_plot_data = values\n",
    "box = plt.boxplot(box_plot_data, patch_artist=True, labels=labels, widths=0.4, positions=positions, showfliers=False)\n",
    "\n",
    "for patch, color in zip(box['boxes'], colors):\n",
    "    patch.set_facecolor(color)\n",
    "\n",
    "for median in box['medians']:\n",
    "    median.set(color='black', linewidth=2)\n",
    "\n",
    "plt.tick_params(labelsize=20)\n",
    "\n",
    "# plt.axis('off')\n",
    "\n",
    "ax = plt.gca()\n",
    "ax.tick_params(axis=u'both', which=u'both',length=0)\n",
    "ax.axvline(x=1.5, color='black', linestyle=\"-\", linewidth=1)\n",
    "# ax.axvline(x=3.5, color='black', linestyle=\"-\", linewidth=1)\n",
    "# ax.axvline(x=5.5, color='black', linestyle=\"-\", linewidth=1)\n",
    "# ax.axvline(x=7.5, color='black', linestyle=\"-\", linewidth=1)\n",
    "\n",
    "plt.title(\"HLL (s1, s2)\", fontsize = 20)\n",
    "plt.ylabel(\"cardinality RE ($\\%$)\", fontsize = 20)\n",
    "plt.ylim([0, 5])\n",
    "# from matplotlib.ticker import MultipleLocator\n",
    "# ax.yaxis.set_major_locator(MultipleLocator(0.5))\n",
    "plt.legend([box['boxes'][0], box['boxes'][1]], ['before', 'after'], loc=1, bbox_to_anchor=(1,1.5), fontsize=15)\n",
    "plt.xticks([0.5], [\"trace1\"])\n",
    "\n",
    "\n",
    "plt.grid(color='gray', linestyle='--', linewidth=1)\n",
    "ax.xaxis.grid(False)\n",
    "plt.tight_layout()\n",
    "plt.savefig(\"hll.png\", bbox_inches='tight', pad_inches=0.2)\n",
    "plt.show()\n",
    "plt.close()\n"
   ]
  },
  {
   "cell_type": "code",
   "execution_count": null,
   "metadata": {},
   "outputs": [],
   "source": []
  },
  {
   "cell_type": "code",
   "execution_count": null,
   "metadata": {},
   "outputs": [],
   "source": []
  },
  {
   "cell_type": "code",
   "execution_count": 5,
   "metadata": {},
   "outputs": [
    {
     "name": "stdout",
     "output_type": "stream",
     "text": [
      "[0.8119104795841957, 0.6407813137586376, 0.6918234437594628, 0.08206109382610947, 0.8669512044978865, 0.01402702833021378, 0.38820787446403476, 0.023373450406389332, 0.5637666850066703, 0.3178940294284097, 1.1526121762736963, 0.921084673895916, 1.9738253593649433, 2.2338870828238244, 0.8819208150958451, 1.8611567356379928, 0.6011446796608543, 1.3221885922580283, 1.5439965851576316, 0.36907584386380854]\n",
      "[0.6743561333726574, 0.08631420186620391, 0.7217349804799048, 0.8171801384154919, 0.29789201047758107, 0.5013459103975577, 0.5843854997644549, 0.9148844847534804, 1.173247406852052, 0.691358926704081, 0.32448901237269173, 1.4584729394142457, 1.185205950948671, 2.105423005118402, 0.7655908502556921, 0.542376796984112, 0.39372185312346725, 1.2001198646119382, 0.9544741253254395, 0.805032759925866]\n",
      "20 0.7518669616718292\n",
      "20 0.7436629153677985\n"
     ]
    }
   ],
   "source": [
    "# PCSA\n",
    "before_list = []\n",
    "after_list = []\n",
    "\n",
    "for pcap_dir in pcap_dir_list:\n",
    "    # print(pcap_dir)\n",
    "    for inst_name in [\"inst6\"]:\n",
    "        before_pkl_path = os.path.join(before_path, pcap_dir, inst_name)\n",
    "        saver = PklSaver(before_pkl_path, \"data.pkl\")\n",
    "        before_list += saver.load()\n",
    "\n",
    "        after_pkl_path = os.path.join(after_path, pcap_dir, inst_name)\n",
    "        saver = PklSaver(after_pkl_path, \"data.pkl\")\n",
    "        after_list += saver.load()\n",
    "\n",
    "print(before_list)\n",
    "print(after_list)\n",
    "\n",
    "print(len(before_list), statistics.median(before_list))\n",
    "print(len(after_list), statistics.median(after_list))\n"
   ]
  },
  {
   "cell_type": "code",
   "execution_count": 6,
   "metadata": {},
   "outputs": [
    {
     "data": {
      "image/png": "[encoded data removed]",
      "text/plain": [
       "<Figure size 144x360 with 1 Axes>"
      ]
     },
     "metadata": {
      "needs_background": "light"
     },
     "output_type": "display_data"
    }
   ],
   "source": [
    "import matplotlib.pyplot as plt\n",
    "import math\n",
    "import matplotlib\n",
    "matplotlib.rcParams['text.usetex'] = True\n",
    "matplotlib.rcParams['pdf.fonttype'] = 42\n",
    "matplotlib.rcParams['ps.fonttype'] = 42\n",
    "\n",
    "data = [before_list, after_list]\n",
    "\n",
    "values = []\n",
    "\n",
    "position = 0\n",
    "positions = []\n",
    "labels = []\n",
    "colors = []\n",
    "\n",
    "for i, v in enumerate(data):\n",
    "    labels.append(\"%d.txt\" % (i+1))\n",
    "    values.append(v)\n",
    "    colors.append('C'+str(int(i)))\n",
    "    positions.append(position)\n",
    "    position += 1\n",
    "\n",
    "\n",
    "plt.figure(figsize=(2, 5))\n",
    "\n",
    "box_plot_data = values\n",
    "box = plt.boxplot(box_plot_data, patch_artist=True, labels=labels, widths=0.4, positions=positions, showfliers=False)\n",
    "\n",
    "for patch, color in zip(box['boxes'], colors):\n",
    "    patch.set_facecolor(color)\n",
    "\n",
    "for median in box['medians']:\n",
    "    median.set(color='black', linewidth=2)\n",
    "\n",
    "plt.tick_params(labelsize=20)\n",
    "\n",
    "# plt.axis('off')\n",
    "\n",
    "ax = plt.gca()\n",
    "ax.tick_params(axis=u'both', which=u'both',length=0)\n",
    "ax.axvline(x=1.5, color='black', linestyle=\"-\", linewidth=1)\n",
    "# ax.axvline(x=3.5, color='black', linestyle=\"-\", linewidth=1)\n",
    "# ax.axvline(x=5.5, color='black', linestyle=\"-\", linewidth=1)\n",
    "# ax.axvline(x=7.5, color='black', linestyle=\"-\", linewidth=1)\n",
    "\n",
    "plt.title(\"PCSA (s6)\", fontsize = 20)\n",
    "plt.ylabel(\"cardinality RE ($\\%$)\", fontsize = 20)\n",
    "plt.ylim([0, 5])\n",
    "# from matplotlib.ticker import MultipleLocator\n",
    "# ax.yaxis.set_major_locator(MultipleLocator(0.5))\n",
    "plt.legend([box['boxes'][0], box['boxes'][1]], ['before', 'after'], loc=1, bbox_to_anchor=(1,1.5), fontsize=15)\n",
    "plt.xticks([0.5], [\"trace1\"])\n",
    "\n",
    "\n",
    "plt.grid(color='gray', linestyle='--', linewidth=1)\n",
    "ax.xaxis.grid(False)\n",
    "plt.tight_layout()\n",
    "plt.savefig(\"pcsa.png\", bbox_inches='tight', pad_inches=0.2)\n",
    "plt.show()\n",
    "plt.close()\n"
   ]
  },
  {
   "cell_type": "code",
   "execution_count": null,
   "metadata": {},
   "outputs": [],
   "source": []
  },
  {
   "cell_type": "code",
   "execution_count": null,
   "metadata": {},
   "outputs": [],
   "source": []
  },
  {
   "cell_type": "code",
   "execution_count": null,
   "metadata": {},
   "outputs": [],
   "source": []
  },
  {
   "cell_type": "code",
   "execution_count": 7,
   "metadata": {},
   "outputs": [
    {
     "name": "stdout",
     "output_type": "stream",
     "text": [
      "[11.695681145947933, 13.730275571714365, 29.272469697676406, 28.339012975490125, 12.060323498944337, 13.309425569411523, 29.271482367220926, 28.438252005874016, 11.14471130705479, 13.394387355830698, 29.6790695303225, 28.60564891693119, 11.685547223930305, 13.627950477168142, 29.448607456728247, 28.719679216602557, 11.674720039919286, 12.708337132144099, 29.603223029532643, 28.669559031642837, 12.169294627038331, 14.97107048887062, 29.901975544949206, 28.674825488892242, 7.960654067819852, 8.794927839867476, 31.214561369709575, 30.769757490517787, 8.152613086761825, 15.802754322517428, 31.372506382428867, 25.866146816386916, 17.777999798436376, 18.291626742845914, 23.928577471812662, 24.30790939747253, 17.50064375242893, 19.62789006245447, 24.209283303996965, 23.318664769295527]\n",
      "[12.105100814841819, 13.76928290415534, 28.92691386741551, 28.284455251403173, 12.470855741485956, 13.752131385038371, 28.93960017477451, 28.111542376355736, 11.487575541854275, 13.628381554301816, 29.346950568533547, 28.53338345349497, 12.216330086131128, 13.829102076448441, 29.073029639824206, 28.37975482950196, 12.043617498192496, 12.843366305897206, 29.35233901378403, 28.547306775965588, 12.442452032787354, 15.19888198182658, 29.607074645487113, 28.533562318035422, 8.433968369013698, 8.918871145010675, 30.871947565853308, 30.684779698552905, 8.506573260238147, 15.541815343391447, 31.12902500704945, 25.981774994489637, 18.216342422880814, 18.764720725273687, 23.611436833590776, 23.837254822665617, 17.987559585376744, 20.485314928455164, 23.81798721835862, 22.641058980218656]\n",
      "40 21.473277415874996\n",
      "40 21.56318695433691\n"
     ]
    }
   ],
   "source": [
    "# Entropy\n",
    "before_list = []\n",
    "after_list = []\n",
    "\n",
    "for pcap_dir in pcap_dir_list:\n",
    "    for inst_name in [\"inst7\", \"inst10\"]:\n",
    "        before_pkl_path = os.path.join(before_path, pcap_dir, inst_name)\n",
    "        saver = PklSaver(before_pkl_path, \"data.pkl\")\n",
    "        before_list += saver.load()\n",
    "\n",
    "        after_pkl_path = os.path.join(after_path, pcap_dir, inst_name)\n",
    "        saver = PklSaver(after_pkl_path, \"data.pkl\")\n",
    "        after_list += saver.load()\n",
    "\n",
    "print(before_list)\n",
    "print(after_list)\n",
    "\n",
    "print(len(before_list), statistics.median(before_list))\n",
    "print(len(after_list), statistics.median(after_list))\n"
   ]
  },
  {
   "cell_type": "code",
   "execution_count": 8,
   "metadata": {},
   "outputs": [
    {
     "data": {
      "image/png": "[encoded data removed]",
      "text/plain": [
       "<Figure size 144x360 with 1 Axes>"
      ]
     },
     "metadata": {
      "needs_background": "light"
     },
     "output_type": "display_data"
    }
   ],
   "source": [
    "import matplotlib.pyplot as plt\n",
    "import math\n",
    "import matplotlib\n",
    "matplotlib.rcParams['text.usetex'] = True\n",
    "matplotlib.rcParams['pdf.fonttype'] = 42\n",
    "matplotlib.rcParams['ps.fonttype'] = 42\n",
    "\n",
    "data = [before_list, after_list]\n",
    "\n",
    "values = []\n",
    "\n",
    "position = 0\n",
    "positions = []\n",
    "labels = []\n",
    "colors = []\n",
    "\n",
    "for i, v in enumerate(data):\n",
    "    labels.append(\"%d.txt\" % (i+1))\n",
    "    values.append(v)\n",
    "    colors.append('C'+str(int(i)))\n",
    "    positions.append(position)\n",
    "    position += 1\n",
    "\n",
    "\n",
    "plt.figure(figsize=(2, 5))\n",
    "\n",
    "box_plot_data = values\n",
    "box = plt.boxplot(box_plot_data, patch_artist=True, labels=labels, widths=0.4, positions=positions, showfliers=False)\n",
    "\n",
    "for patch, color in zip(box['boxes'], colors):\n",
    "    patch.set_facecolor(color)\n",
    "\n",
    "for median in box['medians']:\n",
    "    median.set(color='black', linewidth=2)\n",
    "\n",
    "plt.tick_params(labelsize=20)\n",
    "\n",
    "# plt.axis('off')\n",
    "\n",
    "ax = plt.gca()\n",
    "ax.tick_params(axis=u'both', which=u'both',length=0)\n",
    "ax.axvline(x=1.5, color='black', linestyle=\"-\", linewidth=1)\n",
    "# ax.axvline(x=3.5, color='black', linestyle=\"-\", linewidth=1)\n",
    "# ax.axvline(x=5.5, color='black', linestyle=\"-\", linewidth=1)\n",
    "# ax.axvline(x=7.5, color='black', linestyle=\"-\", linewidth=1)\n",
    "\n",
    "plt.title(\"Entropy (s7, s10)\", fontsize = 20)\n",
    "plt.ylabel(\"entropy RE ($\\%$)\", fontsize = 20)\n",
    "# plt.ylim([0, 5])\n",
    "# from matplotlib.ticker import MultipleLocator\n",
    "# ax.yaxis.set_major_locator(MultipleLocator(0.5))\n",
    "plt.legend([box['boxes'][0], box['boxes'][1]], ['before', 'after'], loc=1, bbox_to_anchor=(1,1.5), fontsize=15)\n",
    "plt.xticks([0.5], [\"trace1\"])\n",
    "\n",
    "\n",
    "plt.grid(color='gray', linestyle='--', linewidth=1)\n",
    "ax.xaxis.grid(False)\n",
    "plt.tight_layout()\n",
    "plt.savefig(\"entropy.png\", bbox_inches='tight', pad_inches=0.2)\n",
    "plt.show()\n",
    "plt.close()\n"
   ]
  },
  {
   "cell_type": "code",
   "execution_count": null,
   "metadata": {},
   "outputs": [],
   "source": []
  },
  {
   "cell_type": "code",
   "execution_count": null,
   "metadata": {},
   "outputs": [],
   "source": []
  },
  {
   "cell_type": "code",
   "execution_count": null,
   "metadata": {},
   "outputs": [],
   "source": []
  },
  {
   "cell_type": "code",
   "execution_count": 9,
   "metadata": {},
   "outputs": [
    {
     "name": "stdout",
     "output_type": "stream",
     "text": [
      "[0.5411803905220438, 0.5576518332633147, 0.5739007186582413, 0.564550725621967, 0.6190559796492567, 0.575708982470618, 0.5750198137787278, 0.5438259100312338, 0.48626652272136217, 0.501834639462267]\n",
      "[0.4880096350778529, 0.5276242048986259, 0.4973060484212899, 0.5293520055061937, 0.3747690002509873, 0.46359588296803744, 0.48389263641656627, 0.4985330559748446, 0.47262694573661307, 0.5158921950863249]\n",
      "10 0.5611012794426409\n",
      "10 0.4926578417495714\n"
     ]
    }
   ],
   "source": [
    "# MRAC\n",
    "before_list = []\n",
    "after_list = []\n",
    "\n",
    "for pcap_dir in pcap_dir_list:\n",
    "    for inst_name in [\"inst3\"]:\n",
    "        before_pkl_path = os.path.join(before_path, pcap_dir, inst_name)\n",
    "        saver = PklSaver(before_pkl_path, \"data.pkl\")\n",
    "        before_list += saver.load()\n",
    "\n",
    "        after_pkl_path = os.path.join(after_path, pcap_dir, inst_name)\n",
    "        saver = PklSaver(after_pkl_path, \"data.pkl\")\n",
    "        after_list += saver.load()\n",
    "\n",
    "print(before_list)\n",
    "print(after_list)\n",
    "print(len(before_list), statistics.median(before_list))\n",
    "print(len(after_list), statistics.median(after_list))\n"
   ]
  },
  {
   "cell_type": "code",
   "execution_count": 10,
   "metadata": {},
   "outputs": [
    {
     "data": {
      "image/png": "[encoded data removed]",
      "text/plain": [
       "<Figure size 180x360 with 1 Axes>"
      ]
     },
     "metadata": {
      "needs_background": "light"
     },
     "output_type": "display_data"
    }
   ],
   "source": [
    "import matplotlib.pyplot as plt\n",
    "import math\n",
    "import matplotlib\n",
    "matplotlib.rcParams['text.usetex'] = True\n",
    "matplotlib.rcParams['pdf.fonttype'] = 42\n",
    "matplotlib.rcParams['ps.fonttype'] = 42\n",
    "\n",
    "data = [before_list, after_list]\n",
    "\n",
    "values = []\n",
    "\n",
    "position = 0\n",
    "positions = []\n",
    "labels = []\n",
    "colors = []\n",
    "\n",
    "for i, v in enumerate(data):\n",
    "    labels.append(\"%d.txt\" % (i+1))\n",
    "    values.append(v)\n",
    "    colors.append('C'+str(int(i)))\n",
    "    positions.append(position)\n",
    "    position += 1\n",
    "\n",
    "\n",
    "plt.figure(figsize=(2.5, 5))\n",
    "\n",
    "box_plot_data = values\n",
    "box = plt.boxplot(box_plot_data, patch_artist=True, labels=labels, widths=0.4, positions=positions, showfliers=False)\n",
    "\n",
    "for patch, color in zip(box['boxes'], colors):\n",
    "    patch.set_facecolor(color)\n",
    "\n",
    "for median in box['medians']:\n",
    "    median.set(color='black', linewidth=2)\n",
    "\n",
    "plt.tick_params(labelsize=20)\n",
    "\n",
    "# plt.axis('off')\n",
    "\n",
    "ax = plt.gca()\n",
    "ax.tick_params(axis=u'both', which=u'both',length=0)\n",
    "ax.axvline(x=1.5, color='black', linestyle=\"-\", linewidth=1)\n",
    "# ax.axvline(x=3.5, color='black', linestyle=\"-\", linewidth=1)\n",
    "# ax.axvline(x=5.5, color='black', linestyle=\"-\", linewidth=1)\n",
    "# ax.axvline(x=7.5, color='black', linestyle=\"-\", linewidth=1)\n",
    "\n",
    "plt.title(\"MRAC (s3)\", fontsize = 20)\n",
    "plt.ylabel(\"WMRD\", fontsize = 20)\n",
    "plt.ylim([0.3, 0.7])\n",
    "# from matplotlib.ticker import MultipleLocator\n",
    "# ax.yaxis.set_major_locator(MultipleLocator(0.5))\n",
    "plt.legend([box['boxes'][0], box['boxes'][1]], ['before', 'after'], loc=1, bbox_to_anchor=(1,1.5), fontsize=15)\n",
    "plt.xticks([0.5], [\"trace1\"])\n",
    "\n",
    "\n",
    "plt.grid(color='gray', linestyle='--', linewidth=1)\n",
    "ax.xaxis.grid(False)\n",
    "plt.tight_layout()\n",
    "plt.savefig(\"mrac.png\", bbox_inches='tight', pad_inches=0.2)\n",
    "plt.show()\n",
    "plt.close()\n"
   ]
  },
  {
   "cell_type": "code",
   "execution_count": null,
   "metadata": {},
   "outputs": [],
   "source": []
  },
  {
   "cell_type": "code",
   "execution_count": null,
   "metadata": {},
   "outputs": [],
   "source": []
  },
  {
   "cell_type": "code",
   "execution_count": null,
   "metadata": {},
   "outputs": [],
   "source": []
  },
  {
   "cell_type": "code",
   "execution_count": 11,
   "metadata": {},
   "outputs": [
    {
     "name": "stdout",
     "output_type": "stream",
     "text": [
      "[12.901390492175649, 7.006588625092109, 7.3674267197260015, 8.290084229399188, 2.087823449778899, 0.9166404262127568, 2.8825485922791496, 2.8812117433894437, 3.3027229094392645, 9.112931201976448, 0.31937311426690773, 3.212975770407152, 2.8722515609779946, 2.1991909759733828, 10.529356562404256, 4.210380807018363, 8.422722786785272, 1.8396748534636669, 0.08706130076757146, 5.473737124083096, 11.2242417711816, 8.898730269564, 1.7834424572678218, 10.090444102443737, 6.99613902774407, 5.441853089583377, 0.06782958836946167, 9.847152247082658, 0.6709355596985203, 8.082216667705296, 0.20533946307754464, 3.884141453681374, 4.5074617468503755, 0.005055948619971706, 4.902806795653133, 6.1239909617229555, 0.18244460919506408, 1.3039879028408765, 1.7775199177730412, 1.2491668722113567]\n",
      "[14.609819778159459, 1.754650060001417, 7.746514366406696, 4.646037453575827, 4.263408068875683, 0.5176900937916118, 2.2902412838056345, 2.211957764097491, 6.510421484478833, 9.041714410522045, 3.2348056481289773, 4.166619064031287, 0.17247874722915113, 1.202812854627128, 10.17650661675188, 6.6990000307052435, 13.626945258071474, 1.817760604787462, 4.7261832026411055, 6.714524886750653, 12.943522765141143, 12.533451854989059, 5.315201068628547, 4.911677880663288, 9.773372989667987, 6.514124144692726, 0.3921506302145346, 11.97876770905016, 1.2846054968587015, 5.806009116328489, 1.3632802424826092, 2.4276226164908485, 3.177231205096312, 0.7214077421719395, 5.047680159071387, 4.528826593225036, 1.024541158217493, 1.439964198126383, 2.445426398360818, 1.1033760678567204]\n",
      "40 3.593432181560319\n",
      "40 4.396117331050359\n"
     ]
    }
   ],
   "source": [
    "# UnivMon\n",
    "before_list = []\n",
    "after_list = []\n",
    "\n",
    "for pcap_dir in pcap_dir_list:\n",
    "    for inst_name in [\"inst4\", \"inst5\"]:\n",
    "        before_pkl_path = os.path.join(before_path, pcap_dir, inst_name)\n",
    "        saver = PklSaver(before_pkl_path, \"data.pkl\")\n",
    "        before_list += saver.load()\n",
    "\n",
    "        after_pkl_path = os.path.join(after_path, pcap_dir, inst_name)\n",
    "        saver = PklSaver(after_pkl_path, \"data.pkl\")\n",
    "        after_list += saver.load()\n",
    "\n",
    "print(before_list)\n",
    "print(after_list)\n",
    "\n",
    "print(len(before_list), statistics.median(before_list))\n",
    "print(len(after_list), statistics.median(after_list))\n"
   ]
  },
  {
   "cell_type": "code",
   "execution_count": 12,
   "metadata": {},
   "outputs": [
    {
     "data": {
      "image/png": "[encoded data removed]",
      "text/plain": [
       "<Figure size 180x360 with 1 Axes>"
      ]
     },
     "metadata": {
      "needs_background": "light"
     },
     "output_type": "display_data"
    }
   ],
   "source": [
    "import matplotlib.pyplot as plt\n",
    "import math\n",
    "import matplotlib\n",
    "matplotlib.rcParams['text.usetex'] = True\n",
    "matplotlib.rcParams['pdf.fonttype'] = 42\n",
    "matplotlib.rcParams['ps.fonttype'] = 42\n",
    "\n",
    "data = [before_list, after_list]\n",
    "\n",
    "values = []\n",
    "\n",
    "position = 0\n",
    "positions = []\n",
    "labels = []\n",
    "colors = []\n",
    "\n",
    "for i, v in enumerate(data):\n",
    "    labels.append(\"%d.txt\" % (i+1))\n",
    "    values.append(v)\n",
    "    colors.append('C'+str(int(i)))\n",
    "    positions.append(position)\n",
    "    position += 1\n",
    "\n",
    "\n",
    "plt.figure(figsize=(2.5, 5))\n",
    "\n",
    "box_plot_data = values\n",
    "box = plt.boxplot(box_plot_data, patch_artist=True, labels=labels, widths=0.4, positions=positions, showfliers=False)\n",
    "\n",
    "for patch, color in zip(box['boxes'], colors):\n",
    "    patch.set_facecolor(color)\n",
    "\n",
    "for median in box['medians']:\n",
    "    median.set(color='black', linewidth=2)\n",
    "\n",
    "plt.tick_params(labelsize=20)\n",
    "\n",
    "# plt.axis('off')\n",
    "\n",
    "ax = plt.gca()\n",
    "ax.tick_params(axis=u'both', which=u'both',length=0)\n",
    "ax.axvline(x=1.5, color='black', linestyle=\"-\", linewidth=1)\n",
    "# ax.axvline(x=3.5, color='black', linestyle=\"-\", linewidth=1)\n",
    "# ax.axvline(x=5.5, color='black', linestyle=\"-\", linewidth=1)\n",
    "# ax.axvline(x=7.5, color='black', linestyle=\"-\", linewidth=1)\n",
    "\n",
    "# plt.title(\"CM(inst6) CS(inst7), Kary(inst8)\", fontsize = 20)\n",
    "plt.title(\"UnivMon(s4, s5)\", fontsize = 20)\n",
    "plt.ylabel(\"Entropy RE ($\\%$)\", fontsize = 20)\n",
    "# plt.ylim([0, 6])\n",
    "# from matplotlib.ticker import MultipleLocator\n",
    "# ax.yaxis.set_major_locator(MultipleLocator(2))\n",
    "plt.legend([box['boxes'][0], box['boxes'][1]], ['before', 'after'], loc=1, bbox_to_anchor=(1,1.5), fontsize=15)\n",
    "plt.xticks([0.5], [\"trace1\"])\n",
    "\n",
    "\n",
    "plt.grid(color='gray', linestyle='--', linewidth=1)\n",
    "ax.xaxis.grid(False)\n",
    "plt.tight_layout()\n",
    "plt.savefig(\"UnivMon.png\", bbox_inches='tight', pad_inches=0.2)\n",
    "plt.show()\n",
    "plt.close()\n"
   ]
  },
  {
   "cell_type": "code",
   "execution_count": null,
   "metadata": {},
   "outputs": [],
   "source": []
  },
  {
   "cell_type": "code",
   "execution_count": null,
   "metadata": {},
   "outputs": [],
   "source": []
  },
  {
   "cell_type": "code",
   "execution_count": 13,
   "metadata": {},
   "outputs": [
    {
     "name": "stdout",
     "output_type": "stream",
     "text": [
      "[1.8606699093204775, 0.36662928087123586, 1.813614562808182, 2.382945391154765, 1.8878677531069663, 0.41097574090860206, 0.5725306550442617, 0.07719779303907187, 0.5784616234201025, 2.793565369473867, 1.2087201806386476, 1.868352913253739, 0.03492417303258236, 0.7869255350667268, 2.770410204031427, 0.5497592777130782, 1.343964452322345, 0.8541513379770075, 1.2160923152194019, 0.953764431422722]\n",
      "[0.47400989613375866, 1.9660919705097681, 3.286738971166945, 1.0911635745604638, 1.3663507786085052, 2.0364977026400366, 1.045913106927018, 0.3900704347905733, 1.7486461885569005, 1.0607541493267216, 2.2687792369057234, 3.751703739674096, 0.32853560858053116, 1.5700007328960388, 2.360211197942428, 1.570693066170774, 1.8003501167969467, 0.3481862314462332, 1.6426626957351265, 1.179148739046133]\n",
      "20 1.0812423060306848\n",
      "20 1.5703468995334064\n"
     ]
    }
   ],
   "source": [
    "# LinearCounting\n",
    "before_list = []\n",
    "after_list = []\n",
    "\n",
    "for pcap_dir in pcap_dir_list:\n",
    "    for inst_name in [\"inst9\"]:\n",
    "        before_pkl_path = os.path.join(before_path, pcap_dir, inst_name)\n",
    "        saver = PklSaver(before_pkl_path, \"data.pkl\")\n",
    "        before_list += saver.load()\n",
    "\n",
    "        after_pkl_path = os.path.join(after_path, pcap_dir, inst_name)\n",
    "        saver = PklSaver(after_pkl_path, \"data.pkl\")\n",
    "        after_list += saver.load()\n",
    "\n",
    "print(before_list)\n",
    "print(after_list)\n",
    "\n",
    "print(len(before_list), statistics.median(before_list))\n",
    "print(len(after_list), statistics.median(after_list))\n"
   ]
  },
  {
   "cell_type": "code",
   "execution_count": 14,
   "metadata": {},
   "outputs": [
    {
     "data": {
      "image/png": "[encoded data removed]",
      "text/plain": [
       "<Figure size 180x360 with 1 Axes>"
      ]
     },
     "metadata": {
      "needs_background": "light"
     },
     "output_type": "display_data"
    }
   ],
   "source": [
    "import matplotlib.pyplot as plt\n",
    "import math\n",
    "import matplotlib\n",
    "matplotlib.rcParams['text.usetex'] = True\n",
    "matplotlib.rcParams['pdf.fonttype'] = 42\n",
    "matplotlib.rcParams['ps.fonttype'] = 42\n",
    "\n",
    "data = [before_list, after_list]\n",
    "\n",
    "values = []\n",
    "\n",
    "position = 0\n",
    "positions = []\n",
    "labels = []\n",
    "colors = []\n",
    "\n",
    "for i, v in enumerate(data):\n",
    "    labels.append(\"%d.txt\" % (i+1))\n",
    "    values.append(v)\n",
    "    colors.append('C'+str(int(i)))\n",
    "    positions.append(position)\n",
    "    position += 1\n",
    "\n",
    "\n",
    "plt.figure(figsize=(2.5, 5))\n",
    "\n",
    "box_plot_data = values\n",
    "box = plt.boxplot(box_plot_data, patch_artist=True, labels=labels, widths=0.4, positions=positions, showfliers=False)\n",
    "\n",
    "for patch, color in zip(box['boxes'], colors):\n",
    "    patch.set_facecolor(color)\n",
    "\n",
    "for median in box['medians']:\n",
    "    median.set(color='black', linewidth=2)\n",
    "\n",
    "plt.tick_params(labelsize=20)\n",
    "\n",
    "# plt.axis('off')\n",
    "\n",
    "ax = plt.gca()\n",
    "ax.tick_params(axis=u'both', which=u'both',length=0)\n",
    "ax.axvline(x=1.5, color='black', linestyle=\"-\", linewidth=1)\n",
    "# ax.axvline(x=3.5, color='black', linestyle=\"-\", linewidth=1)\n",
    "# ax.axvline(x=5.5, color='black', linestyle=\"-\", linewidth=1)\n",
    "# ax.axvline(x=7.5, color='black', linestyle=\"-\", linewidth=1)\n",
    "\n",
    "# plt.title(\"CM(inst6) CS(inst7), Kary(inst8)\", fontsize = 20)\n",
    "plt.title(\"LC(s9)\", fontsize = 20)\n",
    "plt.ylabel(\"Cardinality RE ($\\%$)\", fontsize = 20)\n",
    "# plt.ylim([0, 6])\n",
    "# from matplotlib.ticker import MultipleLocator\n",
    "# ax.yaxis.set_major_locator(MultipleLocator(2))\n",
    "plt.legend([box['boxes'][0], box['boxes'][1]], ['before', 'after'], loc=1, bbox_to_anchor=(1,1.5), fontsize=15)\n",
    "plt.xticks([0.5], [\"trace1\"])\n",
    "\n",
    "\n",
    "plt.grid(color='gray', linestyle='--', linewidth=1)\n",
    "ax.xaxis.grid(False)\n",
    "plt.tight_layout()\n",
    "plt.savefig(\"LC.png\", bbox_inches='tight', pad_inches=0.2)\n",
    "plt.show()\n",
    "plt.close()\n"
   ]
  },
  {
   "cell_type": "code",
   "execution_count": null,
   "metadata": {},
   "outputs": [],
   "source": []
  }
 ],
 "metadata": {
  "kernelspec": {
   "display_name": "Python 3.7.1 ('base')",
   "language": "python",
   "name": "python3"
  },
  "language_info": {
   "codemirror_mode": {
    "name": "ipython",
    "version": 3
   },
   "file_extension": ".py",
   "mimetype": "text/x-python",
   "name": "python",
   "nbconvert_exporter": "python",
   "pygments_lexer": "ipython3",
   "version": "3.7.1"
  },
  "orig_nbformat": 4,
  "vscode": {
   "interpreter": {
    "hash": "25f3d71a74086e2048b405605cf8f4ef405c30c43c1b90e1cb1de581ffa0947a"
   }
  }
 },
 "nbformat": 4,
 "nbformat_minor": 2
}
