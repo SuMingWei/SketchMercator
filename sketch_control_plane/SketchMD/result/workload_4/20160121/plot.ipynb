{
 "cells": [
  {
   "cell_type": "code",
   "execution_count": 1,
   "metadata": {},
   "outputs": [],
   "source": [
    "import sys\n",
    "sys.path.append('/Users/hnamkung/workspace/sketch_home')\n",
    "from python_lib.pkl_saver import PklSaver\n",
    "\n",
    "import os\n",
    "before_path = '/Users/hnamkung/workspace/sketch_home/sketch_control_plane/SketchMD/result/workload_4/20160121/before'\n",
    "after_path = '/Users/hnamkung/workspace/sketch_home/sketch_control_plane/SketchMD/result/workload_4/20160121/after'\n",
    "pcap_dir_list = sorted(os.listdir(before_path))\n",
    "\n",
    "import statistics\n"
   ]
  },
  {
   "cell_type": "code",
   "execution_count": null,
   "metadata": {},
   "outputs": [],
   "source": []
  },
  {
   "cell_type": "code",
   "execution_count": null,
   "metadata": {},
   "outputs": [],
   "source": []
  },
  {
   "cell_type": "code",
   "execution_count": null,
   "metadata": {},
   "outputs": [],
   "source": []
  },
  {
   "cell_type": "code",
   "execution_count": 2,
   "metadata": {},
   "outputs": [
    {
     "name": "stdout",
     "output_type": "stream",
     "text": [
      "[3.465449295005052, 1.442133772888703, 1.4933080215172718, 1.25721342230877, 0.20639802362075704, 1.1212909383384795, 1.104702639229895, 1.8626155670442395, 1.9449258617369534, 1.3972732143125373, 1.155350815460404, 1.77844978513449, 0.3846237266568824, 1.1313725209467769, 3.8623809984238, 3.068976332054527, 2.7021141231390007, 2.0901989503234466, 2.0647010895129, 1.0436062150462306]\n",
      "[3.20054871918544, 2.2899224438488726, 0.18964745923281376, 1.736815745373315, 0.1951098878158291, 1.5082139731142266, 1.348247600473861, 0.9206685811554483, 1.2851327507398198, 1.2560047411269486, 1.1951513433047423, 1.383540444522136, 0.17582266355944018, 2.3216634943738454, 3.6446170314024284, 2.0993960010041035, 2.371015429663361, 1.5175076311980842, 2.5108914055698075, 1.4998165137614679]\n",
      "20 1.4677208972029874\n",
      "20 1.504015243437847\n"
     ]
    }
   ],
   "source": [
    "# HLL\n",
    "before_list = []\n",
    "after_list = []\n",
    "\n",
    "for pcap_dir in pcap_dir_list:\n",
    "    # print(pcap_dir)\n",
    "    for inst_name in [\"inst10\"]:\n",
    "        before_pkl_path = os.path.join(before_path, pcap_dir, inst_name)\n",
    "        saver = PklSaver(before_pkl_path, \"data.pkl\")\n",
    "        before_list += saver.load()\n",
    "\n",
    "        after_pkl_path = os.path.join(after_path, pcap_dir, inst_name)\n",
    "        saver = PklSaver(after_pkl_path, \"data.pkl\")\n",
    "        after_list += saver.load()\n",
    "\n",
    "print(before_list)\n",
    "print(after_list)\n",
    "\n",
    "print(len(before_list), statistics.median(before_list))\n",
    "print(len(after_list), statistics.median(after_list))\n"
   ]
  },
  {
   "cell_type": "code",
   "execution_count": 3,
   "metadata": {},
   "outputs": [
    {
     "data": {
      "image/png": "[encoded data removed]",
      "text/plain": [
       "<Figure size 144x360 with 1 Axes>"
      ]
     },
     "metadata": {
      "needs_background": "light"
     },
     "output_type": "display_data"
    }
   ],
   "source": [
    "import matplotlib.pyplot as plt\n",
    "import math\n",
    "import matplotlib\n",
    "matplotlib.rcParams['text.usetex'] = True\n",
    "matplotlib.rcParams['pdf.fonttype'] = 42\n",
    "matplotlib.rcParams['ps.fonttype'] = 42\n",
    "\n",
    "data = [before_list, after_list]\n",
    "\n",
    "values = []\n",
    "\n",
    "position = 0\n",
    "positions = []\n",
    "labels = []\n",
    "colors = []\n",
    "\n",
    "for i, v in enumerate(data):\n",
    "    labels.append(\"%d.txt\" % (i+1))\n",
    "    values.append(v)\n",
    "    colors.append('C'+str(int(i)))\n",
    "    positions.append(position)\n",
    "    position += 1\n",
    "\n",
    "\n",
    "plt.figure(figsize=(2, 5))\n",
    "\n",
    "box_plot_data = values\n",
    "box = plt.boxplot(box_plot_data, patch_artist=True, labels=labels, widths=0.4, positions=positions, showfliers=False)\n",
    "\n",
    "for patch, color in zip(box['boxes'], colors):\n",
    "    patch.set_facecolor(color)\n",
    "\n",
    "for median in box['medians']:\n",
    "    median.set(color='black', linewidth=2)\n",
    "\n",
    "plt.tick_params(labelsize=20)\n",
    "\n",
    "# plt.axis('off')\n",
    "\n",
    "ax = plt.gca()\n",
    "ax.tick_params(axis=u'both', which=u'both',length=0)\n",
    "ax.axvline(x=1.5, color='black', linestyle=\"-\", linewidth=1)\n",
    "# ax.axvline(x=3.5, color='black', linestyle=\"-\", linewidth=1)\n",
    "# ax.axvline(x=5.5, color='black', linestyle=\"-\", linewidth=1)\n",
    "# ax.axvline(x=7.5, color='black', linestyle=\"-\", linewidth=1)\n",
    "\n",
    "plt.title(\"HLL (s10)\", fontsize = 20)\n",
    "plt.ylabel(\"cardinality RE ($\\%$)\", fontsize = 20)\n",
    "plt.ylim([0, 5])\n",
    "# from matplotlib.ticker import MultipleLocator\n",
    "# ax.yaxis.set_major_locator(MultipleLocator(0.5))\n",
    "plt.legend([box['boxes'][0], box['boxes'][1]], ['before', 'after'], loc=1, bbox_to_anchor=(1,1.5), fontsize=15)\n",
    "plt.xticks([0.5], [\"trace1\"])\n",
    "\n",
    "\n",
    "plt.grid(color='gray', linestyle='--', linewidth=1)\n",
    "ax.xaxis.grid(False)\n",
    "plt.tight_layout()\n",
    "plt.savefig(\"hll.png\", bbox_inches='tight', pad_inches=0.2)\n",
    "plt.show()\n",
    "plt.close()\n"
   ]
  },
  {
   "cell_type": "code",
   "execution_count": null,
   "metadata": {},
   "outputs": [],
   "source": []
  },
  {
   "cell_type": "code",
   "execution_count": null,
   "metadata": {},
   "outputs": [],
   "source": []
  },
  {
   "cell_type": "code",
   "execution_count": 4,
   "metadata": {},
   "outputs": [
    {
     "name": "stdout",
     "output_type": "stream",
     "text": [
      "[0.8046993878056549, 1.7520254011646945, 1.566864877151048, 1.6820374243824927, 0.9226893848265711, 0.47857404468318887, 0.5186806062079585, 1.3560564651736784, 0.34803848896230877, 1.207268292328801, 0.45885659084921404, 0.6598684028849944, 0.3833118737882757, 0.8807869962272135, 0.7610225402664323, 1.7211066092839682, 2.1701940466298453, 0.582945999674569, 0.8263670986131405, 0.9417741929537151, 1.2213106241561948, 1.8382690988308354, 1.4122491590302748, 2.2746165264720437, 1.004556662049017, 1.3618649371337543, 2.2966974496526893, 2.03295996959433, 2.583110912368469, 1.1078524921418949, 2.0155594442453246, 2.641395164878628, 3.6198746454707798, 1.8590218470011042, 0.08565622693432719, 2.2935361140666632, 1.281725888324873, 1.4535550670900035, 1.135098716972289, 1.7657688844913306]\n",
      "[1.7413899536299298, 0.914302844081388, 1.4060702800403746, 1.8294443123306277, 0.8521436965157272, 0.6622046895084438, 1.9718621912041652, 0.8106904476528738, 0.9596722790784282, 0.07688517982174581, 1.119900802059299, 3.0009744007692367, 1.3482447022404989, 0.8525938837875882, 1.0952528453541106, 3.490074142473746, 1.04597098409369, 1.011267563926028, 1.1681472778449289, 2.153722443557423, 0.6166488132153126, 2.283771726065379, 1.2025808457711442, 1.680438938379214, 1.047503681949298, 0.4197568455164314, 0.42974239827128197, 0.43898268134755364, 2.6263356803017732, 1.9281053013636733, 2.5945407481755955, 2.605628105339804, 1.0478056925351804, 1.5825535990569513, 1.7765095729013254, 3.528154416363834, 1.5977709571388146, 0.884121748436614, 1.2957973499363953, 1.515116207343235]\n",
      "40 1.3188911767492757\n",
      "40 1.2491890978537699\n"
     ]
    }
   ],
   "source": [
    "# PCSA\n",
    "before_list = []\n",
    "after_list = []\n",
    "\n",
    "for pcap_dir in pcap_dir_list:\n",
    "    # print(pcap_dir)\n",
    "    for inst_name in [\"inst5\", \"inst9\"]:\n",
    "        before_pkl_path = os.path.join(before_path, pcap_dir, inst_name)\n",
    "        saver = PklSaver(before_pkl_path, \"data.pkl\")\n",
    "        before_list += saver.load()\n",
    "\n",
    "        after_pkl_path = os.path.join(after_path, pcap_dir, inst_name)\n",
    "        saver = PklSaver(after_pkl_path, \"data.pkl\")\n",
    "        after_list += saver.load()\n",
    "\n",
    "print(before_list)\n",
    "print(after_list)\n",
    "\n",
    "print(len(before_list), statistics.median(before_list))\n",
    "print(len(after_list), statistics.median(after_list))\n"
   ]
  },
  {
   "cell_type": "code",
   "execution_count": 5,
   "metadata": {},
   "outputs": [
    {
     "data": {
      "image/png": "[encoded data removed]",
      "text/plain": [
       "<Figure size 144x360 with 1 Axes>"
      ]
     },
     "metadata": {
      "needs_background": "light"
     },
     "output_type": "display_data"
    }
   ],
   "source": [
    "import matplotlib.pyplot as plt\n",
    "import math\n",
    "import matplotlib\n",
    "matplotlib.rcParams['text.usetex'] = True\n",
    "matplotlib.rcParams['pdf.fonttype'] = 42\n",
    "matplotlib.rcParams['ps.fonttype'] = 42\n",
    "\n",
    "data = [before_list, after_list]\n",
    "\n",
    "values = []\n",
    "\n",
    "position = 0\n",
    "positions = []\n",
    "labels = []\n",
    "colors = []\n",
    "\n",
    "for i, v in enumerate(data):\n",
    "    labels.append(\"%d.txt\" % (i+1))\n",
    "    values.append(v)\n",
    "    colors.append('C'+str(int(i)))\n",
    "    positions.append(position)\n",
    "    position += 1\n",
    "\n",
    "\n",
    "plt.figure(figsize=(2, 5))\n",
    "\n",
    "box_plot_data = values\n",
    "box = plt.boxplot(box_plot_data, patch_artist=True, labels=labels, widths=0.4, positions=positions, showfliers=False)\n",
    "\n",
    "for patch, color in zip(box['boxes'], colors):\n",
    "    patch.set_facecolor(color)\n",
    "\n",
    "for median in box['medians']:\n",
    "    median.set(color='black', linewidth=2)\n",
    "\n",
    "plt.tick_params(labelsize=20)\n",
    "\n",
    "# plt.axis('off')\n",
    "\n",
    "ax = plt.gca()\n",
    "ax.tick_params(axis=u'both', which=u'both',length=0)\n",
    "ax.axvline(x=1.5, color='black', linestyle=\"-\", linewidth=1)\n",
    "# ax.axvline(x=3.5, color='black', linestyle=\"-\", linewidth=1)\n",
    "# ax.axvline(x=5.5, color='black', linestyle=\"-\", linewidth=1)\n",
    "# ax.axvline(x=7.5, color='black', linestyle=\"-\", linewidth=1)\n",
    "\n",
    "plt.title(\"PCSA (s5, s9)\", fontsize = 20)\n",
    "plt.ylabel(\"cardinality RE ($\\%$)\", fontsize = 20)\n",
    "plt.ylim([0, 5])\n",
    "# from matplotlib.ticker import MultipleLocator\n",
    "# ax.yaxis.set_major_locator(MultipleLocator(0.5))\n",
    "plt.legend([box['boxes'][0], box['boxes'][1]], ['before', 'after'], loc=1, bbox_to_anchor=(1,1.5), fontsize=15)\n",
    "plt.xticks([0.5], [\"trace1\"])\n",
    "\n",
    "\n",
    "plt.grid(color='gray', linestyle='--', linewidth=1)\n",
    "ax.xaxis.grid(False)\n",
    "plt.tight_layout()\n",
    "plt.savefig(\"pcsa.png\", bbox_inches='tight', pad_inches=0.2)\n",
    "plt.show()\n",
    "plt.close()\n"
   ]
  },
  {
   "cell_type": "code",
   "execution_count": null,
   "metadata": {},
   "outputs": [],
   "source": []
  },
  {
   "cell_type": "code",
   "execution_count": null,
   "metadata": {},
   "outputs": [],
   "source": []
  },
  {
   "cell_type": "code",
   "execution_count": null,
   "metadata": {},
   "outputs": [],
   "source": []
  },
  {
   "cell_type": "code",
   "execution_count": 6,
   "metadata": {},
   "outputs": [
    {
     "name": "stdout",
     "output_type": "stream",
     "text": [
      "[10.06929640123006, 11.297478437936165, 28.821263232674426, 28.597580806728036, 12.367780960318612, 11.897150980744033, 27.56920846370606, 27.870471180756006, 11.989353560645135, 12.228683175907546, 27.94582313883592, 27.625192923126413, 11.956657054450789, 11.195800261590204, 28.29090907150991, 28.936407233215373, 10.711678209555927, 10.833661630690791, 28.883179797549573, 28.23906712337216, 11.428753000942594, 10.912482122399279, 27.585044359659918, 27.92832889634011, 10.266253452360148, 10.53532796251941, 27.753922298872137, 27.760450407135817, 10.179606531799998, 10.39698463945292, 28.368865798907027, 27.967662343691963, 10.217831402929713, 11.065860924375816, 28.050284482126344, 27.25481866355955, 10.652103565631627, 10.899483796519299, 27.62317306644905, 27.29825929507299]\n",
      "[10.146643694739298, 11.367011211846334, 21.098906033408287, 20.738448505994107, 12.565648062887092, 12.16887759372041, 19.505082817570703, 19.768654516501925, 12.075952963105115, 12.275447175747892, 20.103919850498556, 19.680198429367728, 12.072096600235263, 11.426763595958999, 20.48096624928895, 21.07711021596097, 10.73771312106434, 11.121945538609491, 21.240663754570246, 20.23229074840953, 11.551205086732507, 11.2044413075438, 19.67330927966648, 19.859587082365632, 10.285428566108152, 10.818876056165232, 19.93983870653519, 19.59925415854827, 10.200022835976567, 10.615811254819274, 20.6506109543305, 19.82169115953429, 10.259714502491809, 10.98997562316481, 20.221395769415572, 19.48970565010048, 10.76745552863709, 11.401012278833708, 19.592206716083904, 18.94364038822014]\n",
      "40 19.81129981193908\n",
      "40 15.754644225553616\n"
     ]
    }
   ],
   "source": [
    "# Entropy\n",
    "before_list = []\n",
    "after_list = []\n",
    "\n",
    "for pcap_dir in pcap_dir_list:\n",
    "    for inst_name in [\"inst6\", \"inst7\"]:\n",
    "        before_pkl_path = os.path.join(before_path, pcap_dir, inst_name)\n",
    "        saver = PklSaver(before_pkl_path, \"data.pkl\")\n",
    "        before_list += saver.load()\n",
    "\n",
    "        after_pkl_path = os.path.join(after_path, pcap_dir, inst_name)\n",
    "        saver = PklSaver(after_pkl_path, \"data.pkl\")\n",
    "        after_list += saver.load()\n",
    "\n",
    "print(before_list)\n",
    "print(after_list)\n",
    "\n",
    "print(len(before_list), statistics.median(before_list))\n",
    "print(len(after_list), statistics.median(after_list))\n"
   ]
  },
  {
   "cell_type": "code",
   "execution_count": 7,
   "metadata": {},
   "outputs": [
    {
     "data": {
      "image/png": "[encoded data removed]",
      "text/plain": [
       "<Figure size 144x360 with 1 Axes>"
      ]
     },
     "metadata": {
      "needs_background": "light"
     },
     "output_type": "display_data"
    }
   ],
   "source": [
    "import matplotlib.pyplot as plt\n",
    "import math\n",
    "import matplotlib\n",
    "matplotlib.rcParams['text.usetex'] = True\n",
    "matplotlib.rcParams['pdf.fonttype'] = 42\n",
    "matplotlib.rcParams['ps.fonttype'] = 42\n",
    "\n",
    "data = [before_list, after_list]\n",
    "\n",
    "values = []\n",
    "\n",
    "position = 0\n",
    "positions = []\n",
    "labels = []\n",
    "colors = []\n",
    "\n",
    "for i, v in enumerate(data):\n",
    "    labels.append(\"%d.txt\" % (i+1))\n",
    "    values.append(v)\n",
    "    colors.append('C'+str(int(i)))\n",
    "    positions.append(position)\n",
    "    position += 1\n",
    "\n",
    "\n",
    "plt.figure(figsize=(2, 5))\n",
    "\n",
    "box_plot_data = values\n",
    "box = plt.boxplot(box_plot_data, patch_artist=True, labels=labels, widths=0.4, positions=positions, showfliers=False)\n",
    "\n",
    "for patch, color in zip(box['boxes'], colors):\n",
    "    patch.set_facecolor(color)\n",
    "\n",
    "for median in box['medians']:\n",
    "    median.set(color='black', linewidth=2)\n",
    "\n",
    "plt.tick_params(labelsize=20)\n",
    "\n",
    "# plt.axis('off')\n",
    "\n",
    "ax = plt.gca()\n",
    "ax.tick_params(axis=u'both', which=u'both',length=0)\n",
    "ax.axvline(x=1.5, color='black', linestyle=\"-\", linewidth=1)\n",
    "# ax.axvline(x=3.5, color='black', linestyle=\"-\", linewidth=1)\n",
    "# ax.axvline(x=5.5, color='black', linestyle=\"-\", linewidth=1)\n",
    "# ax.axvline(x=7.5, color='black', linestyle=\"-\", linewidth=1)\n",
    "\n",
    "plt.title(\"Entropy (s6, s7)\", fontsize = 20)\n",
    "plt.ylabel(\"entropy RE ($\\%$)\", fontsize = 20)\n",
    "plt.ylim([0, 50])\n",
    "# from matplotlib.ticker import MultipleLocator\n",
    "# ax.yaxis.set_major_locator(MultipleLocator(0.5))\n",
    "plt.legend([box['boxes'][0], box['boxes'][1]], ['before', 'after'], loc=1, bbox_to_anchor=(1,1.5), fontsize=15)\n",
    "plt.xticks([0.5], [\"trace1\"])\n",
    "\n",
    "\n",
    "plt.grid(color='gray', linestyle='--', linewidth=1)\n",
    "ax.xaxis.grid(False)\n",
    "plt.tight_layout()\n",
    "plt.savefig(\"entropy.png\", bbox_inches='tight', pad_inches=0.2)\n",
    "plt.show()\n",
    "plt.close()\n"
   ]
  },
  {
   "cell_type": "code",
   "execution_count": null,
   "metadata": {},
   "outputs": [],
   "source": []
  },
  {
   "cell_type": "code",
   "execution_count": null,
   "metadata": {},
   "outputs": [],
   "source": []
  },
  {
   "cell_type": "code",
   "execution_count": null,
   "metadata": {},
   "outputs": [],
   "source": []
  },
  {
   "cell_type": "code",
   "execution_count": 8,
   "metadata": {},
   "outputs": [
    {
     "name": "stdout",
     "output_type": "stream",
     "text": [
      "[0.38760045924355563, 0.4341662895328572, 0.3682711369872861, 0.3839411831049058, 0.5126545936387156, 0.371633754812258, 0.4072396676204274, 0.5460584365860673, 0.5480582265999959, 0.5114959068230704, 0.4291308449153569, 0.406874917030828, 0.4000244879386844, 0.38797578197945504, 0.5151809103464431, 0.38271036519237867, 0.40850282129545545, 0.35830731857201814, 0.4966610369569893, 0.5296795218010677, 0.37909496170338136, 0.3790362459641577, 0.3790797671891955, 0.38708807624279457, 0.36009526240938733, 0.5522123657852389, 0.47397504503508875, 0.52034787897196, 0.5626217675598321, 0.5041955336852519]\n",
      "[0.4042919770575018, 0.5263723189345957, 0.5004867483392805, 0.588272345844411, 0.4413204144477579, 0.5090448273451675, 0.5427823627638383, 0.5311094851363308, 0.5522176534320753, 0.5271381708100163, 0.420741426792193, 0.5096547692513119, 0.40048598993268425, 0.4165737762909213, 0.513128076377572, 0.4201179275834627, 0.5407179452646732, 0.5315485746504955, 0.4822253395943319, 0.5477134437314288, 0.5021692725834984, 0.355359820233609, 0.5027093017383389, 0.4782897853926901, 0.5305945780175717, 0.5493079681367496, 0.49429404830357493, 0.37416536450586096, 0.5210769263651132, 0.525314843524919]\n",
      "30 0.40787124445794143\n",
      "30 0.5093497982982398\n"
     ]
    }
   ],
   "source": [
    "# MRAC\n",
    "before_list = []\n",
    "after_list = []\n",
    "\n",
    "for pcap_dir in pcap_dir_list:\n",
    "    for inst_name in [\"inst1\"]:\n",
    "        before_pkl_path = os.path.join(before_path, pcap_dir, inst_name)\n",
    "        saver = PklSaver(before_pkl_path, \"data.pkl\")\n",
    "        before_list += saver.load()\n",
    "\n",
    "        after_pkl_path = os.path.join(after_path, pcap_dir, inst_name)\n",
    "        saver = PklSaver(after_pkl_path, \"data.pkl\")\n",
    "        after_list += saver.load()\n",
    "\n",
    "print(before_list)\n",
    "print(after_list)\n",
    "print(len(before_list), statistics.median(before_list))\n",
    "print(len(after_list), statistics.median(after_list))\n"
   ]
  },
  {
   "cell_type": "code",
   "execution_count": 9,
   "metadata": {},
   "outputs": [
    {
     "data": {
      "image/png": "[encoded data removed]",
      "text/plain": [
       "<Figure size 180x360 with 1 Axes>"
      ]
     },
     "metadata": {
      "needs_background": "light"
     },
     "output_type": "display_data"
    }
   ],
   "source": [
    "import matplotlib.pyplot as plt\n",
    "import math\n",
    "import matplotlib\n",
    "matplotlib.rcParams['text.usetex'] = True\n",
    "matplotlib.rcParams['pdf.fonttype'] = 42\n",
    "matplotlib.rcParams['ps.fonttype'] = 42\n",
    "\n",
    "data = [before_list, after_list]\n",
    "\n",
    "values = []\n",
    "\n",
    "position = 0\n",
    "positions = []\n",
    "labels = []\n",
    "colors = []\n",
    "\n",
    "for i, v in enumerate(data):\n",
    "    labels.append(\"%d.txt\" % (i+1))\n",
    "    values.append(v)\n",
    "    colors.append('C'+str(int(i)))\n",
    "    positions.append(position)\n",
    "    position += 1\n",
    "\n",
    "\n",
    "plt.figure(figsize=(2.5, 5))\n",
    "\n",
    "box_plot_data = values\n",
    "box = plt.boxplot(box_plot_data, patch_artist=True, labels=labels, widths=0.4, positions=positions, showfliers=False)\n",
    "\n",
    "for patch, color in zip(box['boxes'], colors):\n",
    "    patch.set_facecolor(color)\n",
    "\n",
    "for median in box['medians']:\n",
    "    median.set(color='black', linewidth=2)\n",
    "\n",
    "plt.tick_params(labelsize=20)\n",
    "\n",
    "# plt.axis('off')\n",
    "\n",
    "ax = plt.gca()\n",
    "ax.tick_params(axis=u'both', which=u'both',length=0)\n",
    "ax.axvline(x=1.5, color='black', linestyle=\"-\", linewidth=1)\n",
    "# ax.axvline(x=3.5, color='black', linestyle=\"-\", linewidth=1)\n",
    "# ax.axvline(x=5.5, color='black', linestyle=\"-\", linewidth=1)\n",
    "# ax.axvline(x=7.5, color='black', linestyle=\"-\", linewidth=1)\n",
    "\n",
    "plt.title(\"MRAC (s1)\", fontsize = 20)\n",
    "plt.ylabel(\"WMRD\", fontsize = 20)\n",
    "plt.ylim([0.3, 0.7])\n",
    "# from matplotlib.ticker import MultipleLocator\n",
    "# ax.yaxis.set_major_locator(MultipleLocator(0.5))\n",
    "plt.legend([box['boxes'][0], box['boxes'][1]], ['before', 'after'], loc=1, bbox_to_anchor=(1,1.5), fontsize=15)\n",
    "plt.xticks([0.5], [\"trace1\"])\n",
    "\n",
    "\n",
    "plt.grid(color='gray', linestyle='--', linewidth=1)\n",
    "ax.xaxis.grid(False)\n",
    "plt.tight_layout()\n",
    "plt.savefig(\"mrac.png\", bbox_inches='tight', pad_inches=0.2)\n",
    "plt.show()\n",
    "plt.close()\n"
   ]
  },
  {
   "cell_type": "code",
   "execution_count": null,
   "metadata": {},
   "outputs": [],
   "source": []
  },
  {
   "cell_type": "code",
   "execution_count": null,
   "metadata": {},
   "outputs": [],
   "source": []
  },
  {
   "cell_type": "code",
   "execution_count": null,
   "metadata": {},
   "outputs": [],
   "source": []
  },
  {
   "cell_type": "code",
   "execution_count": 10,
   "metadata": {},
   "outputs": [
    {
     "name": "stdout",
     "output_type": "stream",
     "text": [
      "[0.2548171610728716, 2.7266020452076973, 2.1455804756546533, 0.4477703490155186, 0.524326301670528, 1.9688084352329578, 0.2162096627533391, 2.7154904300121343, 2.0631837640716664, 2.017788537445398, 1.1710161076897057, 1.3683366483041581, 2.746599611384158, 1.2288307394816456, 0.9324952286117334, 2.2983786165663522, 1.6907536907536906, 3.842372416316078, 1.0227839680691835, 1.4091724314629772]\n",
      "[0.21970277944742678, 0.6357169113672239, 0.4774511800511393, 0.7086354647330256, 0.6498060896113541, 0.43668122270742354, 1.3707955565182413, 1.5016333743908317, 1.2432772228818887, 2.2695273214884346, 1.258690232482721, 2.763105770500462, 0.759145817827904, 0.7763351626288315, 0.9028890327098341, 0.12930113272066682, 1.210033191882694, 1.605203149747818, 1.6651079794038288, 1.8805781079057984]\n",
      "5 2.017788537445398\n",
      "5 1.3707955565182413\n"
     ]
    }
   ],
   "source": [
    "# MRB\n",
    "before_list = []\n",
    "after_list = []\n",
    "\n",
    "for pcap_dir in pcap_dir_list:\n",
    "    for inst_name in [\"inst2\"]:\n",
    "        before_pkl_path = os.path.join(before_path, pcap_dir, inst_name)\n",
    "        saver = PklSaver(before_pkl_path, \"data.pkl\")\n",
    "        before_list += saver.load()\n",
    "\n",
    "        after_pkl_path = os.path.join(after_path, pcap_dir, inst_name)\n",
    "        saver = PklSaver(after_pkl_path, \"data.pkl\")\n",
    "        after_list += saver.load()\n",
    "\n",
    "print(before_list)\n",
    "print(after_list)\n",
    "\n",
    "before_list = before_list[5:10]\n",
    "after_list = after_list[5:10]\n",
    "\n",
    "print(len(before_list), statistics.median(before_list))\n",
    "print(len(after_list), statistics.median(after_list))\n"
   ]
  },
  {
   "cell_type": "code",
   "execution_count": 11,
   "metadata": {},
   "outputs": [
    {
     "data": {
      "image/png": "[encoded data removed]",
      "text/plain": [
       "<Figure size 180x360 with 1 Axes>"
      ]
     },
     "metadata": {
      "needs_background": "light"
     },
     "output_type": "display_data"
    }
   ],
   "source": [
    "import matplotlib.pyplot as plt\n",
    "import math\n",
    "import matplotlib\n",
    "matplotlib.rcParams['text.usetex'] = True\n",
    "matplotlib.rcParams['pdf.fonttype'] = 42\n",
    "matplotlib.rcParams['ps.fonttype'] = 42\n",
    "\n",
    "data = [before_list, after_list]\n",
    "\n",
    "values = []\n",
    "\n",
    "position = 0\n",
    "positions = []\n",
    "labels = []\n",
    "colors = []\n",
    "\n",
    "for i, v in enumerate(data):\n",
    "    labels.append(\"%d.txt\" % (i+1))\n",
    "    values.append(v)\n",
    "    colors.append('C'+str(int(i)))\n",
    "    positions.append(position)\n",
    "    position += 1\n",
    "\n",
    "\n",
    "plt.figure(figsize=(2.5, 5))\n",
    "\n",
    "box_plot_data = values\n",
    "box = plt.boxplot(box_plot_data, patch_artist=True, labels=labels, widths=0.4, positions=positions, showfliers=False)\n",
    "\n",
    "for patch, color in zip(box['boxes'], colors):\n",
    "    patch.set_facecolor(color)\n",
    "\n",
    "for median in box['medians']:\n",
    "    median.set(color='black', linewidth=2)\n",
    "\n",
    "plt.tick_params(labelsize=20)\n",
    "\n",
    "# plt.axis('off')\n",
    "\n",
    "ax = plt.gca()\n",
    "ax.tick_params(axis=u'both', which=u'both',length=0)\n",
    "ax.axvline(x=1.5, color='black', linestyle=\"-\", linewidth=1)\n",
    "# ax.axvline(x=3.5, color='black', linestyle=\"-\", linewidth=1)\n",
    "# ax.axvline(x=5.5, color='black', linestyle=\"-\", linewidth=1)\n",
    "# ax.axvline(x=7.5, color='black', linestyle=\"-\", linewidth=1)\n",
    "\n",
    "# plt.title(\"CM(inst6) CS(inst7), Kary(inst8)\", fontsize = 20)\n",
    "plt.title(\"MRB(s2, s3)\", fontsize = 20)\n",
    "plt.ylabel(\"cardinality RE ($\\%$)\", fontsize = 20)\n",
    "plt.ylim([0, 6])\n",
    "# from matplotlib.ticker import MultipleLocator\n",
    "# ax.yaxis.set_major_locator(MultipleLocator(2))\n",
    "plt.legend([box['boxes'][0], box['boxes'][1]], ['before', 'after'], loc=1, bbox_to_anchor=(1,1.5), fontsize=15)\n",
    "plt.xticks([0.5], [\"trace1\"])\n",
    "\n",
    "\n",
    "plt.grid(color='gray', linestyle='--', linewidth=1)\n",
    "ax.xaxis.grid(False)\n",
    "plt.tight_layout()\n",
    "plt.savefig(\"mrb.png\", bbox_inches='tight', pad_inches=0.2)\n",
    "plt.show()\n",
    "plt.close()\n"
   ]
  },
  {
   "cell_type": "code",
   "execution_count": null,
   "metadata": {},
   "outputs": [],
   "source": []
  },
  {
   "cell_type": "code",
   "execution_count": null,
   "metadata": {},
   "outputs": [],
   "source": []
  },
  {
   "cell_type": "code",
   "execution_count": 12,
   "metadata": {},
   "outputs": [
    {
     "name": "stdout",
     "output_type": "stream",
     "text": [
      "[1.4972787757698163, 1.1362233879267079, 1.3152697694922657, 1.897330030817266, 1.321001695040504, 1.280056449924289, 2.215503950054271, 1.6377442843037247, 2.091456970213851, 1.2435799922586035, 1.6541955129627564, 1.8326754430127032, 1.907444325615274, 2.387755590121124, 1.9459026738245988, 1.857543780902752, 1.4271324673250154, 2.8466793027915607, 2.0403686550335256, 3.427781701138181]\n",
      "[1.604185009835206, 1.2277770918950863, 1.3395554019873541, 1.7611153730196096, 1.3180998483179136, 1.2588187076954949, 2.209795774999977, 1.6613652497413105, 1.7735205418393682, 1.3134006730662302, 1.600450071597453, 1.9778898039893935, 1.9172655632678606, 2.169111784938336, 1.9321251737859555, 1.8562343138745911, 1.4186851423287044, 2.805361197060792, 2.0541154474541847, 3.030761931579274]\n",
      "20 1.8451096119577275\n",
      "20 1.7673179574294888\n"
     ]
    }
   ],
   "source": [
    "# CountSketch\n",
    "before_list = []\n",
    "after_list = []\n",
    "\n",
    "for pcap_dir in pcap_dir_list:\n",
    "    for inst_name in [\"inst8\"]:\n",
    "        before_pkl_path = os.path.join(before_path, pcap_dir, inst_name)\n",
    "        saver = PklSaver(before_pkl_path, \"data.pkl\")\n",
    "        before_list += saver.load()\n",
    "\n",
    "        after_pkl_path = os.path.join(after_path, pcap_dir, inst_name)\n",
    "        saver = PklSaver(after_pkl_path, \"data.pkl\")\n",
    "        after_list += saver.load()\n",
    "\n",
    "print(before_list)\n",
    "print(after_list)\n",
    "\n",
    "print(len(before_list), statistics.median(before_list))\n",
    "print(len(after_list), statistics.median(after_list))\n"
   ]
  },
  {
   "cell_type": "code",
   "execution_count": 13,
   "metadata": {},
   "outputs": [
    {
     "data": {
      "image/png": "[encoded data removed]",
      "text/plain": [
       "<Figure size 180x360 with 1 Axes>"
      ]
     },
     "metadata": {
      "needs_background": "light"
     },
     "output_type": "display_data"
    }
   ],
   "source": [
    "import matplotlib.pyplot as plt\n",
    "import math\n",
    "import matplotlib\n",
    "matplotlib.rcParams['text.usetex'] = True\n",
    "matplotlib.rcParams['pdf.fonttype'] = 42\n",
    "matplotlib.rcParams['ps.fonttype'] = 42\n",
    "\n",
    "data = [before_list, after_list]\n",
    "\n",
    "values = []\n",
    "\n",
    "position = 0\n",
    "positions = []\n",
    "labels = []\n",
    "colors = []\n",
    "\n",
    "for i, v in enumerate(data):\n",
    "    labels.append(\"%d.txt\" % (i+1))\n",
    "    values.append(v)\n",
    "    colors.append('C'+str(int(i)))\n",
    "    positions.append(position)\n",
    "    position += 1\n",
    "\n",
    "\n",
    "plt.figure(figsize=(2.5, 5))\n",
    "\n",
    "box_plot_data = values\n",
    "box = plt.boxplot(box_plot_data, patch_artist=True, labels=labels, widths=0.4, positions=positions, showfliers=False)\n",
    "\n",
    "for patch, color in zip(box['boxes'], colors):\n",
    "    patch.set_facecolor(color)\n",
    "\n",
    "for median in box['medians']:\n",
    "    median.set(color='black', linewidth=2)\n",
    "\n",
    "plt.tick_params(labelsize=20)\n",
    "\n",
    "# plt.axis('off')\n",
    "\n",
    "ax = plt.gca()\n",
    "ax.tick_params(axis=u'both', which=u'both',length=0)\n",
    "ax.axvline(x=1.5, color='black', linestyle=\"-\", linewidth=1)\n",
    "# ax.axvline(x=3.5, color='black', linestyle=\"-\", linewidth=1)\n",
    "# ax.axvline(x=5.5, color='black', linestyle=\"-\", linewidth=1)\n",
    "# ax.axvline(x=7.5, color='black', linestyle=\"-\", linewidth=1)\n",
    "\n",
    "# plt.title(\"CM(inst6) CS(inst7), Kary(inst8)\", fontsize = 20)\n",
    "plt.title(\"CS(s8)\", fontsize = 20)\n",
    "plt.ylabel(\"cardinality RE ($\\%$)\", fontsize = 20)\n",
    "plt.ylim([0, 6])\n",
    "# from matplotlib.ticker import MultipleLocator\n",
    "# ax.yaxis.set_major_locator(MultipleLocator(2))\n",
    "plt.legend([box['boxes'][0], box['boxes'][1]], ['before', 'after'], loc=1, bbox_to_anchor=(1,1.5), fontsize=15)\n",
    "plt.xticks([0.5], [\"trace1\"])\n",
    "\n",
    "\n",
    "plt.grid(color='gray', linestyle='--', linewidth=1)\n",
    "ax.xaxis.grid(False)\n",
    "plt.tight_layout()\n",
    "plt.savefig(\"cs.png\", bbox_inches='tight', pad_inches=0.2)\n",
    "plt.show()\n",
    "plt.close()\n"
   ]
  },
  {
   "cell_type": "code",
   "execution_count": null,
   "metadata": {},
   "outputs": [],
   "source": []
  },
  {
   "cell_type": "code",
   "execution_count": null,
   "metadata": {},
   "outputs": [],
   "source": []
  },
  {
   "cell_type": "code",
   "execution_count": null,
   "metadata": {},
   "outputs": [],
   "source": []
  },
  {
   "cell_type": "code",
   "execution_count": 27,
   "metadata": {},
   "outputs": [
    {
     "name": "stdout",
     "output_type": "stream",
     "text": [
      "[(50, 0), (50, 0), (50, 0), (50, 0), (50, 0), (50, 0), (50, 0), (50, 0), (50, 0), (49, 1), (50, 0), (50, 0), (50, 0), (50, 0), (50, 0), (50, 0), (50, 0), (50, 0)]\n",
      "[(50, 0), (50, 0), (50, 0), (50, 0), (50, 0), (50, 0), (50, 0), (50, 0), (50, 0), (50, 0), (50, 0), (50, 0), (50, 0), (50, 0), (50, 0), (49, 1), (50, 0), (50, 0)]\n"
     ]
    }
   ],
   "source": [
    "before_list = []\n",
    "after_list = []\n",
    "\n",
    "for pcap_dir in pcap_dir_list:\n",
    "    for inst_name in [\"inst8\"]:\n",
    "        before_pkl_path = os.path.join(before_path, pcap_dir, inst_name)\n",
    "        saver = PklSaver(before_pkl_path, \"hf.pkl\")\n",
    "        before_list += saver.load()\n",
    "\n",
    "        after_pkl_path = os.path.join(after_path, pcap_dir, inst_name)\n",
    "        saver = PklSaver(after_pkl_path, \"hf.pkl\")\n",
    "        after_list += saver.load()\n",
    "\n",
    "print(before_list)\n",
    "print(after_list)\n",
    "\n"
   ]
  }
 ],
 "metadata": {
  "kernelspec": {
   "display_name": "Python 3.7.1 ('base')",
   "language": "python",
   "name": "python3"
  },
  "language_info": {
   "codemirror_mode": {
    "name": "ipython",
    "version": 3
   },
   "file_extension": ".py",
   "mimetype": "text/x-python",
   "name": "python",
   "nbconvert_exporter": "python",
   "pygments_lexer": "ipython3",
   "version": "3.7.1"
  },
  "orig_nbformat": 4,
  "vscode": {
   "interpreter": {
    "hash": "25f3d71a74086e2048b405605cf8f4ef405c30c43c1b90e1cb1de581ffa0947a"
   }
  }
 },
 "nbformat": 4,
 "nbformat_minor": 2
}
