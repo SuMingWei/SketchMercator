{
 "cells": [
  {
   "cell_type": "markdown",
   "id": "c9b5a471-8f5e-4970-bf28-6efd84d61596",
   "metadata": {},
   "source": [
    "## Compare two naive solutions\n",
    "### dataset\n",
    "- 20180816\n",
    "\n",
    "### algo\n",
    "#### univmon\n",
    "- cardinality\n",
    "- entropy\n",
    "- ARE\n",
    "\n",
    "#### hll\n",
    "- cardinality\n",
    "\n",
    "#### CM\n",
    "- ARE\n",
    "- entropy\n",
    "\n",
    "#### CS\n",
    "- ARE"
   ]
  },
  {
   "cell_type": "code",
   "execution_count": 1,
   "id": "81e0d179-ae0c-4170-96f2-41c5fc6c1f3a",
   "metadata": {},
   "outputs": [],
   "source": [
    "import pickle\n",
    "import matplotlib.pyplot as plt\n",
    "import matplotlib.patches as mpatches\n",
    "import numpy as np\n",
    "import random\n",
    "import json"
   ]
  },
  {
   "cell_type": "markdown",
   "id": "c5c6c49c-4953-46ca-9e5d-51dfb58667b0",
   "metadata": {},
   "source": [
    "---\n",
    "\n",
    "## Define common functions"
   ]
  },
  {
   "cell_type": "code",
   "execution_count": null,
   "id": "663c626c-1472-40b4-9e7d-ce1ad8657f63",
   "metadata": {},
   "outputs": [],
   "source": [
    "## read_data from result of control plane\n",
    "def read_data(algos, row=4, width=1024, level=1, seed=1, count=1, flowkey='dstIP,dstPort', \n",
    "              epochs=['10', '20', '30'], dataset='equinix-nyc.dirA.20180816-130900.UTC.anon.pcap/'):\n",
    "    res = {}\n",
    "    for algo in algos:\n",
    "        res[algo] = []\n",
    "        for epoch in epochs:\n",
    "            path = f\"../../result_cp/QuerySketch/{algo}/{dataset}\"\\\n",
    "                    f\"{flowkey}/row_{row}_width_{width}_level_{level}_epoch_{epoch}_count_{count}_seed_{seed}/data.pkl\"\n",
    "            # print(algo, epoch)\n",
    "            with open(path, 'rb') as f:\n",
    "                ll = pickle.load(f)\n",
    "            res[algo].append(ll)\n",
    "            # print(ll[0])\n",
    "    return res"
   ]
  },
  {
   "cell_type": "code",
   "execution_count": null,
   "id": "f6ab4f65-e5b8-4f44-b7ce-8f2bdccf57ef",
   "metadata": {},
   "outputs": [],
   "source": [
    "## Define metric -> algos\n",
    "def get_metrics():\n",
    "    metrics = {}\n",
    "    metrics['hh'] = ['cm', 'cs']\n",
    "    metrics['card'] = ['hll']\n",
    "    metrics['entropy'] = ['cm']\n",
    "    return metrics\n",
    "metrics = get_metrics()\n",
    "general_metrics = ['univmon']"
   ]
  },
  {
   "cell_type": "code",
   "execution_count": null,
   "id": "6bf4ea93-f47a-4dae-9ec3-06e36bae93d4",
   "metadata": {},
   "outputs": [],
   "source": [
    "## Define mapping dictionary for index <---> metric\n",
    "algos = ['univmon', 'cm', 'cs', 'hll', 'lc', 'mrac', 'll', 'mrb']\n",
    "def get_metric_mapping(algos = ['univmon', 'cm', 'cs', 'hll']):\n",
    "    mapping = {}\n",
    "    for k in algos:\n",
    "        mapping[k] = {}\n",
    "\n",
    "    if 'univmon' in algos:\n",
    "        # UNIV: [true_entropy, sim_entropy, sim_entropy_error, true_card, sim_card, sim_card_error, ARE]\n",
    "        mapping['univmon']['hh'] = 6\n",
    "        mapping['univmon']['card'] = 5 \n",
    "        mapping['univmon']['entropy'] = 2\n",
    "    if 'cm' in algos:\n",
    "        # cm: [entropy, entropy_est, relative_entropy_error, sim_ARE_error, sim_change_detection_error]\n",
    "        mapping['cm']['hh'] = 3\n",
    "        mapping['cm']['entropy'] = 2\n",
    "        mapping['cm']['change_det'] = 4\n",
    "    if 'cs' in algos:\n",
    "        # cs: [entropy, entropy_est, relative_entropy_error, sim_ARE_error, sim_change_detection_error]\n",
    "        mapping['cs']['hh'] = 3\n",
    "        mapping['cs']['entropy'] = 2\n",
    "        mapping['cs']['change_det'] = 4\n",
    "    if 'hll' in algos:\n",
    "        # hll: [true_cardinality, sim_cardinality, sim_error]\n",
    "        mapping['hll']['card'] = 2\n",
    "    if 'll' in algos:\n",
    "        # ll: [true_cardinality, sim_cardinality, sim_error]\n",
    "        mapping['ll']['card'] = 2\n",
    "    if 'lc' in algos:\n",
    "        # lc: [true_cardinality, sim_cardinality, sim_error]\n",
    "        mapping['lc']['card'] = 2\n",
    "    if 'mrac' in algos:\n",
    "        # mrac: [WMRD, entropy_true, entropy_est, entropy_err]\n",
    "        mapping['mrac']['fsd'] = 0\n",
    "        mapping['mrac']['entropy'] = 3\n",
    "    if 'mrb' in algos:\n",
    "        # mrb: [true_cardinality, sim_cardinality, sim_error]\n",
    "        mapping['mrb']['card'] = 2\n",
    "    return mapping\n",
    "mapping = get_metric_mapping(algos)"
   ]
  },
  {
   "cell_type": "markdown",
   "id": "f0d331b6-c17e-463a-9b1c-5a8d5c11b764",
   "metadata": {},
   "source": [
    "---\n",
    "\n",
    "## Compare two naive solutions\n",
    "### Best algo per metric"
   ]
  },
  {
   "cell_type": "code",
   "execution_count": 27,
   "id": "ed2bf0e5-7b99-46c8-bfd4-b2f6cef91dea",
   "metadata": {},
   "outputs": [],
   "source": [
    "## temporary function\n",
    "def call_read_data_per_algo(flowkey='dstIP,dstPort', epochs=['30']):\n",
    "    seed = 1\n",
    "    count = 1\n",
    "    result = {}\n",
    "\n",
    "    algos = ['univmon']\n",
    "    r = 4\n",
    "    w = 1024\n",
    "    level = 16\n",
    "    tmp = read_data(algos, r, w, level, seed, count, flowkey, epochs)\n",
    "    result = {**result, **tmp}\n",
    "\n",
    "    algos = ['cm', 'cs']\n",
    "    r = 4\n",
    "    w = 16384\n",
    "    level = 1\n",
    "    tmp = read_data(algos, r, w, level, seed, count, flowkey, epochs)\n",
    "    result = {**result, **tmp}\n",
    "\n",
    "    algos = ['hll']\n",
    "    r = 1\n",
    "    w = 16384\n",
    "    seed = 3\n",
    "    level = 1\n",
    "    tmp = read_data(algos, r, w, level, seed, count, flowkey, epochs)\n",
    "    result = {**result, **tmp}\n",
    "    return result\n",
    "# call_read_data_per_algo()"
   ]
  },
  {
   "cell_type": "code",
   "execution_count": 28,
   "id": "9c121966-3dba-475e-8430-051764379423",
   "metadata": {},
   "outputs": [],
   "source": [
    "metrics = get_metrics()\n",
    "general_metrics = ['univmon']"
   ]
  },
  {
   "cell_type": "code",
   "execution_count": 29,
   "id": "0f20777c-e9ce-4e75-b52e-879e2f0a6b42",
   "metadata": {},
   "outputs": [],
   "source": [
    "epochs = ['30']\n",
    "flowkeys = [\"srcIP,srcPort\", \"dstIP,dstPort\",]"
   ]
  },
  {
   "cell_type": "code",
   "execution_count": 30,
   "id": "bed3b895-81a4-4a0e-a846-70dabcbf2efe",
   "metadata": {},
   "outputs": [],
   "source": [
    "algos = ['univmon', 'cm', 'cs', 'hll']\n",
    "# algos = ['univmon', 'cm', 'cs', 'hll', 'lc', 'mrac', 'll', 'mrb']\n",
    "mapping = get_metric_mapping(algos)"
   ]
  },
  {
   "cell_type": "code",
   "execution_count": 31,
   "id": "30a2df87-9068-4f15-bead-c7837501661b",
   "metadata": {},
   "outputs": [],
   "source": [
    "VERBOSE = False\n",
    "times = 40\n",
    "\n",
    "# key of result: metric\n",
    "result_algo = {}\n",
    "result_val = {}\n",
    "for k in metrics:\n",
    "    result_algo[k] = []\n",
    "    result_val[k] = []\n",
    "\n",
    "for t in range(times):\n",
    "    epoch = random.randint(0, len(epochs)-1)\n",
    "    flowkey = random.randint(0, len(flowkeys)-1)\n",
    "    if VERBOSE:\n",
    "        print('epoch:', epochs[epoch])\n",
    "        print('flowkey:', flowkeys[flowkey])\n",
    "    \n",
    "    data = call_read_data_per_algo(flowkeys[flowkey], epochs)\n",
    "    \n",
    "    for metric, algos in metrics.items():\n",
    "        tmp_algo = ''\n",
    "        tmp_min = 100\n",
    "        for algo in (algos + general_metrics):\n",
    "            if VERBOSE:\n",
    "                print(metric, algo)\n",
    "            ll = []\n",
    "            for d in data[algo][epoch]:\n",
    "                ll.append(d[mapping[algo][metric]])\n",
    "            if np.median(ll) < tmp_min:\n",
    "                tmp_min = np.median(ll)\n",
    "                tmp_algo = algo\n",
    "        result_algo[metric].append(tmp_algo)\n",
    "        result_val[metric].append(tmp_min)"
   ]
  },
  {
   "cell_type": "code",
   "execution_count": 32,
   "id": "18d995b0-b7f1-4bed-8973-f2569b350bf2",
   "metadata": {},
   "outputs": [
    {
     "data": {
      "text/plain": [
       "[13.318970399101207,\n",
       " 11.75896521403131,\n",
       " 11.7126559961059,\n",
       " 0.8838254978979816,\n",
       " 0.8838254978979816]"
      ]
     },
     "execution_count": 32,
     "metadata": {},
     "output_type": "execute_result"
    }
   ],
   "source": [
    "# key: algo, index of epoch, a list for all result from control plane, metric mapping of algo\n",
    "data['cs'][0][0]"
   ]
  },
  {
   "cell_type": "code",
   "execution_count": 33,
   "id": "a9327c65-88de-4066-8c73-ace10aad9485",
   "metadata": {},
   "outputs": [
    {
     "name": "stdout",
     "output_type": "stream",
     "text": [
      "{'hh': ['cm', 'cs', 'cm', 'cm', 'cm', 'cs', 'cs', 'cs', 'cs', 'cs', 'cm', 'cs', 'cs', 'cm', 'cs', 'cm', 'cs', 'cs', 'cm', 'cm', 'cs', 'cs', 'cm', 'cm', 'cm', 'cm', 'cm', 'cs', 'cs', 'cs', 'cm', 'cs', 'cm', 'cm', 'cm', 'cm', 'cs', 'cm', 'cm', 'cm'], 'card': ['hll', 'hll', 'hll', 'hll', 'hll', 'hll', 'hll', 'hll', 'hll', 'hll', 'hll', 'hll', 'hll', 'hll', 'hll', 'hll', 'hll', 'hll', 'hll', 'hll', 'hll', 'hll', 'hll', 'hll', 'hll', 'hll', 'hll', 'hll', 'hll', 'hll', 'hll', 'hll', 'hll', 'hll', 'hll', 'hll', 'hll', 'hll', 'hll', 'hll'], 'entropy': ['univmon', 'univmon', 'univmon', 'univmon', 'univmon', 'univmon', 'univmon', 'univmon', 'univmon', 'univmon', 'univmon', 'univmon', 'univmon', 'univmon', 'univmon', 'univmon', 'univmon', 'univmon', 'univmon', 'univmon', 'univmon', 'univmon', 'univmon', 'univmon', 'univmon', 'univmon', 'univmon', 'univmon', 'univmon', 'univmon', 'univmon', 'univmon', 'univmon', 'univmon', 'univmon', 'univmon', 'univmon', 'univmon', 'univmon', 'univmon']}\n"
     ]
    }
   ],
   "source": [
    "# index 0 is best algo, 1 is general algo\n",
    "global_result_val = [None] * 2\n",
    "global_result_val[0] = result_val\n",
    "print(result_algo)\n",
    "# print(result_val)"
   ]
  },
  {
   "cell_type": "code",
   "execution_count": 34,
   "id": "a7c714ce-e6a5-4437-86d5-4ab16858f11a",
   "metadata": {},
   "outputs": [
    {
     "name": "stdout",
     "output_type": "stream",
     "text": [
      "number of algos in metrics\n",
      "\n",
      "metric: hh\n",
      "cm 22\n",
      "cs 18\n",
      "univmon 0\n",
      "\n",
      "metric: card\n",
      "hll 40\n",
      "univmon 0\n",
      "\n",
      "metric: entropy\n",
      "cm 0\n",
      "univmon 40\n"
     ]
    }
   ],
   "source": [
    "print(\"number of algos in metrics\")\n",
    "# foreach metric in result\n",
    "for k in result_algo:\n",
    "    print(\"\\nmetric:\", k)\n",
    "    # foreach algo in a metric\n",
    "    for algo in (metrics[k] + general_metrics):\n",
    "        print(algo, result_algo[k].count(algo))"
   ]
  },
  {
   "cell_type": "code",
   "execution_count": 37,
   "id": "8f2f818d-e298-4025-8bff-9e7f23e63177",
   "metadata": {},
   "outputs": [
    {
     "data": {
      "image/png": "[encoded data removed]",
      "text/plain": [
       "<Figure size 504x360 with 1 Axes>"
      ]
     },
     "metadata": {
      "needs_background": "light"
     },
     "output_type": "display_data"
    }
   ],
   "source": [
    "# box plot \n",
    "# https://www.geeksforgeeks.org/box-plot-in-python-using-matplotlib/\n",
    "\n",
    "plot_list = []\n",
    "xlabels = []\n",
    "for k in result_val:\n",
    "    plot_list.append(result_val[k])\n",
    "    xlabels.append(k)\n",
    "\n",
    "fig = plt.figure(figsize = (7, 5))\n",
    " \n",
    "# Creating axes instance\n",
    "ax = fig.add_axes([0, 0, 1, 1])\n",
    "\n",
    "# Creating plot\n",
    "bp = ax.boxplot(plot_list)\n",
    "\n",
    "ax.set_xticklabels(xlabels)\n",
    "plt.title(\"Naive 1: Best algo. per metric\")\n",
    "plt.ylabel(\"(Average) Relative Error (%)\")\n",
    "plt.xlabel(\"Metric\")\n",
    "# show plot\n",
    "plt.show()"
   ]
  },
  {
   "cell_type": "markdown",
   "id": "6223e51a-2f1c-4bb2-b999-9d0475585d4b",
   "metadata": {},
   "source": [
    "### Most general as possible (an algo do every metric)"
   ]
  },
  {
   "cell_type": "code",
   "execution_count": 13,
   "id": "2a5adee9-422a-4290-8f8e-35136927ce29",
   "metadata": {},
   "outputs": [],
   "source": [
    "## temporary function\n",
    "def call_read_data_general_algo(flowkey='dstIP,dstPort'):\n",
    "    result = {}\n",
    "\n",
    "    algos = ['univmon']\n",
    "    r = 4\n",
    "    w = 2048\n",
    "    tmp = read_data(algos, r, w, flowkey)\n",
    "    result = {**result, **tmp}\n",
    "    return result"
   ]
  },
  {
   "cell_type": "code",
   "execution_count": 14,
   "id": "d15b9a8e-91c9-4e4a-b4a7-b6da94800bb6",
   "metadata": {},
   "outputs": [],
   "source": [
    "VERBOSE = False\n",
    "times = 20\n",
    "\n",
    "result_algo = {}\n",
    "result_val = {}\n",
    "for k in metrics:\n",
    "    result_algo[k] = []\n",
    "    result_val[k] = []\n",
    "\n",
    "for t in range(times):\n",
    "    epoch = random.randint(0, len(epochs)-1)\n",
    "    flowkey = random.randint(0, len(flowkeys)-1)\n",
    "    if VERBOSE:\n",
    "        print('epoch:', epochs[epoch])\n",
    "        print('flowkey:', flowkeys[flowkey])\n",
    "    \n",
    "    data = call_read_data_general_algo(flowkeys[flowkey])\n",
    "    \n",
    "    for metric, algos in metrics.items():\n",
    "        tmp_algo = ''\n",
    "        tmp_min = 100\n",
    "        for algo in general_metrics:\n",
    "            if VERBOSE:\n",
    "                print(metric, algo)\n",
    "            ll = []\n",
    "            for d in data[algo][epoch]:\n",
    "                ll.append(d[mapping[algo][metric]])\n",
    "            if np.median(ll) < tmp_min:\n",
    "                tmp_min = np.median(ll)\n",
    "                tmp_algo = algo\n",
    "        result_algo[metric].append(tmp_algo)\n",
    "        result_val[metric].append(tmp_min)"
   ]
  },
  {
   "cell_type": "code",
   "execution_count": 15,
   "id": "22ef54c4-f914-4ae7-9154-69345cbbaeb6",
   "metadata": {},
   "outputs": [
    {
     "name": "stdout",
     "output_type": "stream",
     "text": [
      "{'hh': [1.6848814763411863, 1.3092427334926557, 1.2377577974665437, 1.6846812676166092, 1.1050076080153377, 1.6285944297210655, 1.2377577974665437, 1.2560325813294801, 1.6846812676166092, 1.3092427334926557, 1.2560325813294801, 1.6848814763411863, 0.9977634880133939, 1.4262237659888177, 1.6846812676166092, 1.2560325813294801, 1.6846812676166092, 1.3092427334926557, 1.450846994463833, 1.2560325813294801], 'card': [28.032127578447167, 4.8388407942441685, 17.477412097681338, 16.61785101281151, 9.921576741827147, 15.555940394150664, 17.477412097681338, 7.4823473072261075, 16.61785101281151, 4.8388407942441685, 7.4823473072261075, 28.032127578447167, 6.344444104976933, 11.065948897748957, 16.61785101281151, 7.4823473072261075, 16.61785101281151, 4.8388407942441685, 7.462154895073621, 7.4823473072261075], 'entropy': [1.439309617009481, 1.8924758053698527, 0.6750987417799937, 2.5796468048306043, 1.727016122456436, 0.928294889753086, 0.6750987417799937, 1.6823539162819576, 2.5796468048306043, 1.8924758053698527, 1.6823539162819576, 1.439309617009481, 0.7823189530883878, 2.8520953199585315, 2.5796468048306043, 1.6823539162819576, 2.5796468048306043, 1.8924758053698527, 1.925662294073728, 1.6823539162819576]}\n"
     ]
    }
   ],
   "source": [
    "global_result_val[1] = result_val\n",
    "# print(result_algo)\n",
    "print(result_val)"
   ]
  },
  {
   "cell_type": "code",
   "execution_count": 16,
   "id": "eddd3fa2-8072-460d-9126-e3a3fffd97c6",
   "metadata": {},
   "outputs": [
    {
     "data": {
      "image/png": "[encoded data removed]",
      "text/plain": [
       "<Figure size 504x360 with 1 Axes>"
      ]
     },
     "metadata": {
      "needs_background": "light"
     },
     "output_type": "display_data"
    }
   ],
   "source": [
    "# box plot \n",
    "# https://www.geeksforgeeks.org/box-plot-in-python-using-matplotlib/\n",
    "\n",
    "plot_list = []\n",
    "xlabels = []\n",
    "for k in result_val:\n",
    "    plot_list.append(result_val[k])\n",
    "    xlabels.append(k)\n",
    "\n",
    "fig = plt.figure(figsize = (7, 5))\n",
    " \n",
    "# Creating axes instance\n",
    "ax = fig.add_axes([0, 0, 1, 1])\n",
    "\n",
    "# Creating plot\n",
    "bp = ax.boxplot(plot_list)\n",
    "\n",
    "ax.set_xticklabels(xlabels)\n",
    "plt.title(\"Naive 2: General algo. for all metrics\")\n",
    "plt.ylabel(\"(Average) Relative Error (%)\")\n",
    "plt.xlabel(\"Metric\")\n",
    "# show plot\n",
    "plt.show()"
   ]
  },
  {
   "cell_type": "code",
   "execution_count": null,
   "id": "597d7a1e-90ee-4498-9117-c536ea41bcbe",
   "metadata": {},
   "outputs": [],
   "source": []
  },
  {
   "cell_type": "code",
   "execution_count": 185,
   "id": "21f343ab-3d87-48cf-a5c8-6b6041449582",
   "metadata": {},
   "outputs": [
    {
     "name": "stderr",
     "output_type": "stream",
     "text": [
      "The PostScript backend does not support transparency; partially transparent artists will be rendered opaque.\n",
      "The PostScript backend does not support transparency; partially transparent artists will be rendered opaque.\n"
     ]
    },
    {
     "data": {
      "image/png": "[encoded data removed]",
      "text/plain": [
       "<Figure size 576x360 with 1 Axes>"
      ]
     },
     "metadata": {
      "needs_background": "light"
     },
     "output_type": "display_data"
    }
   ],
   "source": [
    "## comparison version plot\n",
    "# box plot \n",
    "# https://www.geeksforgeeks.org/box-plot-in-python-using-matplotlib/\n",
    "# Box plots with custom fill colors\n",
    "# https://matplotlib.org/stable/gallery/statistics/boxplot_color.html\n",
    "\n",
    "import matplotlib.patches as mpatches\n",
    "\n",
    "xlabels = ['Heavy Hitter', \"Cardinality\", \"Entropy\"]\n",
    "colors = ['crimson', 'royalblue']\n",
    "colors = colors * len(global_result_val[0])\n",
    "\n",
    "fig = plt.figure(figsize = (8, 5))\n",
    "# Creating axes instance\n",
    "ax = fig.add_axes([0, 0, 1, 1])\n",
    "\n",
    "plot_list = []\n",
    "for k in global_result_val[0]:\n",
    "    plot_list.append(global_result_val[0][k])\n",
    "    plot_list.append(global_result_val[1][k])\n",
    "\n",
    "# Creating plot\n",
    "bplot = ax.boxplot(x=plot_list, \n",
    "                   positions = [1.2,1.8, 3.2,3.8, 5.2,5.8],\n",
    "                   patch_artist=True)\n",
    "# ax.set_xlim(0, 1)\n",
    "\n",
    "for patch, color in zip(bplot['boxes'], colors):\n",
    "    patch.set_facecolor(color)\n",
    "\n",
    "# plt.title(\"Naive solutions comparison\", fontsize=16)\n",
    "plt.ylabel(\"(Average) Relative Error (%)\", fontsize=16)\n",
    "# plt.xlabel(\"Solution\")\n",
    "plt.xticks([1.5, 3.5, 5.5], xlabels, fontsize=16)\n",
    "plt.yticks(fontsize=14)\n",
    "\n",
    "# create legends\n",
    "# xlabels = ['Best algorithms', \"General algorithm\"]\n",
    "legend_patch = []\n",
    "legend_patch.append(mpatches.Patch(color='crimson', label='Best algorithms'))\n",
    "legend_patch.append(mpatches.Patch(color='royalblue', label='General algorithm'))\n",
    "plt.legend(handles=legend_patch, fontsize=16)\n",
    "\n",
    "# plt.savefig('naive_solution_comparison.png', format='png', bbox_inches='tight')\n",
    "# plt.savefig('naive_solution_comparison.eps', format='eps', bbox_inches='tight')\n",
    "\n",
    "# show plot\n",
    "plt.show()"
   ]
  },
  {
   "cell_type": "code",
   "execution_count": 164,
   "id": "d7e3d258-92c5-4f69-a1cf-10ca10d920a0",
   "metadata": {},
   "outputs": [
    {
     "data": {
      "text/plain": [
       "array([0.1216132 , 0.04254982, 0.13659472, 0.02933182, 0.11275453,\n",
       "       0.08709187, 0.138198  , 0.11194447, 0.03420026, 0.07647778,\n",
       "       0.04463837, 0.09437868, 0.07779481, 0.03543468, 0.11883769,\n",
       "       0.12034881, 0.14153182, 0.10260142, 0.12733588, 0.12692565,\n",
       "       0.09419536, 0.05906843, 0.15747818, 0.10937669, 0.07826018,\n",
       "       0.19620454, 0.08872757, 0.15464232, 0.17253338, 0.13806216,\n",
       "       0.13323353, 0.13052287, 0.10640285, 0.17179477, 0.0944194 ,\n",
       "       0.06336332, 0.10068148, 0.06941075, 0.1517553 , 0.1275969 ])"
      ]
     },
     "execution_count": 164,
     "metadata": {},
     "output_type": "execute_result"
    }
   ],
   "source": [
    "np.random.normal(0.1, 0.05, size=40)"
   ]
  },
  {
   "cell_type": "code",
   "execution_count": 184,
   "id": "b13b75a6-ff0f-47ce-8dc7-c51af23d1179",
   "metadata": {},
   "outputs": [
    {
     "data": {
      "image/png": "[encoded data removed]",
      "text/plain": [
       "<Figure size 576x360 with 1 Axes>"
      ]
     },
     "metadata": {
      "needs_background": "light"
     },
     "output_type": "display_data"
    }
   ],
   "source": [
    "## comparison version plot\n",
    "# box plot \n",
    "# https://www.geeksforgeeks.org/box-plot-in-python-using-matplotlib/\n",
    "# Box plots with custom fill colors\n",
    "# https://matplotlib.org/stable/gallery/statistics/boxplot_color.html\n",
    "\n",
    "import matplotlib.patches as mpatches\n",
    "\n",
    "xlabels = ['Heavy Hitter', \"Cardinality\", \"Entropy\"]\n",
    "colors = ['crimson', 'royalblue', 'darkgreen']\n",
    "colors = colors * len(global_result_val[0])\n",
    "\n",
    "fig = plt.figure(figsize = (8, 5))\n",
    "# Creating axes instance\n",
    "ax = fig.add_axes([0, 0, 1, 1])\n",
    "\n",
    "plot_list = []\n",
    "for k in global_result_val[0]:\n",
    "    plot_list.append(global_result_val[0][k])\n",
    "    plot_list.append(global_result_val[1][k])\n",
    "    plot_list.append(np.random.normal(0.2, 0.2, size=40))\n",
    "\n",
    "# Creating plot\n",
    "bplot = ax.boxplot(x=plot_list, \n",
    "                   positions = [1.2,1.8,2.4, 4.2,4.8,5.4, 7.2,7.8,8.4],\n",
    "                   patch_artist=True)\n",
    "# ax.set_xlim(0, 1)\n",
    "\n",
    "for patch, color in zip(bplot['boxes'], colors):\n",
    "    patch.set_facecolor(color)\n",
    "\n",
    "# plt.title(\"Naive solutions comparison\", fontsize=16)\n",
    "plt.ylabel(\"(Average) Relative Error (%)\", fontsize=16)\n",
    "# plt.xlabel(\"Solution\")\n",
    "plt.xticks([1.8, 4.8, 7.8], xlabels, fontsize=16)\n",
    "plt.yticks(fontsize=14)\n",
    "\n",
    "# create legends\n",
    "# xlabels = ['Best algorithms', \"General algorithm\"]\n",
    "legend_patch = []\n",
    "legend_patch.append(mpatches.Patch(color='crimson', label='Best algorithms'))\n",
    "legend_patch.append(mpatches.Patch(color='royalblue', label='General algorithm'))\n",
    "legend_patch.append(mpatches.Patch(color='darkgreen', label='(Dummy) brute force'))\n",
    "plt.legend(handles=legend_patch, fontsize=16)\n",
    "\n",
    "# plt.savefig('test.png', format='png', bbox_inches='tight')\n",
    "# plt.savefig('test.eps', format='eps', bbox_inches='tight')\n",
    "\n",
    "# show plot\n",
    "plt.show()"
   ]
  },
  {
   "cell_type": "code",
   "execution_count": null,
   "id": "c218507b-7402-4196-a868-051ffa243fb2",
   "metadata": {},
   "outputs": [],
   "source": []
  },
  {
   "cell_type": "code",
   "execution_count": null,
   "id": "cffc3174-4614-4f95-911e-54d43dd4fb4e",
   "metadata": {},
   "outputs": [],
   "source": []
  },
  {
   "cell_type": "code",
   "execution_count": null,
   "id": "ac6dd313-0b6e-47ac-ac9a-d46a85948a09",
   "metadata": {},
   "outputs": [],
   "source": []
  },
  {
   "cell_type": "markdown",
   "id": "4229ce0e-8626-490e-86a8-bb2739e3b506",
   "metadata": {},
   "source": [
    "---\n",
    "\n",
    "## Figure 7"
   ]
  },
  {
   "cell_type": "code",
   "execution_count": 5,
   "id": "fe6c4742-eb5b-4f00-b979-e77a49cec94d",
   "metadata": {},
   "outputs": [],
   "source": [
    "def get_result_from_pkl(algos = ['cm'], rows = [1, 2, 3, 4, 5], widths = [4096, 8192, 16384, 32768, 65536, 131072], level=1, seed=1, \n",
    "                           count=1, measure_list = ['hh', 'entropy'], flowkeys = [\"srcIP,srcPort\", \"dstIP,dstPort\",], epochs = ['30'],\n",
    "                     datasets = ['equinix-nyc.dirA.20180517-130900.UTC.anon.pcap/', 'equinix-nyc.dirA.20180517-131000.UTC.anon.pcap/']):\n",
    "    # key: metric, row, width\n",
    "    ret = {}\n",
    "    for m in measure_list:\n",
    "        ret[m] = {}\n",
    "        for r in rows:\n",
    "            ret[m][r] = {}\n",
    "            for w in widths:\n",
    "                ret[m][r][w] = []\n",
    "\n",
    "    for r in rows:\n",
    "        for w in widths:\n",
    "            for flowkey in flowkeys:\n",
    "                for dataset in datasets:\n",
    "                    tmp = read_data(algos, r, w, level, seed, count, flowkey, epochs, dataset)\n",
    "                    for algo in algos:\n",
    "                        for measure in measure_list:\n",
    "                            # epoch\n",
    "                            for e in range(len(epochs)):\n",
    "                                # ll = []\n",
    "                                # raw data\n",
    "                                for d in tmp[algo][e]:\n",
    "                                    # ll.append(d[mapping[algo][measure]])\n",
    "                                    ret[measure][r][w].append(d[mapping[algo][measure]])\n",
    "                                # print(w, flowkey, measure, epochs[e], np.mean(ll))\n",
    "    return ret"
   ]
  },
  {
   "cell_type": "markdown",
   "id": "89afa2e1-2551-42fc-9c6d-85b67323b70e",
   "metadata": {},
   "source": [
    "#### Common variables"
   ]
  },
  {
   "cell_type": "code",
   "execution_count": 6,
   "id": "ca73a012-4f05-480f-9efd-62e263611ed3",
   "metadata": {},
   "outputs": [],
   "source": [
    "seed = 1\n",
    "count = 1\n",
    "# flowkeys = [\"srcIP,srcPort\", \"dstIP,dstPort\",]\n",
    "flowkeys = [\"dstIP,dstPort\",]\n",
    "epochs = ['30']\n",
    "datasets = ['equinix-nyc.dirA.20180517-130900.UTC.anon.pcap/', 'equinix-nyc.dirA.20180517-131000.UTC.anon.pcap/', 'equinix-nyc.dirA.20180517-131100.UTC.anon.pcap/', \n",
    "           'equinix-nyc.dirA.20180621-130900.UTC.anon.pcap/', 'equinix-nyc.dirA.20180621-131000.UTC.anon.pcap/', 'equinix-nyc.dirA.20180621-131100.UTC.anon.pcap/', \n",
    "           'equinix-nyc.dirA.20180816-130900.UTC.anon.pcap/', 'equinix-nyc.dirA.20180816-131000.UTC.anon.pcap/', 'equinix-nyc.dirA.20180816-131100.UTC.anon.pcap/', ]"
   ]
  },
  {
   "cell_type": "markdown",
   "id": "9cf6758b-c018-4369-923e-9f20b28d1e4b",
   "metadata": {},
   "source": [
    "#### Strawman 1"
   ]
  },
  {
   "cell_type": "code",
   "execution_count": 7,
   "id": "50399e19-497f-48ae-acaa-c680596288e0",
   "metadata": {},
   "outputs": [],
   "source": [
    "all_metrics = []\n",
    "\n",
    "## key: metric\n",
    "ret_sol1 = {}\n",
    "\n",
    "#########################################\n",
    "measure_list = ['card']\n",
    "algos = ['hll']\n",
    "rows = [1]\n",
    "widths = [8192]\n",
    "level = 1\n",
    "\n",
    "all_metrics += measure_list\n",
    "ret = get_result_from_pkl(algos, rows, widths, level, seed, count, measure_list, flowkeys, epochs, datasets)\n",
    "for m in measure_list:\n",
    "    tmp = {}\n",
    "    tmp[m] = ret[m][rows[0]][widths[0]]\n",
    "    ret_sol1 = {**ret_sol1, **tmp}\n",
    "\n",
    "#########################################\n",
    "measure_list = ['hh', 'change_det']\n",
    "algos = ['cs']\n",
    "rows = [5]\n",
    "widths = [16384]\n",
    "level = 1\n",
    "\n",
    "all_metrics += measure_list\n",
    "ret = get_result_from_pkl(algos, rows, widths, level, seed, count, measure_list, flowkeys, epochs, datasets)\n",
    "for m in measure_list:\n",
    "    tmp = {}\n",
    "    tmp[m] = ret[m][rows[0]][widths[0]]\n",
    "    ret_sol1 = {**ret_sol1, **tmp}\n",
    "\n",
    "#########################################\n",
    "measure_list = ['entropy']\n",
    "algos = ['mrac']\n",
    "rows = [1]\n",
    "widths = [8192]\n",
    "level = 8\n",
    "\n",
    "all_metrics += measure_list\n",
    "ret = get_result_from_pkl(algos, rows, widths, level, seed, count, measure_list, flowkeys, epochs, datasets)\n",
    "for m in measure_list:\n",
    "    tmp = {}\n",
    "    tmp[m] = ret[m][rows[0]][widths[0]]\n",
    "    ret_sol1 = {**ret_sol1, **tmp}\n",
    "\n",
    "# ret_sol1"
   ]
  },
  {
   "cell_type": "markdown",
   "id": "847280a2-494c-4ad9-9cab-b08f223e0be3",
   "metadata": {},
   "source": [
    "#### Strawman 2"
   ]
  },
  {
   "cell_type": "code",
   "execution_count": 8,
   "id": "e9e5c538-5bf5-4f3c-8342-cf9567219676",
   "metadata": {},
   "outputs": [],
   "source": [
    "## key: metric\n",
    "ret_sol2 = {}\n",
    "\n",
    "#########################################\n",
    "measure_list = ['card']\n",
    "algos = ['hll']\n",
    "rows = [1]\n",
    "widths = [4096]\n",
    "level = 1\n",
    "\n",
    "ret = get_result_from_pkl(algos, rows, widths, level, seed, count, measure_list, flowkeys, epochs, datasets)\n",
    "for m in measure_list:\n",
    "    tmp = {}\n",
    "    tmp[m] = ret[m][rows[0]][widths[0]]\n",
    "    ret_sol2 = {**ret_sol2, **tmp}\n",
    "\n",
    "#########################################\n",
    "measure_list = ['hh', 'change_det']\n",
    "algos = ['cs']\n",
    "rows = [5]\n",
    "widths = [16384]\n",
    "level = 1\n",
    "\n",
    "ret = get_result_from_pkl(algos, rows, widths, level, seed, count, measure_list, flowkeys, epochs, datasets)\n",
    "for m in measure_list:\n",
    "    tmp = {}\n",
    "    tmp[m] = ret[m][rows[0]][widths[0]]\n",
    "    ret_sol2 = {**ret_sol2, **tmp}\n",
    "\n",
    "#########################################\n",
    "measure_list = ['entropy']\n",
    "algos = ['mrac']\n",
    "rows = [1]\n",
    "widths = [8192]\n",
    "level = 8\n",
    "\n",
    "ret = get_result_from_pkl(algos, rows, widths, level, seed, count, measure_list, flowkeys, epochs, datasets)\n",
    "for m in measure_list:\n",
    "    tmp = {}\n",
    "    tmp[m] = ret[m][rows[0]][widths[0]]\n",
    "    ret_sol2 = {**ret_sol2, **tmp}\n",
    "\n",
    "# ret_sol2"
   ]
  },
  {
   "cell_type": "markdown",
   "id": "64b42399-f2df-49e5-81bd-904872a85b12",
   "metadata": {},
   "source": [
    "#### Strawman 3"
   ]
  },
  {
   "cell_type": "code",
   "execution_count": 9,
   "id": "b98ab112-1bb8-4789-b741-01e6518f0d97",
   "metadata": {},
   "outputs": [],
   "source": [
    "## key: metric\n",
    "ret_sol3 = {}\n",
    "\n",
    "#########################################\n",
    "measure_list = ['card']\n",
    "algos = ['hll']\n",
    "rows = [1]\n",
    "widths = [4096]\n",
    "level = 1\n",
    "\n",
    "ret = get_result_from_pkl(algos, rows, widths, level, seed, count, measure_list, flowkeys, epochs, datasets)\n",
    "for m in measure_list:\n",
    "    tmp = {}\n",
    "    tmp[m] = ret[m][rows[0]][widths[0]]\n",
    "    ret_sol3 = {**ret_sol3, **tmp}\n",
    "\n",
    "#########################################\n",
    "measure_list = ['hh', 'change_det']\n",
    "algos = ['cs']\n",
    "rows = [5]\n",
    "widths = [16384]\n",
    "level = 1\n",
    "\n",
    "ret = get_result_from_pkl(algos, rows, widths, level, seed, count, measure_list, flowkeys, epochs, datasets)\n",
    "for m in measure_list:\n",
    "    tmp = {}\n",
    "    tmp[m] = ret[m][rows[0]][widths[0]]\n",
    "    ret_sol3 = {**ret_sol3, **tmp}\n",
    "\n",
    "#########################################\n",
    "measure_list = ['entropy']\n",
    "algos = ['mrac']\n",
    "rows = [1]\n",
    "widths = [8192]\n",
    "level = 8\n",
    "\n",
    "ret = get_result_from_pkl(algos, rows, widths, level, seed, count, measure_list, flowkeys, epochs, datasets)\n",
    "for m in measure_list:\n",
    "    tmp = {}\n",
    "    tmp[m] = ret[m][rows[0]][widths[0]]\n",
    "    ret_sol3 = {**ret_sol3, **tmp}\n",
    "\n",
    "# ret_sol3"
   ]
  },
  {
   "cell_type": "markdown",
   "id": "7cf89f33-40ee-4732-a21e-706d093a99e0",
   "metadata": {},
   "source": [
    "#### US solution"
   ]
  },
  {
   "cell_type": "code",
   "execution_count": 10,
   "id": "c5a8e34d-11b8-4865-ac49-664a4fe7574f",
   "metadata": {},
   "outputs": [],
   "source": [
    "## key: metric\n",
    "ret_us = {}\n",
    "\n",
    "#########################################\n",
    "measure_list = ['card']\n",
    "algos = ['hll']\n",
    "rows = [1]\n",
    "widths = [16384]\n",
    "level = 1\n",
    "\n",
    "ret = get_result_from_pkl(algos, rows, widths, level, seed, count, measure_list, flowkeys, epochs, datasets)\n",
    "for m in measure_list:\n",
    "    tmp = {}\n",
    "    tmp[m] = ret[m][rows[0]][widths[0]]\n",
    "    ret_us = {**ret_us, **tmp}\n",
    "\n",
    "#########################################\n",
    "measure_list = ['hh', 'change_det']\n",
    "algos = ['cs']\n",
    "rows = [5]\n",
    "widths = [32768]\n",
    "level = 1\n",
    "\n",
    "ret = get_result_from_pkl(algos, rows, widths, level, seed, count, measure_list, flowkeys, epochs, datasets)\n",
    "for m in measure_list:\n",
    "    tmp = {}\n",
    "    tmp[m] = ret[m][rows[0]][widths[0]]\n",
    "    ret_us = {**ret_us, **tmp}\n",
    "\n",
    "#########################################\n",
    "measure_list = ['entropy']\n",
    "algos = ['mrac']\n",
    "rows = [1]\n",
    "widths = [16384]\n",
    "level = 8\n",
    "\n",
    "ret = get_result_from_pkl(algos, rows, widths, level, seed, count, measure_list, flowkeys, epochs, datasets)\n",
    "for m in measure_list:\n",
    "    tmp = {}\n",
    "    tmp[m] = ret[m][rows[0]][widths[0]]\n",
    "    ret_us = {**ret_us, **tmp}\n",
    "\n",
    "# ret_us"
   ]
  },
  {
   "cell_type": "code",
   "execution_count": 11,
   "id": "c799d728-4087-4938-b3df-d1e707de2581",
   "metadata": {},
   "outputs": [],
   "source": [
    "## ret_us['card']\n",
    "## key: metric\n",
    "# ret_us"
   ]
  },
  {
   "cell_type": "markdown",
   "id": "ca434155-9109-4b5c-aa1e-06cd5f883804",
   "metadata": {},
   "source": [
    "### Ploting function"
   ]
  },
  {
   "cell_type": "code",
   "execution_count": 12,
   "id": "703a8bb0-2f81-44ed-9d37-dfca06e80ce0",
   "metadata": {},
   "outputs": [],
   "source": [
    "def get_x_position(num_metric=3, num_solution=4):\n",
    "    ll = []\n",
    "    for i in range(num_metric):\n",
    "        padding = i * num_solution + 1\n",
    "        val = -0.4\n",
    "        for j in range(num_solution):\n",
    "            val += 0.6\n",
    "            ll.append(padding + val)\n",
    "    return ll\n",
    "def get_xtick_position(num_metric=3, num_solution=4):\n",
    "    isOdd = 0\n",
    "    if num_solution % 2 == 1:\n",
    "        isOdd = 0.4\n",
    "    total = num_metric * num_solution\n",
    "    ll = []\n",
    "    for i in range(num_metric):\n",
    "        padding = i * num_solution\n",
    "        val = num_solution/2\n",
    "        ll.append(padding + val + isOdd)\n",
    "    return ll\n",
    "# get_x_position()\n",
    "# get_xtick_position()"
   ]
  },
  {
   "cell_type": "markdown",
   "id": "fe8b262b-a2a7-429d-96f7-b906ee70bd05",
   "metadata": {},
   "source": [
    "### Raw results"
   ]
  },
  {
   "cell_type": "code",
   "execution_count": 13,
   "id": "c52b9894-8d0f-4c5e-a58c-9ecbdc1dbad7",
   "metadata": {},
   "outputs": [
    {
     "data": {
      "image/png": "[encoded data removed]",
      "text/plain": [
       "<Figure size 576x360 with 1 Axes>"
      ]
     },
     "metadata": {
      "needs_background": "light"
     },
     "output_type": "display_data"
    }
   ],
   "source": [
    "## comparison version plot\n",
    "# box plot \n",
    "# https://www.geeksforgeeks.org/box-plot-in-python-using-matplotlib/\n",
    "# Box plots with custom fill colors\n",
    "# https://matplotlib.org/stable/gallery/statistics/boxplot_color.html\n",
    "\n",
    "import matplotlib.patches as mpatches\n",
    "\n",
    "# xlabels = ['Heavy Hitter', \"Cardinality\", \"Entropy\"]\n",
    "xlabels = all_metrics\n",
    "colors = ['gold', 'crimson', 'royalblue', 'darkgreen']\n",
    "colors = colors * len(xlabels)\n",
    "\n",
    "fig = plt.figure(figsize = (8, 5))\n",
    "# Creating axes instance\n",
    "ax = fig.add_axes([0, 0, 1, 1])\n",
    "\n",
    "plot_list = []\n",
    "for m in all_metrics:\n",
    "    plot_list.append(ret_sol1[m])\n",
    "    plot_list.append(ret_sol2[m])\n",
    "    plot_list.append(ret_sol3[m])\n",
    "    plot_list.append(ret_us[m])\n",
    "\n",
    "# Creating plot\n",
    "bplot = ax.boxplot(x=plot_list, \n",
    "                   positions = get_x_position(len(all_metrics), 4),\n",
    "                   patch_artist=True)\n",
    "# ax.set_xlim(0, 1)\n",
    "\n",
    "for patch, color in zip(bplot['boxes'], colors):\n",
    "    patch.set_facecolor(color)\n",
    "\n",
    "# plt.title(\"Naive solutions comparison\", fontsize=16)\n",
    "plt.ylabel(\"Error (%)\", fontsize=16)\n",
    "# plt.xlabel(\"Solution\")\n",
    "plt.xticks(get_xtick_position(len(all_metrics), 4), xlabels, fontsize=16)\n",
    "plt.yticks(fontsize=14)\n",
    "\n",
    "plt.title(\"Figure 7 - Raw result\", fontsize=18)\n",
    "\n",
    "# create legends\n",
    "# xlabels = ['Best algorithms', \"General algorithm\"]\n",
    "legend_patch = []\n",
    "legend_patch.append(mpatches.Patch(color='gold', label='strawman 1'))\n",
    "legend_patch.append(mpatches.Patch(color='crimson', label='strawman 2'))\n",
    "legend_patch.append(mpatches.Patch(color='royalblue', label='strawman 3'))\n",
    "legend_patch.append(mpatches.Patch(color='darkgreen', label='us'))\n",
    "plt.legend(handles=legend_patch, fontsize=16)\n",
    "\n",
    "# plt.savefig('test.png', format='png', bbox_inches='tight')\n",
    "# plt.savefig('test.eps', format='eps', bbox_inches='tight')\n",
    "\n",
    "# show plot\n",
    "plt.show()"
   ]
  },
  {
   "cell_type": "markdown",
   "id": "55a18f95-6d8f-4ed6-9a21-c209aa2699dd",
   "metadata": {},
   "source": [
    "### Gain over strawman"
   ]
  },
  {
   "cell_type": "code",
   "execution_count": 23,
   "id": "529109df-75df-46ae-84ed-09910248a727",
   "metadata": {},
   "outputs": [],
   "source": [
    "gain_result = {}\n",
    "\n",
    "for m in all_metrics:\n",
    "    gain_result[m] = []\n",
    "for m in all_metrics:\n",
    "    gain_result[m].append(np.array(ret_sol1[m]) - np.array(ret_us[m]))\n",
    "    gain_result[m].append(np.array(ret_sol2[m]) - np.array(ret_us[m]))\n",
    "    gain_result[m].append(np.array(ret_sol3[m]) - np.array(ret_us[m]))"
   ]
  },
  {
   "cell_type": "code",
   "execution_count": 24,
   "id": "0df91593-5037-4ce1-9b68-1bd935452a2e",
   "metadata": {},
   "outputs": [
    {
     "data": {
      "image/png": "[encoded data removed]",
      "text/plain": [
       "<Figure size 576x360 with 1 Axes>"
      ]
     },
     "metadata": {
      "needs_background": "light"
     },
     "output_type": "display_data"
    }
   ],
   "source": [
    "## comparison version plot\n",
    "# box plot \n",
    "# https://www.geeksforgeeks.org/box-plot-in-python-using-matplotlib/\n",
    "# Box plots with custom fill colors\n",
    "# https://matplotlib.org/stable/gallery/statistics/boxplot_color.html\n",
    "\n",
    "import matplotlib.patches as mpatches\n",
    "\n",
    "# xlabels = ['Heavy Hitter', \"Cardinality\", \"Entropy\"]\n",
    "xlabels = all_metrics\n",
    "colors = ['gold', 'crimson', 'royalblue']\n",
    "colors = colors * len(xlabels)\n",
    "\n",
    "fig = plt.figure(figsize = (8, 5))\n",
    "# Creating axes instance\n",
    "ax = fig.add_axes([0, 0, 1, 1])\n",
    "\n",
    "plot_list = []\n",
    "for m in all_metrics:\n",
    "    plot_list.append(gain_result[m][0])\n",
    "    plot_list.append(gain_result[m][1])\n",
    "    plot_list.append(gain_result[m][2])\n",
    "\n",
    "# Creating plot\n",
    "bplot = ax.boxplot(x=plot_list, \n",
    "                   positions = get_x_position(len(all_metrics), len(gain_result[m])),\n",
    "                   patch_artist=True)\n",
    "# ax.set_xlim(0, 1)\n",
    "\n",
    "for patch, color in zip(bplot['boxes'], colors):\n",
    "    patch.set_facecolor(color)\n",
    "\n",
    "# plt.title(\"Naive solutions comparison\", fontsize=16)\n",
    "plt.ylabel(\"Gain over strawmen\", fontsize=16)\n",
    "# plt.xlabel(\"Solution\")\n",
    "plt.xticks(get_xtick_position(len(all_metrics), len(gain_result[m])), xlabels, fontsize=16)\n",
    "plt.yticks(fontsize=14)\n",
    "\n",
    "plt.title(\"Figure 7 - Gain over result\", fontsize=18)\n",
    "\n",
    "# create legends\n",
    "# xlabels = ['Best algorithms', \"General algorithm\"]\n",
    "legend_patch = []\n",
    "legend_patch.append(mpatches.Patch(color='gold', label='gain over straw. 1'))\n",
    "legend_patch.append(mpatches.Patch(color='crimson', label='gain over straw. 2'))\n",
    "legend_patch.append(mpatches.Patch(color='royalblue', label='gain over straw. 3'))\n",
    "plt.legend(handles=legend_patch, fontsize=16)\n",
    "\n",
    "# plt.savefig('test.png', format='png', bbox_inches='tight')\n",
    "# plt.savefig('test.eps', format='eps', bbox_inches='tight')\n",
    "\n",
    "# show plot\n",
    "plt.show()"
   ]
  },
  {
   "cell_type": "markdown",
   "id": "aca5acba-39fb-4790-a732-3711f05e0819",
   "metadata": {},
   "source": [
    "### Consolidate all metrics with gain over result"
   ]
  },
  {
   "cell_type": "code",
   "execution_count": 43,
   "id": "8b509b06-6633-439f-9eba-7ff7b0c66f86",
   "metadata": {},
   "outputs": [],
   "source": [
    "straws = ['straw. 1', 'straw. 2', 'straw. 3', ]\n",
    "merge_gain_result = [[], [], []]\n",
    "\n",
    "for m in all_metrics:\n",
    "    merge_gain_result[0] = np.concatenate((merge_gain_result[0], gain_result[m][0]))\n",
    "    merge_gain_result[1] = np.concatenate((merge_gain_result[1], gain_result[m][1]))\n",
    "    merge_gain_result[2] = np.concatenate((merge_gain_result[2], gain_result[m][2]))\n",
    "\n",
    "# print(len(merge_gain_result[0]))\n",
    "# print(len(gain_result[m][0]))\n",
    "# print(merge_gain_result)"
   ]
  },
  {
   "cell_type": "code",
   "execution_count": 48,
   "id": "c4ec465c-fb55-4eba-88cb-2c895249a7fe",
   "metadata": {},
   "outputs": [
    {
     "data": {
      "image/png": "[encoded data removed]",
      "text/plain": [
       "<Figure size 576x360 with 1 Axes>"
      ]
     },
     "metadata": {
      "needs_background": "light"
     },
     "output_type": "display_data"
    }
   ],
   "source": [
    "## comparison version plot\n",
    "# box plot \n",
    "# https://www.geeksforgeeks.org/box-plot-in-python-using-matplotlib/\n",
    "# Box plots with custom fill colors\n",
    "# https://matplotlib.org/stable/gallery/statistics/boxplot_color.html\n",
    "\n",
    "import matplotlib.patches as mpatches\n",
    "\n",
    "# xlabels = ['Heavy Hitter', \"Cardinality\", \"Entropy\"]\n",
    "xlabels = ['set1']\n",
    "colors = ['gold', 'crimson', 'royalblue']\n",
    "colors = colors * len(xlabels)\n",
    "\n",
    "fig = plt.figure(figsize = (8, 5))\n",
    "# Creating axes instance\n",
    "ax = fig.add_axes([0, 0, 1, 1])\n",
    "\n",
    "plot_list = []\n",
    "for d in merge_gain_result:\n",
    "    plot_list.append(d)\n",
    "\n",
    "# Creating plot\n",
    "bplot = ax.boxplot(x=plot_list, \n",
    "                   positions = get_x_position(len(xlabels), len(merge_gain_result)),\n",
    "                   patch_artist=True)\n",
    "# ax.set_xlim(0, 1)\n",
    "\n",
    "for patch, color in zip(bplot['boxes'], colors):\n",
    "    patch.set_facecolor(color)\n",
    "\n",
    "# plt.title(\"Naive solutions comparison\", fontsize=16)\n",
    "plt.ylabel(\"Gain over strawmen\", fontsize=16)\n",
    "# plt.xlabel(\"Solution\")\n",
    "plt.xticks(get_xtick_position(len(xlabels), len(merge_gain_result)), xlabels, fontsize=16)\n",
    "plt.yticks(fontsize=14)\n",
    "\n",
    "plt.title(\"Figure 7 - Gain over with merge metrics\", fontsize=18)\n",
    "\n",
    "# create legends\n",
    "# xlabels = ['Best algorithms', \"General algorithm\"]\n",
    "legend_patch = []\n",
    "legend_patch.append(mpatches.Patch(color='gold', label='gain over straw. 1'))\n",
    "legend_patch.append(mpatches.Patch(color='crimson', label='gain over straw. 2'))\n",
    "legend_patch.append(mpatches.Patch(color='royalblue', label='gain over straw. 3'))\n",
    "plt.legend(handles=legend_patch, fontsize=16)\n",
    "\n",
    "# plt.savefig('test.png', format='png', bbox_inches='tight')\n",
    "# plt.savefig('test.eps', format='eps', bbox_inches='tight')\n",
    "\n",
    "# show plot\n",
    "plt.show()"
   ]
  },
  {
   "cell_type": "code",
   "execution_count": null,
   "id": "04485afc-f65c-419b-8934-c51f6f21729c",
   "metadata": {},
   "outputs": [],
   "source": []
  }
 ],
 "metadata": {
  "kernelspec": {
   "display_name": "Python 3",
   "language": "python",
   "name": "python3"
  },
  "language_info": {
   "codemirror_mode": {
    "name": "ipython",
    "version": 3
   },
   "file_extension": ".py",
   "mimetype": "text/x-python",
   "name": "python",
   "nbconvert_exporter": "python",
   "pygments_lexer": "ipython3",
   "version": "3.6.9"
  }
 },
 "nbformat": 4,
 "nbformat_minor": 5
}
