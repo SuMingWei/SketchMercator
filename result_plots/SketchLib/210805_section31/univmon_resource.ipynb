{
 "cells": [
  {
   "cell_type": "code",
   "execution_count": 1,
   "metadata": {},
   "outputs": [
    {
     "name": "stdout",
     "output_type": "stream",
     "text": [
      "/Users/hnamkung/workspace/sketch_home/result_plots/SketchLib/210805_section31\n",
      "/Users/hnamkung/workspace/sketch_home/result_plots/SketchLib/210805_section31\n"
     ]
    }
   ],
   "source": [
    "import sys, os\n",
    "\n",
    "cur_dir = os.getcwd()\n",
    "print(cur_dir)\n",
    "\n",
    "sys.path.append(cur_dir)\n",
    "\n",
    "print(cur_dir)\n",
    "\n",
    "import numpy as np\n",
    "import pandas as pd\n",
    "\n",
    "import importlib\n",
    "import data_parser as dp\n",
    "importlib.reload(dp)\n",
    "\n",
    "beluga18 = dp.read_data(\"controlplane_result/beluga18\")\n"
   ]
  },
  {
   "cell_type": "code",
   "execution_count": 2,
   "metadata": {},
   "outputs": [
    {
     "name": "stdout",
     "output_type": "stream",
     "text": [
      "(10, 3, 4, 120, 1, 3)\n",
      "(3, 3, 4, 120, 1, 10)\n",
      "(3, 3, 4, 1, 10, 120)\n",
      "(3, 1, 3, 4, 10, 120)\n"
     ]
    }
   ],
   "source": [
    "# import numpy as np\n",
    "# np_data = np.array(beluga18)\n",
    "# print(np_data.shape) # txt width, row, pcap, opt, metric\n",
    "\n",
    "def reshape3(array):\n",
    "    np1 = np.array(array)\n",
    "    print(np1.shape) # txt, width, row, pcap, opt, metric\n",
    "    \n",
    "    np1 = np.swapaxes(np1, 0, 5)\n",
    "    print(np1.shape) # metric, width, row, pcap, opt, txt\n",
    "\n",
    "    np1 = np.swapaxes(np1, 3, 4)\n",
    "    np1 = np.swapaxes(np1, 4, 5)\n",
    "    print(np1.shape) # metric, width, row, opt, txt, pcap\n",
    "\n",
    "    np1 = np.swapaxes(np1, 2, 3)\n",
    "    np1 = np.swapaxes(np1, 1, 2)\n",
    "    print(np1.shape) # metric, opt, width, row, tx, pcap\n",
    "    \n",
    "    reshaped_array = np1.tolist()\n",
    "\n",
    "    return reshaped_array\n",
    "\n",
    "data = reshape3(beluga18)\n"
   ]
  },
  {
   "cell_type": "code",
   "execution_count": 9,
   "metadata": {},
   "outputs": [
    {
     "name": "stdout",
     "output_type": "stream",
     "text": [
      "(3, 4, 10, 120)\n"
     ]
    },
    {
     "data": {
      "image/png": "[encoded data removed]",
      "text/plain": [
       "<Figure size 360x216 with 1 Axes>"
      ]
     },
     "metadata": {
      "needs_background": "light"
     },
     "output_type": "display_data"
    }
   ],
   "source": [
    "entropy = np.array(data[2][0])\n",
    "print(entropy.shape)\n",
    "plot_data = []\n",
    "labels = []\n",
    "colors = []\n",
    "\n",
    "for di, d in enumerate([3, 4, 5, 6]):\n",
    "    for wi, w in enumerate([1024, 2048, 4096]):\n",
    "        whole_data = []\n",
    "#         print(wi, di)\n",
    "        for i in range(0, 10):\n",
    "#             print(i)\n",
    "            whole_data = [*whole_data, *entropy[wi][di][i]]\n",
    "#         print(whole_data)\n",
    "        plot_data.append(whole_data)\n",
    "        labels.append(\" \")\n",
    "        colors.append(\"C%d\" % wi)\n",
    "\n",
    "import plot as csp\n",
    "importlib.reload(csp)\n",
    "csp.count_sketch_plot(plot_data, \"univmon-entropy\", labels, colors, (5, 3))\n",
    "\n"
   ]
  },
  {
   "cell_type": "code",
   "execution_count": null,
   "metadata": {},
   "outputs": [],
   "source": []
  },
  {
   "cell_type": "code",
   "execution_count": null,
   "metadata": {},
   "outputs": [],
   "source": []
  }
 ],
 "metadata": {
  "kernelspec": {
   "display_name": "Python 3",
   "language": "python",
   "name": "python3"
  },
  "language_info": {
   "codemirror_mode": {
    "name": "ipython",
    "version": 3
   },
   "file_extension": ".py",
   "mimetype": "text/x-python",
   "name": "python",
   "nbconvert_exporter": "python",
   "pygments_lexer": "ipython3",
   "version": "3.7.1"
  }
 },
 "nbformat": 4,
 "nbformat_minor": 2
}
