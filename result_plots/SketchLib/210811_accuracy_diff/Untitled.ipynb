{
 "cells": [
  {
   "cell_type": "code",
   "execution_count": 25,
   "id": "f2d7a2f7",
   "metadata": {},
   "outputs": [],
   "source": [
    "from env_setting.env_module import result_cp_path\n",
    "from python_lib.pkl_saver import PklSaver\n",
    "import os\n",
    "from data_helper.data_path_helper.pcap_path_helper import get_pcap_list_by_date_and_count, get_test_pcap_list_count\n",
    "\n",
    "import matplotlib.pyplot as plt\n",
    "import math\n",
    "\n",
    "row_list = [5, 5]\n",
    "level_list = [16, 16]\n",
    "width_list = [2048, 2048]\n",
    "flag_list = [False, True]\n",
    "\n",
    "date = 20140619\n",
    "pcap_list = get_pcap_list_by_date_and_count(date, \"60s\", 60)\n",
    "\n",
    "# total = []\n",
    "# ent = []\n",
    "\n",
    "sketch_name = \"univmon\"\n",
    "total = []\n",
    "for width, row, level, flag, in zip(width_list, row_list, level_list, flag_list):\n",
    "    data_list = []\n",
    "    for (pcap_full_path, pcap_folder_path, pcap_file_name) in pcap_list:\n",
    "        for seed in [1,2,3,4,5,6,7,8,9,10]:\n",
    "            if flag:\n",
    "                str = \"optimized/row_%d_level_%d_width_%d\" % (row, level, width)\n",
    "            else:\n",
    "                str = \"original/row_%d_level_%d_width_%d\" % (row, level, width)\n",
    "            str2 = \"%02d.txt\" % seed\n",
    "            pkl_path = os.path.join(result_cp_path, \"SketchLib\", sketch_name, pcap_file_name, str, str2)\n",
    "            saver = PklSaver(pkl_path, \"data.pkl\")\n",
    "            data = saver.load()\n",
    "#             print(data)\n",
    "#         break\n",
    "#     break\n",
    "            # cardinality\n",
    "            data_list.append(data[0][5])\n",
    "            data_list.append(data[1][5])\n",
    "    total.append(data_list)\n",
    "            "
   ]
  },
  {
   "cell_type": "code",
   "execution_count": 26,
   "id": "cf522c20",
   "metadata": {},
   "outputs": [
    {
     "name": "stdout",
     "output_type": "stream",
     "text": [
      "6.31842314016933\n",
      "7.271833918568932\n"
     ]
    }
   ],
   "source": [
    "from statistics import median\n",
    "# print(total[0])\n",
    "a = median(total[0])\n",
    "b = median(total[1])\n",
    "print(a)\n",
    "print(b)"
   ]
  },
  {
   "cell_type": "code",
   "execution_count": 27,
   "id": "9bd4972f",
   "metadata": {},
   "outputs": [],
   "source": [
    "diff = b-a"
   ]
  },
  {
   "cell_type": "code",
   "execution_count": 28,
   "id": "923574a8",
   "metadata": {},
   "outputs": [
    {
     "data": {
      "text/plain": [
       "0.5085511451548441"
      ]
     },
     "execution_count": 28,
     "metadata": {},
     "output_type": "execute_result"
    }
   ],
   "source": [
    "(1.94-diff)/1.94"
   ]
  },
  {
   "cell_type": "code",
   "execution_count": null,
   "id": "2273e161",
   "metadata": {},
   "outputs": [],
   "source": []
  }
 ],
 "metadata": {
  "kernelspec": {
   "display_name": "Python 3 (ipykernel)",
   "language": "python",
   "name": "python3"
  },
  "language_info": {
   "codemirror_mode": {
    "name": "ipython",
    "version": 3
   },
   "file_extension": ".py",
   "mimetype": "text/x-python",
   "name": "python",
   "nbconvert_exporter": "python",
   "pygments_lexer": "ipython3",
   "version": "3.7.6"
  }
 },
 "nbformat": 4,
 "nbformat_minor": 5
}
