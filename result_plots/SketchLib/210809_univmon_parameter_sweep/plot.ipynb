{
 "cells": [
  {
   "cell_type": "code",
   "execution_count": 3,
   "metadata": {},
   "outputs": [],
   "source": [
    "from env_setting.env_module import result_cp_path\n",
    "from python_lib.pkl_saver import PklSaver\n",
    "import os\n",
    "from data_helper.data_path_helper.pcap_path_helper import get_pcap_list_by_date_and_count, get_test_pcap_list_count\n",
    "\n",
    "import matplotlib.pyplot as plt\n",
    "import math\n",
    "\n",
    "level_list = [8, 6, 5]\n",
    "row_list = [4, 5, 6]\n",
    "width_list = [32768, 32768, 32768]\n",
    "flag_list = [False, False, False]\n",
    "\n",
    "pcap_list = get_pcap_list_by_date_and_count(20140320, \"60s\", 20)\n",
    "\n",
    "total = []\n",
    "ent = []\n",
    "sketch_name = \"univmon\"\n",
    "for width, row, level, flag, in zip(width_list, row_list, level_list, flag_list):\n",
    "    data_list = []\n",
    "    for seed in [1]:\n",
    "        for (pcap_full_path, pcap_folder_path, pcap_file_name) in pcap_list:\n",
    "            str = \"row_%d_level_%d_width_%d\" % (row, level, width)\n",
    "            str2 = \"%02d.txt\" % seed\n",
    "            pkl_path = os.path.join(result_cp_path, \"SketchLib\", sketch_name, pcap_file_name, str, str2)\n",
    "            saver = PklSaver(pkl_path, \"data.pkl\")\n",
    "            data = saver.load()\n",
    "            # cardinality\n",
    "            data_list.append(data[0][5])\n",
    "            data_list.append(data[1][5])\n",
    "\n",
    "#             # entropy\n",
    "#             data_list.append(data[0][2])\n",
    "#             data_list.append(data[1][2])\n",
    "#             if flag:\n",
    "#                 data_list.append(data[0][6])\n",
    "#                 data_list.append(data[1][6])\n",
    "                \n",
    "\n",
    "                \n",
    "    total.append(data_list)\n"
   ]
  },
  {
   "cell_type": "code",
   "execution_count": 4,
   "metadata": {},
   "outputs": [
    {
     "name": "stdout",
     "output_type": "stream",
     "text": [
      "95.49961847421483\n",
      "98.80678640459348\n",
      "99.44640098141517\n"
     ]
    }
   ],
   "source": [
    "from statistics import median\n",
    "\n",
    "print(median(total[0]))\n",
    "print(median(total[1]))\n",
    "print(median(total[2]))"
   ]
  },
  {
   "cell_type": "code",
   "execution_count": null,
   "metadata": {},
   "outputs": [],
   "source": [
    "95.45440089082692\n",
    "98.80422354316975\n",
    "99.44640098141517\n",
    "9.52201846434004"
   ]
  },
  {
   "cell_type": "code",
   "execution_count": null,
   "metadata": {},
   "outputs": [],
   "source": [
    "old version"
   ]
  },
  {
   "cell_type": "code",
   "execution_count": 18,
   "metadata": {
    "scrolled": false
   },
   "outputs": [],
   "source": [
    "from env_setting.env_module import result_cp_path\n",
    "from python_lib.pkl_saver import PklSaver\n",
    "import os\n",
    "from data_helper.data_path_helper.pcap_path_helper import get_pcap_list_by_date_and_count, get_test_pcap_list_count\n",
    "\n",
    "import matplotlib.pyplot as plt\n",
    "import math\n",
    "\n",
    "row_list = [1, 3, 5, 5]\n",
    "level_list = [8, 6, 5, 16]\n",
    "width_list = [131072, 32768, 32768, 2048]\n",
    "flag_list = [False, False, False, True]\n",
    "\n",
    "pcap_list = get_pcap_list_by_date_and_count(20140320, \"60s\", 20)\n",
    "\n",
    "total = []\n",
    "ent = []\n",
    "sketch_name = \"univmon\"\n",
    "for width, row, level, flag, in zip(width_list, row_list, level_list, flag_list):\n",
    "    data_list = []\n",
    "    for seed in [1]:\n",
    "        for (pcap_full_path, pcap_folder_path, pcap_file_name) in pcap_list:\n",
    "            str = \"row_%d_level_%d_width_%d\" % (row, level, width)\n",
    "            str2 = \"%02d.txt\" % seed\n",
    "            pkl_path = os.path.join(result_cp_path, \"SketchLib\", sketch_name, pcap_file_name, str, str2)\n",
    "            saver = PklSaver(pkl_path, \"data.pkl\")\n",
    "            data = saver.load()\n",
    "#             # cardinality\n",
    "#             data_list.append(data[0][5])\n",
    "#             data_list.append(data[1][5])\n",
    "\n",
    "            # entropy\n",
    "            data_list.append(data[0][2])\n",
    "            data_list.append(data[1][2])\n",
    "#             if flag:\n",
    "#                 data_list.append(data[0][6])\n",
    "#                 data_list.append(data[1][6])\n",
    "                \n",
    "\n",
    "                \n",
    "    total.append(data_list)\n",
    "\n"
   ]
  },
  {
   "cell_type": "code",
   "execution_count": 19,
   "metadata": {},
   "outputs": [
    {
     "name": "stdout",
     "output_type": "stream",
     "text": [
      "12.223429589935613\n",
      "49.473950056296275\n",
      "59.226325574909325\n",
      "3.3903397712150207\n"
     ]
    }
   ],
   "source": [
    "from statistics import median\n",
    "\n",
    "print(median(total[0]))\n",
    "print(median(total[1]))\n",
    "print(median(total[2]))\n",
    "print(median(total[3]))\n"
   ]
  },
  {
   "cell_type": "code",
   "execution_count": 16,
   "metadata": {},
   "outputs": [
    {
     "name": "stdout",
     "output_type": "stream",
     "text": [
      "0.7303945279140098\n"
     ]
    }
   ],
   "source": [
    "from statistics import median\n",
    "\n",
    "# print(median(total[0]))\n",
    "# print(median(total[1]))\n",
    "# print(median(total[2]))\n",
    "print(median(total[3]))\n"
   ]
  },
  {
   "cell_type": "code",
   "execution_count": 7,
   "metadata": {},
   "outputs": [
    {
     "data": {
      "image/png": "[encoded data removed]",
      "text/plain": [
       "<Figure size 360x216 with 1 Axes>"
      ]
     },
     "metadata": {
      "needs_background": "light"
     },
     "output_type": "display_data"
    }
   ],
   "source": [
    "def count_sketch_plot(data, ylabel, labels, colors, figsize):\n",
    "    values = []\n",
    "\n",
    "    position = 0\n",
    "    positions = []\n",
    "\n",
    "    for i, v in enumerate(data):\n",
    "        # labels.append(\"%d.txt\" % (i+1))\n",
    "        values.append(v)\n",
    "        # colors.append('C'+str(int(i)))\n",
    "        positions.append(position)\n",
    "        position += 1\n",
    "\n",
    "\n",
    "    plt.figure(figsize=figsize)\n",
    "\n",
    "    box_plot_data = values\n",
    "    box = plt.boxplot(box_plot_data, patch_artist=True, labels=labels, widths=0.4, positions=positions, showfliers=False)\n",
    "\n",
    "    for patch, color in zip(box['boxes'], colors):\n",
    "        patch.set_facecolor(color)\n",
    "\n",
    "    for median in box['medians']:\n",
    "        median.set(color='black', linewidth=2)\n",
    "\n",
    "    plt.tick_params(labelsize=12)\n",
    "\n",
    "    # plt.axis('off')\n",
    "\n",
    "    ax = plt.gca()\n",
    "    ax.tick_params(axis=u'both', which=u'both',length=0)\n",
    "    # ax.axvline(x=1.5, color='black', linestyle=\"-\", linewidth=1)\n",
    "    # ax.axvline(x=3.5, color='black', linestyle=\"-\", linewidth=1)\n",
    "    # ax.axvline(x=5.5, color='black', linestyle=\"-\", linewidth=1)\n",
    "    # ax.axvline(x=7.5, color='black', linestyle=\"-\", linewidth=1)\n",
    "\n",
    "    # plt.title(title)\n",
    "    plt.ylabel(ylabel, fontsize = 12)\n",
    "    # plt.ylim([1.5, 4.5])\n",
    "    from matplotlib.ticker import MultipleLocator\n",
    "#     ax.yaxis.set_major_locator(MultipleLocator(2))\n",
    "    # plt.legend([box['boxes'][0], box['boxes'][1]], ['original', 'with optimization'], loc=1, bbox_to_anchor=(1,1.5), fontsize=12)\n",
    "    # plt.xticks([0.5, 2.5, 4.5],\n",
    "    #            [\"trace1\",\n",
    "    #             \"trace2\",\n",
    "    #             \"trace3\"])\n",
    "\n",
    "    # if title == \"count-sketch\":\n",
    "    # if title == \"univmon-cardinality\":\n",
    "    #     from matplotlib.ticker import MultipleLocator\n",
    "    #     ax.yaxis.set_major_locator(MultipleLocator(5))\n",
    "    #     plt.ylabel(\"RE (%)\", fontsize = 12)\n",
    "    #     plt.xticks([0.5, 2.5, 4.5, 6.5, 8.5],\n",
    "    #                [\"trace1\",\n",
    "    #                 \"trace2\",\n",
    "    #                 \"trace3\",\n",
    "    #                 \"trace4\",\n",
    "    #                 \"trace5\"])\n",
    "    # if title == \"univmon-entropy\":\n",
    "    #     plt.ylabel(\"RE (%)\", fontsize = 12)\n",
    "    #     plt.xticks([0.5, 2.5, 4.5, 6.5, 8.5],\n",
    "    #                [\"trace1\",\n",
    "    #                 \"trace2\",\n",
    "    #                 \"trace3\",\n",
    "    #                 \"trace4\",\n",
    "    #                 \"trace5\"])\n",
    "\n",
    "    # plt.legend(prop={'size': 15})\n",
    "    # plt.xlabel('traces', fontsize = 15)\n",
    "\n",
    "    plt.grid(color='gray', linestyle='--', linewidth=1)\n",
    "    ax.xaxis.grid(False)\n",
    "    plt.tight_layout()\n",
    "#     plt.savefig(\"/Users/hnamkung/Desktop/cs.pdf\")\n",
    "    plt.show()\n",
    "    plt.close()\n",
    "count_sketch_plot(total, \"RE (%)\", [\"C1\", \"C2\", \"C3\", \"C4\"], [\"C0\", \"C1\", \"C2\", \"C3\"], (5,3) )"
   ]
  },
  {
   "cell_type": "code",
   "execution_count": 7,
   "metadata": {},
   "outputs": [
    {
     "name": "stdout",
     "output_type": "stream",
     "text": [
      "4\n"
     ]
    }
   ],
   "source": [
    "print(len(total))"
   ]
  },
  {
   "cell_type": "code",
   "execution_count": 9,
   "metadata": {},
   "outputs": [
    {
     "name": "stdout",
     "output_type": "stream",
     "text": [
      "40\n",
      "40\n",
      "40\n",
      "40\n"
     ]
    }
   ],
   "source": [
    "print(len(total[0]))\n",
    "print(len(total[1]))\n",
    "print(len(total[2]))\n",
    "print(len(total[3]))"
   ]
  },
  {
   "cell_type": "code",
   "execution_count": 12,
   "metadata": {},
   "outputs": [
    {
     "name": "stdout",
     "output_type": "stream",
     "text": [
      "95.45440089082692\n",
      "98.80422354316975\n",
      "99.44640098141517\n",
      "9.52201846434004\n"
     ]
    }
   ],
   "source": [
    "from statistics import median\n",
    "\n",
    "print(median(total[0]))\n",
    "print(median(total[1]))\n",
    "print(median(total[2]))\n",
    "print(median(total[3]))\n"
   ]
  },
  {
   "cell_type": "code",
   "execution_count": null,
   "metadata": {},
   "outputs": [],
   "source": []
  }
 ],
 "metadata": {
  "kernelspec": {
   "display_name": "Python 3",
   "language": "python",
   "name": "python3"
  },
  "language_info": {
   "codemirror_mode": {
    "name": "ipython",
    "version": 3
   },
   "file_extension": ".py",
   "mimetype": "text/x-python",
   "name": "python",
   "nbconvert_exporter": "python",
   "pygments_lexer": "ipython3",
   "version": "3.7.1"
  }
 },
 "nbformat": 4,
 "nbformat_minor": 4
}
