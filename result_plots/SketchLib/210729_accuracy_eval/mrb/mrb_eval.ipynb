{
 "cells": [
  {
   "cell_type": "code",
   "execution_count": 2,
   "metadata": {},
   "outputs": [
    {
     "name": "stdout",
     "output_type": "stream",
     "text": [
      "/Users/hnamkung/workspace/sketch_home/result_plots/SketchLib/210729_accuracy_eval/mrb\n",
      "06_MRB/20140320\n",
      "1.80 1.74 -0.07 -3.70\n",
      "06_MRB/20140619\n",
      "1.66 1.88 0.22 13.40\n",
      "06_MRB/20160121\n",
      "2.19 1.72 -0.47 -21.45\n",
      "06_MRB/20180517\n",
      "1.86 1.59 -0.27 -14.46\n",
      "06_MRB/20180816\n",
      "1.58 1.69 0.11 6.86\n"
     ]
    },
    {
     "data": {
      "image/png": "[encoded data removed]",
      "text/plain": [
       "<Figure size 288x144 with 1 Axes>"
      ]
     },
     "metadata": {
      "needs_background": "light"
     },
     "output_type": "display_data"
    }
   ],
   "source": [
    "import sys, os\n",
    "\n",
    "cur_dir = os.getcwd()\n",
    "print(cur_dir)\n",
    "\n",
    "sys.path.append(cur_dir)\n",
    "\n",
    "\n",
    "import numpy as np\n",
    "import pandas as pd\n",
    "\n",
    "import importlib\n",
    "import data_parser as dp\n",
    "import plot as csp\n",
    "\n",
    "importlib.reload(dp)\n",
    "importlib.reload(csp)\n",
    "\n",
    "plot_data = []\n",
    "labels = []\n",
    "colors = []\n",
    "\n",
    "for date in [20140320, 20140619, 20160121, 20180517, 20180816]:\n",
    "    original, new = dp.read_data(\"06_MRB/%d\" % date)\n",
    "    plot_data.append(original)\n",
    "    plot_data.append(new)\n",
    "\n",
    "    labels = [*labels, \" \", \" \"]\n",
    "    colors = [*colors, \"C0\", \"C2\"]\n",
    "\n",
    "    from statistics import median\n",
    "    original_median = median(original)\n",
    "    new_median = median(new)\n",
    "    print(\"%.2f %.2f %.2f %.2f\" % (original_median, new_median, new_median - original_median, (new_median - original_median)/original_median*100))\n",
    "\n",
    "    \n",
    "\n",
    "\n",
    "\n",
    "csp.count_sketch_plot(plot_data, \"count-sketch\", labels, colors, (4, 2))\n",
    "\n",
    "# print(original, new)\n",
    "\n",
    "# import _07_evaluation._2021_sigcomm._210124_hll.plot as p\n",
    "# importlib.reload(p)\n",
    "# p.hll_plot([original, new, hw])\n",
    "\n",
    "\n"
   ]
  },
  {
   "cell_type": "code",
   "execution_count": 2,
   "metadata": {},
   "outputs": [
    {
     "name": "stdout",
     "output_type": "stream",
     "text": [
      "20140320\n",
      "exist count:  200\n",
      "missing count:  0\n",
      " \n",
      "20140619\n",
      "exist count:  200\n",
      "missing count:  0\n",
      " \n",
      "20160121\n",
      "exist count:  200\n",
      "missing count:  0\n",
      " \n",
      "20180517\n",
      "exist count:  200\n",
      "missing count:  0\n",
      " \n",
      "20180816\n",
      "exist count:  200\n",
      "missing count:  0\n",
      " \n"
     ]
    }
   ],
   "source": [
    "import numpy as np\n",
    "import pandas as pd\n",
    "\n",
    "import importlib\n",
    "import data_parser as dp\n",
    "importlib.reload(dp)\n",
    "\n",
    "result_list = []\n",
    "for date in [20140320, 20140619, 20160121, 20180517, 20180816]:\n",
    "    print(date)\n",
    "    result_list += dp.whatsmissing_samping1(\"06_MRB/%d\" % date, date)\n",
    "\n"
   ]
  },
  {
   "cell_type": "code",
   "execution_count": 33,
   "metadata": {},
   "outputs": [
    {
     "data": {
      "text/plain": [
       "4"
      ]
     },
     "execution_count": 33,
     "metadata": {},
     "output_type": "execute_result"
    }
   ],
   "source": [
    "len(result_list)"
   ]
  },
  {
   "cell_type": "code",
   "execution_count": 34,
   "metadata": {},
   "outputs": [
    {
     "data": {
      "text/plain": [
       "4"
      ]
     },
     "execution_count": 34,
     "metadata": {},
     "output_type": "execute_result"
    }
   ],
   "source": [
    "len(result_list)"
   ]
  },
  {
   "cell_type": "code",
   "execution_count": 36,
   "metadata": {},
   "outputs": [],
   "source": [
    "import pickle\n",
    "with open(\"mrb_filter.pkl\", 'wb+') as f:\n",
    "    pickle.dump(result_list, f)\n",
    "\n"
   ]
  },
  {
   "cell_type": "code",
   "execution_count": 37,
   "metadata": {},
   "outputs": [
    {
     "name": "stdout",
     "output_type": "stream",
     "text": [
      "['20140320_133030_2txt.pkl', '20180517_132130_1txt.pkl', '20180517_132200_1txt.pkl', '20180816_130030_4txt.pkl']\n"
     ]
    }
   ],
   "source": [
    "with open(\"mrb_filter.pkl\", 'rb') as f:\n",
    "    v = pickle.load(f)\n",
    "print(v)\n",
    "\n"
   ]
  },
  {
   "cell_type": "code",
   "execution_count": null,
   "metadata": {},
   "outputs": [],
   "source": []
  }
 ],
 "metadata": {
  "kernelspec": {
   "display_name": "Python 3",
   "language": "python",
   "name": "python3"
  },
  "language_info": {
   "codemirror_mode": {
    "name": "ipython",
    "version": 3
   },
   "file_extension": ".py",
   "mimetype": "text/x-python",
   "name": "python",
   "nbconvert_exporter": "python",
   "pygments_lexer": "ipython3",
   "version": "3.7.1"
  }
 },
 "nbformat": 4,
 "nbformat_minor": 2
}
