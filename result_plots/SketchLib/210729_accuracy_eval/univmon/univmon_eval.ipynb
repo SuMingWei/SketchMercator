{
 "cells": [
  {
   "cell_type": "code",
   "execution_count": 1,
   "metadata": {},
   "outputs": [
    {
     "name": "stdout",
     "output_type": "stream",
     "text": [
      "/Users/hnamkung/workspace/sketch_home/result_plots/SketchLib/210729_accuracy_eval/univmon\n",
      "03_UnivMon/20140320\n",
      "6.26 6.57 0.31 4.93\n",
      "03_UnivMon/20140619\n",
      "5.73 7.67 1.94 33.83\n",
      "03_UnivMon/20160121\n",
      "5.27 5.49 0.22 4.15\n",
      "03_UnivMon/20180517\n",
      "5.30 7.04 1.74 32.91\n",
      "03_UnivMon/20180816\n",
      "5.61 6.80 1.19 21.30\n"
     ]
    },
    {
     "data": {
      "image/png": "[encoded data removed]",
      "text/plain": [
       "<Figure size 288x144 with 1 Axes>"
      ]
     },
     "metadata": {
      "needs_background": "light"
     },
     "output_type": "display_data"
    },
    {
     "name": "stdout",
     "output_type": "stream",
     "text": [
      "03_UnivMon/20140320\n",
      "2.59 2.12 -0.48 -18.43\n",
      "03_UnivMon/20140619\n",
      "2.35 2.52 0.18 7.52\n",
      "03_UnivMon/20160121\n",
      "2.22 2.27 0.05 2.47\n",
      "03_UnivMon/20180517\n",
      "3.05 2.93 -0.12 -3.89\n",
      "03_UnivMon/20180816\n",
      "2.97 2.25 -0.73 -24.41\n"
     ]
    },
    {
     "data": {
      "image/png": "[encoded data removed]",
      "text/plain": [
       "<Figure size 288x144 with 1 Axes>"
      ]
     },
     "metadata": {
      "needs_background": "light"
     },
     "output_type": "display_data"
    }
   ],
   "source": [
    "import sys, os\n",
    "\n",
    "cur_dir = os.getcwd()\n",
    "print(cur_dir)\n",
    "\n",
    "sys.path.append(cur_dir)\n",
    "\n",
    "import numpy as np\n",
    "import pandas as pd\n",
    "\n",
    "import importlib\n",
    "import data_parser as dp\n",
    "import plot as csp\n",
    "\n",
    "importlib.reload(dp)\n",
    "importlib.reload(csp)\n",
    "\n",
    "\n",
    "plot_data = []\n",
    "labels = []\n",
    "colors = []\n",
    "\n",
    "for date in [20140320, 20140619, 20160121, 20180517, 20180816]:\n",
    "    original, new = dp.read_data(\"03_UnivMon/%d\" % date, \"cardinality\")\n",
    "    plot_data.append(original)\n",
    "    plot_data.append(new)\n",
    "\n",
    "    labels = [*labels, \" \", \" \"]\n",
    "    colors = [*colors, \"C0\", \"C2\"]\n",
    "\n",
    "    from statistics import median\n",
    "    original_median = median(original)\n",
    "    new_median = median(new)\n",
    "    print(\"%.2f %.2f %.2f %.2f\" % (original_median, new_median, new_median - original_median, (new_median - original_median)/original_median*100))\n",
    "\n",
    "\n",
    "\n",
    "csp.count_sketch_plot(plot_data, \"univmon-cardinality\", labels, colors, (4, 2))\n",
    "\n",
    "\n",
    "plot_data = []\n",
    "labels = []\n",
    "colors = []\n",
    "\n",
    "for date in [20140320, 20140619, 20160121, 20180517, 20180816]:\n",
    "    original, new = dp.read_data(\"03_UnivMon/%d\" % date, \"entropy\")\n",
    "    plot_data.append(original)\n",
    "    plot_data.append(new)\n",
    "\n",
    "    labels = [*labels, \" \", \" \"]\n",
    "    colors = [*colors, \"C0\", \"C2\"]\n",
    "\n",
    "    from statistics import median\n",
    "    original_median = median(original)\n",
    "    new_median = median(new)\n",
    "    print(\"%.2f %.2f %.2f %.2f\" % (original_median, new_median, new_median - original_median, (new_median - original_median)/original_median*100))\n",
    "\n",
    "    \n",
    "\n",
    "csp.count_sketch_plot(plot_data, \"univmon-entropy\", labels, colors, (4, 2))\n",
    "\n",
    "\n",
    "\n",
    "\n"
   ]
  },
  {
   "cell_type": "code",
   "execution_count": 3,
   "metadata": {
    "scrolled": false
   },
   "outputs": [
    {
     "name": "stdout",
     "output_type": "stream",
     "text": [
      "20140320\n",
      "exist count:  200\n",
      "missing count:  0\n",
      " \n",
      "20140619\n",
      "exist count:  200\n",
      "missing count:  0\n",
      " \n",
      "20160121\n",
      "exist count:  200\n",
      "missing count:  0\n",
      " \n",
      "20180517\n",
      "exist count:  200\n",
      "missing count:  0\n",
      " \n",
      "20180816\n",
      "exist count:  200\n",
      "missing count:  0\n",
      " \n"
     ]
    }
   ],
   "source": [
    "import numpy as np\n",
    "import pandas as pd\n",
    "\n",
    "import importlib\n",
    "import data_parser as dp\n",
    "importlib.reload(dp)\n",
    "\n",
    "result_list = []\n",
    "\n",
    "for date in [20140320, 20140619, 20160121, 20180517, 20180816]:\n",
    "    print(date)\n",
    "    result_list += dp.whatsmissing_samping1(\"03_UnivMon/%d\" % date, date)\n"
   ]
  },
  {
   "cell_type": "code",
   "execution_count": 10,
   "metadata": {},
   "outputs": [
    {
     "data": {
      "text/plain": [
       "0"
      ]
     },
     "execution_count": 10,
     "metadata": {},
     "output_type": "execute_result"
    }
   ],
   "source": [
    "len(result_list)"
   ]
  },
  {
   "cell_type": "code",
   "execution_count": 11,
   "metadata": {},
   "outputs": [],
   "source": [
    "import pickle\n",
    "with open(\"univmon_filter.pkl\", 'wb+') as f:\n",
    "    pickle.dump(result_list, f)\n",
    "\n"
   ]
  },
  {
   "cell_type": "code",
   "execution_count": 12,
   "metadata": {},
   "outputs": [
    {
     "name": "stdout",
     "output_type": "stream",
     "text": [
      "[]\n"
     ]
    }
   ],
   "source": [
    "with open(\"univmon_filter.pkl\", 'rb') as f:\n",
    "    v = pickle.load(f)\n",
    "print(v)\n",
    "\n"
   ]
  },
  {
   "cell_type": "code",
   "execution_count": null,
   "metadata": {},
   "outputs": [],
   "source": []
  }
 ],
 "metadata": {
  "kernelspec": {
   "display_name": "Python 3",
   "language": "python",
   "name": "python3"
  },
  "language_info": {
   "codemirror_mode": {
    "name": "ipython",
    "version": 3
   },
   "file_extension": ".py",
   "mimetype": "text/x-python",
   "name": "python",
   "nbconvert_exporter": "python",
   "pygments_lexer": "ipython3",
   "version": "3.7.1"
  }
 },
 "nbformat": 4,
 "nbformat_minor": 2
}
