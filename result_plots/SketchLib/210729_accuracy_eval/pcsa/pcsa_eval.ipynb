{
 "cells": [
  {
   "cell_type": "code",
   "execution_count": 2,
   "metadata": {},
   "outputs": [
    {
     "name": "stdout",
     "output_type": "stream",
     "text": [
      "/Users/hnamkung/workspace/sketch_home/result_plots/SketchLib/210729_accuracy_eval/pcsa\n",
      "[0, 1, 2, 3, 4, 5, 6, 7, 8, 9, 10, 11, 12, 13, 14, 15, 16, 17, 18, 19, 20, 21, 22, 23, 24, 25, 26, 27, 28, 29, 30, 31, 32, 33, 34, 35, 36, 37, 38, 39, 40, 41, 42, 43, 44, 45, 46, 47, 48, 49, 50, 51, 52, 53, 54, 55, 56, 57, 58, 59]\n",
      "\n",
      "[0, 1, 6, 10, 12, 13, 14, 16, 20, 21, 28, 29, 34, 40, 41, 42, 50, 51, 52, 53],\n",
      "[3, 15, 17, 18, 23, 24, 25, 27, 30, 32, 33, 35, 36, 37, 43, 44, 46, 55, 57, 58],\n",
      "[2, 4, 5, 7, 8, 9, 11, 19, 22, 26, 31, 38, 39, 45, 47, 48, 49, 54, 56, 59],\n",
      "controlplane_result/20140320/30s\n",
      "9.98 10.01 0.03 0.28\n",
      "controlplane_result/20140619/30s\n",
      "8.78 9.45 0.67 7.68\n",
      "controlplane_result/20160121/30s\n",
      "8.63 9.58 0.95 11.03\n",
      "controlplane_result/20180517/30s\n",
      "9.55 8.43 -1.12 -11.75\n",
      "controlplane_result/20180816/30s\n",
      "8.81 10.57 1.76 19.96\n"
     ]
    },
    {
     "data": {
      "image/png": "[encoded data removed]",
      "text/plain": [
       "<Figure size 288x144 with 1 Axes>"
      ]
     },
     "metadata": {
      "needs_background": "light"
     },
     "output_type": "display_data"
    }
   ],
   "source": [
    "import sys, os\n",
    "\n",
    "cur_dir = os.getcwd()\n",
    "print(cur_dir)\n",
    "\n",
    "sys.path.append(cur_dir)\n",
    "\n",
    "import numpy as np\n",
    "import pandas as pd\n",
    "\n",
    "import importlib\n",
    "import data_parser as dp\n",
    "import plot as csp\n",
    "\n",
    "importlib.reload(dp)\n",
    "importlib.reload(csp)\n",
    "\n",
    "plot_data = []\n",
    "labels = []\n",
    "colors = []\n",
    "\n",
    "for date in [20140320, 20140619, 20160121, 20180517, 20180816]:\n",
    "    original, new = dp.read_data(\"controlplane_result/%d/30s\" % date)\n",
    "    plot_data.append(original)\n",
    "    plot_data.append(new)\n",
    "\n",
    "    labels = [*labels, \" \", \" \"]\n",
    "    colors = [*colors, \"C0\", \"C2\"]\n",
    "\n",
    "    \n",
    "    from statistics import median\n",
    "    original_median = median(original)\n",
    "    new_median = median(new)\n",
    "    print(\"%.2f %.2f %.2f %.2f\" % (original_median, new_median, new_median - original_median, (new_median - original_median)/original_median*100))\n",
    "\n",
    "    \n",
    "\n",
    "csp.count_sketch_plot(plot_data, \"count-sketch\", labels, colors, (4, 2))\n",
    "\n",
    "# print(original, new)\n",
    "\n",
    "# import _07_evaluation._2021_sigcomm._210124_hll.plot as p\n",
    "# importlib.reload(p)\n",
    "# p.hll_plot([original, new, hw])\n",
    "\n"
   ]
  },
  {
   "cell_type": "code",
   "execution_count": null,
   "metadata": {},
   "outputs": [],
   "source": []
  }
 ],
 "metadata": {
  "kernelspec": {
   "display_name": "Python 3",
   "language": "python",
   "name": "python3"
  },
  "language_info": {
   "codemirror_mode": {
    "name": "ipython",
    "version": 3
   },
   "file_extension": ".py",
   "mimetype": "text/x-python",
   "name": "python",
   "nbconvert_exporter": "python",
   "pygments_lexer": "ipython3",
   "version": "3.7.1"
  }
 },
 "nbformat": 4,
 "nbformat_minor": 2
}
