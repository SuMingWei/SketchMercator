{
 "cells": [
  {
   "cell_type": "code",
   "execution_count": 2,
   "metadata": {},
   "outputs": [
    {
     "name": "stdout",
     "output_type": "stream",
     "text": [
      "/Users/hnamkung/workspace/sketch_home/result_plots/SketchLib/210729_accuracy_eval/hll\n",
      "02_HLL/20140320\n",
      "1.59 2.02 0.43 26.71\n",
      "02_HLL/20140619\n",
      "1.38 1.59 0.21 15.16\n",
      "02_HLL/20160121\n",
      "1.61 1.94 0.33 20.62\n",
      "02_HLL/20180517\n",
      "1.43 1.66 0.23 16.28\n",
      "02_HLL/20180816\n",
      "1.67 1.31 -0.36 -21.61\n"
     ]
    },
    {
     "data": {
      "image/png": "[encoded data removed]",
      "text/plain": [
       "<Figure size 288x144 with 1 Axes>"
      ]
     },
     "metadata": {
      "needs_background": "light"
     },
     "output_type": "display_data"
    }
   ],
   "source": [
    "import sys, os\n",
    "\n",
    "cur_dir = os.getcwd()\n",
    "print(cur_dir)\n",
    "\n",
    "sys.path.append(cur_dir)\n",
    "\n",
    "import numpy as np\n",
    "import pandas as pd\n",
    "import importlib\n",
    "\n",
    "import data_parser as dp\n",
    "import plot as csp\n",
    "\n",
    "importlib.reload(dp)\n",
    "importlib.reload(csp)\n",
    "\n",
    "plot_data = []\n",
    "labels = []\n",
    "colors = []\n",
    "\n",
    "for date in [20140320, 20140619, 20160121, 20180517, 20180816]:\n",
    "    original, new = dp.read_data(\"02_HLL/%d\" % date)\n",
    "    \n",
    "    plot_data.append(original)\n",
    "    plot_data.append(new)\n",
    "\n",
    "    labels = [*labels, \" \", \" \"]\n",
    "    colors = [*colors, \"C0\", \"C2\"]\n",
    "    from statistics import median\n",
    "    original_median = median(original)\n",
    "    new_median = median(new)\n",
    "    print(\"%.2f %.2f %.2f %.2f\" % (original_median, new_median, new_median - original_median, (new_median - original_median)/original_median*100))\n",
    "\n",
    "\n",
    "csp.count_sketch_plot(plot_data, \"count-sketch\", labels, colors, (4, 2))\n",
    "\n"
   ]
  },
  {
   "cell_type": "code",
   "execution_count": 2,
   "metadata": {
    "scrolled": false
   },
   "outputs": [
    {
     "name": "stdout",
     "output_type": "stream",
     "text": [
      "20140320\n",
      "exist count:  200\n",
      "missing count:  0\n",
      " \n",
      "20140619\n",
      "exist count:  200\n",
      "missing count:  0\n",
      " \n",
      "20160121\n",
      "exist count:  200\n",
      "missing count:  0\n",
      " \n",
      "20180517\n",
      "exist count:  200\n",
      "missing count:  0\n",
      " \n",
      "20180816\n",
      "exist count:  200\n",
      "missing count:  0\n",
      " \n"
     ]
    }
   ],
   "source": [
    "import numpy as np\n",
    "import pandas as pd\n",
    "\n",
    "import importlib\n",
    "import data_parser as dp\n",
    "importlib.reload(dp)\n",
    "\n",
    "result_list = []\n",
    "\n",
    "for date in [20140320, 20140619, 20160121, 20180517, 20180816]:\n",
    "    print(date)\n",
    "    result_list += dp.whatsmissing_samping1(\"02_HLL/%d\" % date, date)\n"
   ]
  },
  {
   "cell_type": "code",
   "execution_count": 3,
   "metadata": {},
   "outputs": [
    {
     "data": {
      "text/plain": [
       "0"
      ]
     },
     "execution_count": 3,
     "metadata": {},
     "output_type": "execute_result"
    }
   ],
   "source": [
    "len(result_list)"
   ]
  },
  {
   "cell_type": "code",
   "execution_count": 4,
   "metadata": {},
   "outputs": [
    {
     "data": {
      "text/plain": [
       "0"
      ]
     },
     "execution_count": 4,
     "metadata": {},
     "output_type": "execute_result"
    }
   ],
   "source": [
    "len(result_list)"
   ]
  },
  {
   "cell_type": "code",
   "execution_count": 12,
   "metadata": {},
   "outputs": [],
   "source": [
    "import pickle\n",
    "with open(\"hll_filter.pkl\", 'wb+') as f:\n",
    "    pickle.dump(result_list, f)\n",
    "\n"
   ]
  },
  {
   "cell_type": "code",
   "execution_count": 13,
   "metadata": {},
   "outputs": [
    {
     "name": "stdout",
     "output_type": "stream",
     "text": [
      "[]\n"
     ]
    }
   ],
   "source": [
    "with open(\"hll_filter.pkl\", 'rb') as f:\n",
    "    v = pickle.load(f)\n",
    "print(v)\n",
    "\n"
   ]
  },
  {
   "cell_type": "code",
   "execution_count": null,
   "metadata": {},
   "outputs": [],
   "source": []
  }
 ],
 "metadata": {
  "kernelspec": {
   "display_name": "Python 3",
   "language": "python",
   "name": "python3"
  },
  "language_info": {
   "codemirror_mode": {
    "name": "ipython",
    "version": 3
   },
   "file_extension": ".py",
   "mimetype": "text/x-python",
   "name": "python",
   "nbconvert_exporter": "python",
   "pygments_lexer": "ipython3",
   "version": "3.7.1"
  }
 },
 "nbformat": 4,
 "nbformat_minor": 2
}
