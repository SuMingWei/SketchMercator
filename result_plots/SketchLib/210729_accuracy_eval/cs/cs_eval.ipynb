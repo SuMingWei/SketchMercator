{
 "cells": [
  {
   "cell_type": "code",
   "execution_count": 3,
   "metadata": {},
   "outputs": [
    {
     "name": "stdout",
     "output_type": "stream",
     "text": [
      "/Users/hnamkung/workspace/sketch_home/result_plots/SketchLib/210729_accuracy_eval/cs\n",
      "01_CS/20140320\n",
      "1.24 1.26 0.02 1.70\n",
      "01_CS/20140619\n",
      "1.21 1.23 0.01 1.12\n",
      "01_CS/20160121\n",
      "1.44 1.48 0.04 2.53\n",
      "01_CS/20180517\n",
      "1.21 1.31 0.09 7.57\n",
      "01_CS/20180816\n",
      "1.44 1.48 0.04 2.52\n"
     ]
    },
    {
     "data": {
      "image/png": "[encoded data removed]",
      "text/plain": [
       "<Figure size 288x144 with 1 Axes>"
      ]
     },
     "metadata": {
      "needs_background": "light"
     },
     "output_type": "display_data"
    }
   ],
   "source": [
    "import sys, os\n",
    "\n",
    "cur_dir = os.getcwd()\n",
    "print(cur_dir)\n",
    "\n",
    "sys.path.append(cur_dir)\n",
    "\n",
    "import numpy as np\n",
    "import pandas as pd\n",
    "\n",
    "import importlib\n",
    "import data_parser as dp\n",
    "import plot as csp\n",
    "\n",
    "importlib.reload(dp)\n",
    "importlib.reload(csp)\n",
    "\n",
    "plot_data = []\n",
    "labels = []\n",
    "colors = []\n",
    "\n",
    "for date in [20140320, 20140619, 20160121, 20180517, 20180816]:\n",
    "    original, new = dp.read_data(\"01_CS/%d\" % date)\n",
    "    plot_data.append(original)\n",
    "    plot_data.append(new)\n",
    "\n",
    "    labels = [*labels, \" \", \" \"]\n",
    "    colors = [*colors, \"C0\", \"C2\"]\n",
    "\n",
    "    from statistics import median\n",
    "    original_median = median(original)\n",
    "    new_median = median(new)\n",
    "    print(\"%.2f %.2f %.2f %.2f\" % (original_median, new_median, new_median - original_median, (new_median - original_median)/original_median*100))\n",
    "\n",
    "    \n",
    "    \n",
    "csp.count_sketch_plot(plot_data, \"count-sketch\", labels, colors, (4, 2))\n"
   ]
  },
  {
   "cell_type": "code",
   "execution_count": 2,
   "metadata": {
    "scrolled": false
   },
   "outputs": [
    {
     "name": "stdout",
     "output_type": "stream",
     "text": [
      "20140320\n",
      "exist count:  200\n",
      "missing count:  0\n",
      " \n",
      "20140619\n",
      "exist count:  200\n",
      "missing count:  0\n",
      " \n",
      "20160121\n",
      "exist count:  200\n",
      "missing count:  0\n",
      " \n",
      "20180517\n",
      "exist count:  200\n",
      "missing count:  0\n",
      " \n",
      "20180816\n",
      "exist count:  200\n",
      "missing count:  0\n",
      " \n"
     ]
    }
   ],
   "source": [
    "import numpy as np\n",
    "import pandas as pd\n",
    "\n",
    "import importlib\n",
    "import data_parser as dp\n",
    "importlib.reload(dp)\n",
    "\n",
    "result_list = []\n",
    "for date in [20140320, 20140619, 20160121, 20180517, 20180816]:\n",
    "    print(date)\n",
    "    result_list += dp.whatsmissing_samping1(\"01_CS/%d\" % date, date)\n",
    "\n",
    "#     result_list += dp.whatsmissing(\"_07_evaluation/_2021_nsdi/_210207_cs_hardware/01_CS/%d\" % date, date)\n",
    "\n"
   ]
  },
  {
   "cell_type": "code",
   "execution_count": 8,
   "metadata": {},
   "outputs": [
    {
     "data": {
      "text/plain": [
       "0"
      ]
     },
     "execution_count": 8,
     "metadata": {},
     "output_type": "execute_result"
    }
   ],
   "source": [
    "len(result_list)"
   ]
  },
  {
   "cell_type": "code",
   "execution_count": 9,
   "metadata": {},
   "outputs": [
    {
     "data": {
      "text/plain": [
       "0"
      ]
     },
     "execution_count": 9,
     "metadata": {},
     "output_type": "execute_result"
    }
   ],
   "source": [
    "len(result_list)"
   ]
  },
  {
   "cell_type": "code",
   "execution_count": 10,
   "metadata": {},
   "outputs": [],
   "source": [
    "import pickle\n",
    "with open(\"cs_filter.pkl\", 'wb+') as f:\n",
    "    pickle.dump(result_list, f)\n"
   ]
  },
  {
   "cell_type": "code",
   "execution_count": 11,
   "metadata": {},
   "outputs": [
    {
     "name": "stdout",
     "output_type": "stream",
     "text": [
      "[]\n"
     ]
    }
   ],
   "source": [
    "with open(\"cs_filter.pkl\", 'rb') as f:\n",
    "    v = pickle.load(f)\n",
    "print(v)\n"
   ]
  },
  {
   "cell_type": "code",
   "execution_count": null,
   "metadata": {},
   "outputs": [],
   "source": []
  }
 ],
 "metadata": {
  "kernelspec": {
   "display_name": "Python 3",
   "language": "python",
   "name": "python3"
  },
  "language_info": {
   "codemirror_mode": {
    "name": "ipython",
    "version": 3
   },
   "file_extension": ".py",
   "mimetype": "text/x-python",
   "name": "python",
   "nbconvert_exporter": "python",
   "pygments_lexer": "ipython3",
   "version": "3.7.1"
  }
 },
 "nbformat": 4,
 "nbformat_minor": 2
}
