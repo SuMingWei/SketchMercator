{
 "cells": [
  {
   "cell_type": "code",
   "execution_count": 1,
   "metadata": {},
   "outputs": [],
   "source": [
    "import pandas as pd\n",
    "import numpy as np\n",
    "pd.set_option('display.max_rows', 5000)\n",
    "pd.set_option('display.max_columns', 5000)\n",
    "pd.set_option('display.width', 10000)\n",
    "pd.set_option('display.expand_frame_repr', False)\n",
    "\n",
    "from python_lib.pkl_saver import PklSaver\n",
    "from sketch_formats.sketch_generator import *\n",
    "from sketch_formats.sketch_instance import *\n",
    "from plot.plot_common import *\n",
    "\n",
    "\n",
    "import os\n",
    "import sys\n",
    "import argparse"
   ]
  },
  {
   "cell_type": "code",
   "execution_count": 25,
   "metadata": {},
   "outputs": [
    {
     "name": "stdout",
     "output_type": "stream",
     "text": [
      "[load output]\n",
      "[success]\n"
     ]
    }
   ],
   "source": [
    "import plot.plot_common as pc\n",
    "import importlib\n",
    "importlib.reload(pc)\n",
    "\n",
    "out = \"../../workload_manage/sensitivity2/output\"\n",
    "filename = \"workload_varing_counter_update_type.pkl\"\n",
    "output_dict = pc.data_read(out, filename)"
   ]
  },
  {
   "cell_type": "code",
   "execution_count": 26,
   "metadata": {},
   "outputs": [
    {
     "name": "stdout",
     "output_type": "stream",
     "text": [
      "2 50\n",
      "3 50\n",
      "4 50\n",
      "5 50\n",
      "gd_bf_bf\n",
      "(4, 3, 4, 50)\n",
      "(4, 50)\n",
      "2 50\n",
      "3 50\n",
      "4 50\n",
      "5 50\n",
      "o5\n",
      "(4, 3, 4, 50)\n",
      "(4, 50)\n",
      "(3, 4, 4, 50)\n"
     ]
    }
   ],
   "source": [
    "import plot.plot_common as pc\n",
    "import importlib\n",
    "importlib.reload(pc)\n",
    "\n",
    "candidate_list = [output_dict[\"gd\"][\"bf\"][\"bf\"], output_dict[\"o5\"]]\n",
    "name_list = [\"gd_bf_bf\", \"o5\"]\n",
    "\n",
    "ret = pc.data_parse_min_max(candidate_list, name_list)\n",
    "\n",
    "core_data_dict = ret[\"core_data_dict\"]\n",
    "time_data_dict = ret[\"time_data_dict\"]\n",
    "key_list_dict = ret[\"key_list_dict\"]"
   ]
  },
  {
   "cell_type": "code",
   "execution_count": 28,
   "metadata": {},
   "outputs": [
    {
     "name": "stdout",
     "output_type": "stream",
     "text": [
      "['2', '3', '4', '5']\n",
      "0    37.799533\n",
      "1    38.034768\n",
      "2    36.557791\n",
      "3    35.642857\n",
      "Name: overall, dtype: float64\n",
      "0    37.799533\n",
      "1    38.034768\n",
      "2    36.557791\n",
      "3    35.642857\n",
      "Name: overall, dtype: float64\n"
     ]
    },
    {
     "data": {
      "image/png": "[encoded data removed]",
      "text/plain": [
       "<Figure size 360x216 with 1 Axes>"
      ]
     },
     "metadata": {
      "needs_background": "light"
     },
     "output_type": "display_data"
    }
   ],
   "source": [
    "import plot.plot_plot as pp\n",
    "import importlib\n",
    "importlib.reload(pp)\n",
    "\n",
    "pp.overall_bar_plot_custom(key_list_dict[\"gd_bf_bf\"],\n",
    "                           core_data_dict[\"gd_bf_bf\"],\n",
    "                           core_data_dict[\"o5\"],\n",
    "                           (5, 3),\n",
    "                           \"counter update type\",\n",
    "                           \"counterupdate.png\")\n",
    "\n"
   ]
  },
  {
   "cell_type": "code",
   "execution_count": 29,
   "metadata": {},
   "outputs": [
    {
     "name": "stdout",
     "output_type": "stream",
     "text": [
      "[load output]\n",
      "[success]\n"
     ]
    }
   ],
   "source": [
    "import plot.plot_common as pc\n",
    "import importlib\n",
    "importlib.reload(pc)\n",
    "\n",
    "out = \"../../workload_manage/sensitivity2/output\"\n",
    "filename = \"workload_varing_counter_value_in_dp.pkl\"\n",
    "output_dict = pc.data_read(out, filename)"
   ]
  },
  {
   "cell_type": "code",
   "execution_count": 30,
   "metadata": {},
   "outputs": [
    {
     "name": "stdout",
     "output_type": "stream",
     "text": [
      "[0] 50\n",
      "[0, 1] 50\n",
      "[1] 50\n",
      "gd_bf_bf\n",
      "(3, 3, 4, 50)\n",
      "(3, 50)\n",
      "[0] 50\n",
      "[0, 1] 50\n",
      "[1] 50\n",
      "o5\n",
      "(3, 3, 4, 50)\n",
      "(3, 50)\n",
      "(3, 3, 4, 50)\n"
     ]
    }
   ],
   "source": [
    "import plot.plot_common as pc\n",
    "import importlib\n",
    "importlib.reload(pc)\n",
    "\n",
    "candidate_list = [output_dict[\"gd\"][\"bf\"][\"bf\"], output_dict[\"o5\"]]\n",
    "name_list = [\"gd_bf_bf\", \"o5\"]\n",
    "\n",
    "ret = pc.data_parse_min_max(candidate_list, name_list)\n",
    "\n",
    "core_data_dict = ret[\"core_data_dict\"]\n",
    "time_data_dict = ret[\"time_data_dict\"]\n",
    "key_list_dict = ret[\"key_list_dict\"]"
   ]
  },
  {
   "cell_type": "code",
   "execution_count": 31,
   "metadata": {},
   "outputs": [
    {
     "name": "stdout",
     "output_type": "stream",
     "text": [
      "['[0]', '[0, 1]', '[1]']\n",
      "0    36.529903\n",
      "1    37.270889\n",
      "2    36.592744\n",
      "Name: overall, dtype: float64\n",
      "0    36.529903\n",
      "1    37.270889\n",
      "2    36.592744\n",
      "Name: overall, dtype: float64\n"
     ]
    },
    {
     "data": {
      "image/png": "[encoded data removed]",
      "text/plain": [
       "<Figure size 360x216 with 1 Axes>"
      ]
     },
     "metadata": {
      "needs_background": "light"
     },
     "output_type": "display_data"
    }
   ],
   "source": [
    "import plot.plot_plot as pp\n",
    "import importlib\n",
    "importlib.reload(pp)\n",
    "\n",
    "pp.overall_bar_plot_custom(key_list_dict[\"gd_bf_bf\"],\n",
    "                           core_data_dict[\"gd_bf_bf\"],\n",
    "                           core_data_dict[\"o5\"],\n",
    "                           (5, 3),\n",
    "                           \"counter value in dp\",\n",
    "                           \"counterdp.png\")\n",
    "\n"
   ]
  },
  {
   "cell_type": "code",
   "execution_count": 32,
   "metadata": {},
   "outputs": [
    {
     "name": "stdout",
     "output_type": "stream",
     "text": [
      "[load output]\n",
      "[success]\n"
     ]
    }
   ],
   "source": [
    "import plot.plot_common as pc\n",
    "import importlib\n",
    "importlib.reload(pc)\n",
    "\n",
    "out = \"../../workload_manage/sensitivity2/output\"\n",
    "filename = \"workload_varing_epoch.pkl\"\n",
    "\n",
    "output_dict = pc.data_read(out, filename)"
   ]
  },
  {
   "cell_type": "code",
   "execution_count": 33,
   "metadata": {},
   "outputs": [
    {
     "name": "stdout",
     "output_type": "stream",
     "text": [
      "1 50\n",
      "2 50\n",
      "3 50\n",
      "4 50\n",
      "5 50\n",
      "6 50\n",
      "7 50\n",
      "gd_bf_bf\n",
      "(7, 3, 4, 50)\n",
      "(7, 50)\n",
      "1 50\n",
      "2 50\n",
      "3 50\n",
      "4 50\n",
      "5 50\n",
      "6 50\n",
      "7 50\n",
      "o5\n",
      "(7, 3, 4, 50)\n",
      "(7, 50)\n",
      "(3, 7, 4, 50)\n"
     ]
    }
   ],
   "source": [
    "import plot.plot_common as pc\n",
    "import importlib\n",
    "importlib.reload(pc)\n",
    "\n",
    "candidate_list = [output_dict[\"gd\"][\"bf\"][\"bf\"], output_dict[\"o5\"]]\n",
    "name_list = [\"gd_bf_bf\", \"o5\"]\n",
    "\n",
    "ret = pc.data_parse_min_max(candidate_list, name_list)\n",
    "\n",
    "core_data_dict = ret[\"core_data_dict\"]\n",
    "time_data_dict = ret[\"time_data_dict\"]\n",
    "key_list_dict = ret[\"key_list_dict\"]"
   ]
  },
  {
   "cell_type": "code",
   "execution_count": 34,
   "metadata": {},
   "outputs": [
    {
     "name": "stdout",
     "output_type": "stream",
     "text": [
      "['1', '2', '3', '4', '5', '6', '7']\n",
      "0    43.504404\n",
      "1    38.692827\n",
      "2    37.735632\n",
      "3    38.736452\n",
      "4    36.696518\n",
      "5    36.945481\n",
      "6    37.554554\n",
      "Name: overall, dtype: float64\n",
      "0    43.504404\n",
      "1    38.692827\n",
      "2    37.735632\n",
      "3    38.736452\n",
      "4    36.696518\n",
      "5    36.945481\n",
      "6    37.554554\n",
      "Name: overall, dtype: float64\n"
     ]
    },
    {
     "data": {
      "image/png": "[encoded data removed]",
      "text/plain": [
       "<Figure size 360x216 with 1 Axes>"
      ]
     },
     "metadata": {
      "needs_background": "light"
     },
     "output_type": "display_data"
    }
   ],
   "source": [
    "import plot.plot_plot as pp\n",
    "import importlib\n",
    "importlib.reload(pp)\n",
    "\n",
    "pp.overall_bar_plot_custom(key_list_dict[\"gd_bf_bf\"],\n",
    "                           core_data_dict[\"gd_bf_bf\"],\n",
    "                           core_data_dict[\"o5\"],\n",
    "                           (5, 3),\n",
    "                           \"epoch\",\n",
    "                           \"epoch.png\")\n",
    "\n",
    "\n"
   ]
  },
  {
   "cell_type": "code",
   "execution_count": 35,
   "metadata": {},
   "outputs": [
    {
     "name": "stdout",
     "output_type": "stream",
     "text": [
      "[load output]\n",
      "[success]\n"
     ]
    }
   ],
   "source": [
    "import plot.plot_common as pc\n",
    "import importlib\n",
    "importlib.reload(pc)\n",
    "\n",
    "out = \"../../workload_manage/sensitivity2/output\"\n",
    "filename = \"workload_varing_flowkey.pkl\"\n",
    "\n",
    "output_dict = pc.data_read(out, filename)"
   ]
  },
  {
   "cell_type": "code",
   "execution_count": 36,
   "metadata": {},
   "outputs": [
    {
     "name": "stdout",
     "output_type": "stream",
     "text": [
      "1 50\n",
      "2 50\n",
      "3 50\n",
      "4 50\n",
      "5 50\n",
      "6 50\n",
      "7 50\n",
      "8 50\n",
      "gd_bf_bf\n",
      "(8, 3, 4, 50)\n",
      "(8, 50)\n",
      "1 50\n",
      "2 50\n",
      "3 50\n",
      "4 50\n",
      "5 50\n",
      "6 50\n",
      "7 50\n",
      "8 50\n",
      "o5\n",
      "(8, 3, 4, 50)\n",
      "(8, 50)\n",
      "(3, 8, 4, 50)\n"
     ]
    }
   ],
   "source": [
    "import plot.plot_common as pc\n",
    "import importlib\n",
    "importlib.reload(pc)\n",
    "\n",
    "candidate_list = [output_dict[\"gd\"][\"bf\"][\"bf\"], output_dict[\"o5\"]]\n",
    "name_list = [\"gd_bf_bf\", \"o5\"]\n",
    "\n",
    "ret = pc.data_parse_min_max(candidate_list, name_list)\n",
    "\n",
    "core_data_dict = ret[\"core_data_dict\"]\n",
    "time_data_dict = ret[\"time_data_dict\"]\n",
    "key_list_dict = ret[\"key_list_dict\"]"
   ]
  },
  {
   "cell_type": "code",
   "execution_count": 37,
   "metadata": {},
   "outputs": [
    {
     "name": "stdout",
     "output_type": "stream",
     "text": [
      "['1', '2', '3', '4', '5', '6', '7', '8']\n",
      "0    47.716899\n",
      "1    42.192242\n",
      "2    41.164181\n",
      "3    36.413798\n",
      "4    36.657731\n",
      "5    35.380935\n",
      "6    34.261016\n",
      "7    33.195905\n",
      "Name: overall, dtype: float64\n",
      "0    47.716899\n",
      "1    42.192242\n",
      "2    41.164181\n",
      "3    36.413798\n",
      "4    36.657731\n",
      "5    35.380935\n",
      "6    34.261016\n",
      "7    33.195905\n",
      "Name: overall, dtype: float64\n"
     ]
    },
    {
     "data": {
      "image/png": "[encoded data removed]",
      "text/plain": [
       "<Figure size 360x216 with 1 Axes>"
      ]
     },
     "metadata": {
      "needs_background": "light"
     },
     "output_type": "display_data"
    }
   ],
   "source": [
    "import plot.plot_plot as pp\n",
    "import importlib\n",
    "importlib.reload(pp)\n",
    "\n",
    "pp.overall_bar_plot_custom(key_list_dict[\"gd_bf_bf\"],\n",
    "                           core_data_dict[\"gd_bf_bf\"],\n",
    "                           core_data_dict[\"o5\"],\n",
    "                           (5, 3),\n",
    "                           \"flowkey\",\n",
    "                           \"flowkey.png\")\n",
    "\n"
   ]
  },
  {
   "cell_type": "code",
   "execution_count": 38,
   "metadata": {},
   "outputs": [
    {
     "name": "stdout",
     "output_type": "stream",
     "text": [
      "[load output]\n",
      "[success]\n",
      "1 50\n",
      "2 50\n",
      "gd_bf_bf\n",
      "(2, 3, 4, 50)\n",
      "(2, 50)\n",
      "1 50\n",
      "2 50\n",
      "o5\n",
      "(2, 3, 4, 50)\n",
      "(2, 50)\n",
      "(3, 2, 4, 50)\n"
     ]
    }
   ],
   "source": [
    "import plot.plot_common as pc\n",
    "import importlib\n",
    "importlib.reload(pc)\n",
    "\n",
    "out = \"../../workload_manage/sensitivity2/output\"\n",
    "filename = \"workload_varing_flowsize.pkl\"\n",
    "\n",
    "output_dict = pc.data_read(out, filename)\n",
    "\n",
    "import plot.plot_common as pc\n",
    "import importlib\n",
    "importlib.reload(pc)\n",
    "\n",
    "candidate_list = [output_dict[\"gd\"][\"bf\"][\"bf\"], output_dict[\"o5\"]]\n",
    "name_list = [\"gd_bf_bf\", \"o5\"]\n",
    "\n",
    "ret = pc.data_parse_min_max(candidate_list, name_list)\n",
    "\n",
    "core_data_dict = ret[\"core_data_dict\"]\n",
    "time_data_dict = ret[\"time_data_dict\"]\n",
    "key_list_dict = ret[\"key_list_dict\"]"
   ]
  },
  {
   "cell_type": "code",
   "execution_count": 39,
   "metadata": {},
   "outputs": [
    {
     "name": "stdout",
     "output_type": "stream",
     "text": [
      "['1', '2']\n",
      "0    38.700600\n",
      "1    38.127338\n",
      "Name: overall, dtype: float64\n",
      "0    38.700600\n",
      "1    38.127338\n",
      "Name: overall, dtype: float64\n"
     ]
    },
    {
     "data": {
      "image/png": "[encoded data removed]",
      "text/plain": [
       "<Figure size 360x216 with 1 Axes>"
      ]
     },
     "metadata": {
      "needs_background": "light"
     },
     "output_type": "display_data"
    }
   ],
   "source": [
    "import plot.plot_plot as pp\n",
    "import importlib\n",
    "importlib.reload(pp)\n",
    "\n",
    "pp.overall_bar_plot_custom(key_list_dict[\"gd_bf_bf\"],\n",
    "                           core_data_dict[\"gd_bf_bf\"],\n",
    "                           core_data_dict[\"o5\"],\n",
    "                           (5, 3),\n",
    "                           \"flowsize\",\n",
    "                           \"flowsize.png\")\n",
    "\n"
   ]
  },
  {
   "cell_type": "code",
   "execution_count": 40,
   "metadata": {},
   "outputs": [
    {
     "name": "stdout",
     "output_type": "stream",
     "text": [
      "[load output]\n",
      "[success]\n",
      "[0] 50\n",
      "[0, 1] 50\n",
      "[1] 50\n",
      "gd_bf_bf\n",
      "(3, 3, 4, 50)\n",
      "(3, 50)\n",
      "[0] 50\n",
      "[0, 1] 50\n",
      "[1] 50\n",
      "o5\n",
      "(3, 3, 4, 50)\n",
      "(3, 50)\n",
      "(3, 3, 4, 50)\n"
     ]
    }
   ],
   "source": [
    "import plot.plot_common as pc\n",
    "import importlib\n",
    "importlib.reload(pc)\n",
    "\n",
    "out = \"../../workload_manage/sensitivity2/output\"\n",
    "filename = \"workload_varing_heavy_flowkey.pkl\"\n",
    "\n",
    "output_dict = pc.data_read(out, filename)\n",
    "\n",
    "import plot.plot_common as pc\n",
    "import importlib\n",
    "importlib.reload(pc)\n",
    "\n",
    "candidate_list = [output_dict[\"gd\"][\"bf\"][\"bf\"], output_dict[\"o5\"]]\n",
    "name_list = [\"gd_bf_bf\", \"o5\"]\n",
    "\n",
    "ret = pc.data_parse_min_max(candidate_list, name_list)\n",
    "\n",
    "core_data_dict = ret[\"core_data_dict\"]\n",
    "time_data_dict = ret[\"time_data_dict\"]\n",
    "key_list_dict = ret[\"key_list_dict\"]"
   ]
  },
  {
   "cell_type": "code",
   "execution_count": 41,
   "metadata": {},
   "outputs": [
    {
     "name": "stdout",
     "output_type": "stream",
     "text": [
      "['[0]', '[0, 1]', '[1]']\n",
      "0    32.069394\n",
      "1    37.699758\n",
      "2    44.734928\n",
      "Name: overall, dtype: float64\n",
      "0    32.069394\n",
      "1    37.699758\n",
      "2    44.734928\n",
      "Name: overall, dtype: float64\n"
     ]
    },
    {
     "data": {
      "image/png": "[encoded data removed]",
      "text/plain": [
       "<Figure size 360x216 with 1 Axes>"
      ]
     },
     "metadata": {
      "needs_background": "light"
     },
     "output_type": "display_data"
    }
   ],
   "source": [
    "import plot.plot_plot as pp\n",
    "import importlib\n",
    "importlib.reload(pp)\n",
    "\n",
    "pp.overall_bar_plot_custom(key_list_dict[\"gd_bf_bf\"],\n",
    "                           core_data_dict[\"gd_bf_bf\"],\n",
    "                           core_data_dict[\"o5\"],\n",
    "                           (5, 3),\n",
    "                           \"heavy flowkey storage\",\n",
    "                           \"heavyflowkey.png\")"
   ]
  },
  {
   "cell_type": "code",
   "execution_count": 42,
   "metadata": {},
   "outputs": [
    {
     "name": "stdout",
     "output_type": "stream",
     "text": [
      "[load output]\n",
      "[success]\n",
      "[1] 50\n",
      "[2] 50\n",
      "[1, 2] 50\n",
      "gd_bf_bf\n",
      "(3, 3, 4, 50)\n",
      "(3, 50)\n",
      "[1] 50\n",
      "[2] 50\n",
      "[1, 2] 50\n",
      "o5\n",
      "(3, 3, 4, 50)\n",
      "(3, 50)\n",
      "(3, 3, 4, 50)\n"
     ]
    }
   ],
   "source": [
    "import plot.plot_common as pc\n",
    "import importlib\n",
    "importlib.reload(pc)\n",
    "\n",
    "out = \"../../workload_manage/sensitivity2/output\"\n",
    "filename = \"workload_varing_index_couputing_type.pkl\"\n",
    "\n",
    "output_dict = pc.data_read(out, filename)\n",
    "\n",
    "import plot.plot_common as pc\n",
    "import importlib\n",
    "importlib.reload(pc)\n",
    "\n",
    "candidate_list = [output_dict[\"gd\"][\"bf\"][\"bf\"], output_dict[\"o5\"]]\n",
    "name_list = [\"gd_bf_bf\", \"o5\"]\n",
    "\n",
    "ret = pc.data_parse_min_max(candidate_list, name_list)\n",
    "\n",
    "core_data_dict = ret[\"core_data_dict\"]\n",
    "time_data_dict = ret[\"time_data_dict\"]\n",
    "key_list_dict = ret[\"key_list_dict\"]"
   ]
  },
  {
   "cell_type": "code",
   "execution_count": 44,
   "metadata": {},
   "outputs": [
    {
     "name": "stdout",
     "output_type": "stream",
     "text": [
      "['[1]', '[2]', '[1, 2]']\n",
      "0    42.992222\n",
      "1    36.754568\n",
      "2    36.123060\n",
      "Name: overall, dtype: float64\n",
      "0    42.992222\n",
      "1    36.754568\n",
      "2    36.123060\n",
      "Name: overall, dtype: float64\n"
     ]
    },
    {
     "data": {
      "image/png": "[encoded data removed]",
      "text/plain": [
       "<Figure size 360x216 with 1 Axes>"
      ]
     },
     "metadata": {
      "needs_background": "light"
     },
     "output_type": "display_data"
    }
   ],
   "source": [
    "import plot.plot_plot as pp\n",
    "import importlib\n",
    "importlib.reload(pp)\n",
    "\n",
    "pp.overall_bar_plot_custom(key_list_dict[\"gd_bf_bf\"],\n",
    "                           core_data_dict[\"gd_bf_bf\"],\n",
    "                           core_data_dict[\"o5\"],\n",
    "                           (5, 3),\n",
    "                           \"single level vs multi level\",\n",
    "                           \"indexcomputing.png\")"
   ]
  },
  {
   "cell_type": "code",
   "execution_count": 45,
   "metadata": {},
   "outputs": [
    {
     "name": "stdout",
     "output_type": "stream",
     "text": [
      "[load output]\n",
      "[success]\n",
      "1 50\n",
      "2 50\n",
      "3 50\n",
      "4 50\n",
      "5 50\n",
      "gd_bf_bf\n",
      "(5, 3, 4, 50)\n",
      "(5, 50)\n",
      "1 50\n",
      "2 50\n",
      "3 50\n",
      "4 50\n",
      "5 50\n",
      "o5\n",
      "(5, 3, 4, 50)\n",
      "(5, 50)\n",
      "(3, 5, 4, 50)\n"
     ]
    }
   ],
   "source": [
    "import plot.plot_common as pc\n",
    "import importlib\n",
    "importlib.reload(pc)\n",
    "\n",
    "out = \"../../workload_manage/sensitivity2/output\"\n",
    "filename = \"workload_varing_sketch_parameter.pkl\"\n",
    "\n",
    "output_dict = pc.data_read(out, filename)\n",
    "\n",
    "import plot.plot_common as pc\n",
    "import importlib\n",
    "importlib.reload(pc)\n",
    "\n",
    "candidate_list = [output_dict[\"gd\"][\"bf\"][\"bf\"], output_dict[\"o5\"]]\n",
    "name_list = [\"gd_bf_bf\", \"o5\"]\n",
    "\n",
    "ret = pc.data_parse_min_max(candidate_list, name_list)\n",
    "\n",
    "core_data_dict = ret[\"core_data_dict\"]\n",
    "time_data_dict = ret[\"time_data_dict\"]\n",
    "key_list_dict = ret[\"key_list_dict\"]"
   ]
  },
  {
   "cell_type": "code",
   "execution_count": 49,
   "metadata": {},
   "outputs": [
    {
     "name": "stdout",
     "output_type": "stream",
     "text": [
      "['1', '2', '3', '4', '5']\n",
      "0    35.809392\n",
      "1    34.745676\n",
      "2    35.525264\n",
      "3    35.678223\n",
      "4    36.556095\n",
      "Name: overall, dtype: float64\n",
      "0    35.809392\n",
      "1    34.745676\n",
      "2    35.525264\n",
      "3    35.678223\n",
      "4    36.556095\n",
      "Name: overall, dtype: float64\n"
     ]
    },
    {
     "data": {
      "image/png": "[encoded data removed]",
      "text/plain": [
       "<Figure size 360x216 with 1 Axes>"
      ]
     },
     "metadata": {
      "needs_background": "light"
     },
     "output_type": "display_data"
    }
   ],
   "source": [
    "import plot.plot_plot as pp\n",
    "import importlib\n",
    "importlib.reload(pp)\n",
    "\n",
    "pp.overall_bar_plot_custom(key_list_dict[\"gd_bf_bf\"],\n",
    "                           core_data_dict[\"gd_bf_bf\"],\n",
    "                           core_data_dict[\"o5\"],\n",
    "                           (5, 3),\n",
    "                           \"sketch parameter - distinct rows\",\n",
    "                           \"rows.png\")"
   ]
  },
  {
   "cell_type": "code",
   "execution_count": 50,
   "metadata": {},
   "outputs": [
    {
     "name": "stdout",
     "output_type": "stream",
     "text": [
      "[load output]\n",
      "[success]\n",
      "[0] 50\n",
      "[0, 1] 50\n",
      "[1] 50\n",
      "gd_bf_bf\n",
      "(3, 3, 4, 50)\n",
      "(3, 50)\n",
      "[0] 50\n",
      "[0, 1] 50\n",
      "[1] 50\n",
      "o5\n",
      "(3, 3, 4, 50)\n",
      "(3, 50)\n",
      "(3, 3, 4, 50)\n"
     ]
    }
   ],
   "source": [
    "import plot.plot_common as pc\n",
    "import importlib\n",
    "importlib.reload(pc)\n",
    "\n",
    "out = \"../../workload_manage/sensitivity2/output\"\n",
    "filename = \"workload_varing_sampling_compatible.pkl\"\n",
    "\n",
    "output_dict = pc.data_read(out, filename)\n",
    "\n",
    "import plot.plot_common as pc\n",
    "import importlib\n",
    "importlib.reload(pc)\n",
    "\n",
    "candidate_list = [output_dict[\"gd\"][\"bf\"][\"bf\"], output_dict[\"o5\"]]\n",
    "name_list = [\"gd_bf_bf\", \"o5\"]\n",
    "\n",
    "ret = pc.data_parse_min_max(candidate_list, name_list)\n",
    "\n",
    "core_data_dict = ret[\"core_data_dict\"]\n",
    "time_data_dict = ret[\"time_data_dict\"]\n",
    "key_list_dict = ret[\"key_list_dict\"]"
   ]
  },
  {
   "cell_type": "code",
   "execution_count": 51,
   "metadata": {},
   "outputs": [
    {
     "name": "stdout",
     "output_type": "stream",
     "text": [
      "['[0]', '[0, 1]', '[1]']\n",
      "0    20.219113\n",
      "1    38.908662\n",
      "2    47.984120\n",
      "Name: overall, dtype: float64\n",
      "0    20.219113\n",
      "1    38.908662\n",
      "2    47.984120\n",
      "Name: overall, dtype: float64\n"
     ]
    },
    {
     "data": {
      "image/png": "[encoded data removed]",
      "text/plain": [
       "<Figure size 360x216 with 1 Axes>"
      ]
     },
     "metadata": {
      "needs_background": "light"
     },
     "output_type": "display_data"
    }
   ],
   "source": [
    "import plot.plot_plot as pp\n",
    "import importlib\n",
    "importlib.reload(pp)\n",
    "\n",
    "pp.overall_bar_plot_custom(key_list_dict[\"gd_bf_bf\"],\n",
    "                           core_data_dict[\"gd_bf_bf\"],\n",
    "                           core_data_dict[\"o5\"],\n",
    "                           (5, 3),\n",
    "                           \"sampling compatible\",\n",
    "                           \"sampling.png\")"
   ]
  },
  {
   "cell_type": "code",
   "execution_count": null,
   "metadata": {},
   "outputs": [],
   "source": []
  }
 ],
 "metadata": {
  "kernelspec": {
   "display_name": "Python 3",
   "language": "python",
   "name": "python3"
  },
  "language_info": {
   "codemirror_mode": {
    "name": "ipython",
    "version": 3
   },
   "file_extension": ".py",
   "mimetype": "text/x-python",
   "name": "python",
   "nbconvert_exporter": "python",
   "pygments_lexer": "ipython3",
   "version": "3.7.1"
  }
 },
 "nbformat": 4,
 "nbformat_minor": 4
}
