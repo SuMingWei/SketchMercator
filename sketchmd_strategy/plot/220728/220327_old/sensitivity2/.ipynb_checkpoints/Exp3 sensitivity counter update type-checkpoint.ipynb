{
 "cells": [
  {
   "cell_type": "code",
   "execution_count": 1,
   "metadata": {},
   "outputs": [
    {
     "name": "stdout",
     "output_type": "stream",
     "text": [
      "[load output]\n",
      "[success]\n"
     ]
    }
   ],
   "source": [
    "import pandas as pd\n",
    "import numpy as np\n",
    "pd.set_option('display.max_rows', 5000)\n",
    "pd.set_option('display.max_columns', 5000)\n",
    "pd.set_option('display.width', 10000)\n",
    "pd.set_option('display.expand_frame_repr', False)\n",
    "\n",
    "from python_lib.pkl_saver import PklSaver\n",
    "from sketch_formats.sketch_generator import *\n",
    "from sketch_formats.sketch_instance import *\n",
    "from plot.plot_common import *\n",
    "\n",
    "\n",
    "import os\n",
    "import sys\n",
    "import argparse\n",
    "\n",
    "out = \"../../workload_manage/sensitivity2/output\"\n",
    "filename = \"workload_varing_counter_update_type.pkl\"\n",
    "\n",
    "print(\"[load output]\")\n",
    "out_saver = PklSaver(out, filename)\n",
    "if out_saver.file_exist():\n",
    "    output_dict = out_saver.load()\n",
    "    print(\"[success]\")\n",
    "else:\n",
    "    print(\"No output file, exit\")\n",
    "    exit(1)"
   ]
  },
  {
   "cell_type": "code",
   "execution_count": 2,
   "metadata": {},
   "outputs": [
    {
     "name": "stdout",
     "output_type": "stream",
     "text": [
      "2 50\n",
      "3 50\n",
      "4 50\n",
      "5 50\n",
      "2 50\n",
      "3 50\n",
      "4 50\n",
      "5 50\n"
     ]
    }
   ],
   "source": [
    "\n",
    "candidate_list = [output_dict[\"gd\"][\"bf\"][\"bf\"], output_dict[\"o5\"]]\n",
    "name_list = [\"gd_bf_bf\", \"o5\"]\n",
    "\n",
    "core_data_dict = {}\n",
    "time_data_dict = {}\n",
    "key_list_dict = {}\n",
    "for candidate, name in zip(candidate_list, name_list):\n",
    "    core_data = []\n",
    "    time_data = []\n",
    "    key_list_dict[name] = list(candidate.keys())\n",
    "    for key, value in candidate.items():\n",
    "        print(key, len(value))\n",
    "\n",
    "        time_list = []\n",
    "        base_list = []\n",
    "        opt_list = []\n",
    "        reduction_list = []\n",
    "\n",
    "        for (time, data_sample, result) in value:\n",
    "            time_list.append(time)\n",
    "            \n",
    "            if name == \"o5\":\n",
    "                baseline_series = compute_heavy_hitter_baseline(data_sample)\n",
    "                if result != None:\n",
    "                    opt_series = result.objective_function()\n",
    "                else:\n",
    "                    opt_series = pd.Series([0, 0, 0, 0], index=['overall', 'salu', 'hashcall', 'sram'])\n",
    "\n",
    "            else:\n",
    "                baseline_series = compute_baseline(data_sample)\n",
    "                opt_series = compute_objective_function(result)\n",
    "            \n",
    "            base_list.append(baseline_series.tolist())\n",
    "            opt_list.append(opt_series.tolist())\n",
    "            \n",
    "            reduction_series = (baseline_series - opt_series)/(baseline_series+0.000001) * 100\n",
    "            reduction_list.append(reduction_series.tolist())\n",
    "\n",
    "        data = []\n",
    "        data.append(base_list)\n",
    "        data.append(opt_list)\n",
    "        data.append(reduction_list)\n",
    "\n",
    "        core_data.append(data)\n",
    "        time_data.append(time_list)\n",
    "\n",
    "    np_core_data = np.array(core_data) # (6, 3, 50, 4)\n",
    "    np_core_data = np.swapaxes(np_core_data, 2, 3) # (6, 3, 4, 50)\n",
    "    avg_data = np.mean(np_core_data, axis=3) # (6, 3, 4)\n",
    "    avg_data = avg_data.reshape(avg_data.shape[0], avg_data.shape[1]*avg_data.shape[2]) # (6, 12)\n",
    "    first_col = ['baseline']*4 + ['opt']*4 + ['reduction']*4\n",
    "    second_col = ['overall', 'hashcall', 'salu', 'sram'] * 3\n",
    "    df = pd.DataFrame(avg_data, columns = [first_col, second_col])\n",
    "    core_data_dict[name] = df\n",
    "\n",
    "    np_time_data = np.array(time_data) # (6, 50)\n",
    "    avg_data = np.mean(np_time_data, axis=1) # (6)\n",
    "    df = pd.DataFrame(avg_data, columns = [\"time\"])\n",
    "    time_data_dict[name] = df"
   ]
  },
  {
   "cell_type": "code",
   "execution_count": 3,
   "metadata": {},
   "outputs": [],
   "source": [
    "def get_plot_data(o1o4_base_df, o1o4_opt_df, o5_base_df, o5_opt_df):\n",
    "    total_base = o1o4_base_df + o5_base_df\n",
    "    total_opt = o1o4_opt_df + o5_opt_df\n",
    "    \n",
    "    total_result = (total_base - total_opt) / total_base * 100\n",
    "    o1o4_result = (o1o4_base_df - o1o4_opt_df) / total_base * 100\n",
    "    o5_result = (o5_base_df - o5_opt_df) / total_base * 100\n",
    "    return total_result, o1o4_result, o5_result\n"
   ]
  },
  {
   "cell_type": "code",
   "execution_count": 4,
   "metadata": {
    "scrolled": false
   },
   "outputs": [
    {
     "name": "stdout",
     "output_type": "stream",
     "text": [
      "gd_bf_bf\n",
      "['2', '3', '4', '5']\n"
     ]
    },
    {
     "data": {
      "image/png": "[encoded data removed]",
      "text/plain": [
       "<Figure size 720x504 with 1 Axes>"
      ]
     },
     "metadata": {
      "needs_background": "light"
     },
     "output_type": "display_data"
    },
    {
     "data": {
      "text/plain": [
       "<Figure size 432x288 with 0 Axes>"
      ]
     },
     "metadata": {},
     "output_type": "display_data"
    }
   ],
   "source": [
    "fig_size = (10, 7)\n",
    "fig, ax = plt.subplots(figsize=fig_size)\n",
    "\n",
    "o5_base_df = core_data_dict[\"o5\"][\"baseline\"]\n",
    "o5_opt_df = core_data_dict[\"o5\"][\"opt\"]\n",
    "count = 0\n",
    "\n",
    "# for name in [\"bf\", \"gd_bf_bf\", \"gd_gd_bf\", \"gd_bf_gd\", \"gd_gd_gd\"]:\n",
    "for name in [\"gd_bf_bf\"]:\n",
    "# for name in [\"bf\", \"gd_bf_bf\"]:\n",
    "\n",
    "    o1o4_base_df = core_data_dict[name][\"baseline\"]\n",
    "    o1o4_opt_df = core_data_dict[name][\"opt\"]\n",
    "    color = \"C%d\" % count\n",
    "    total_result, o1o4_result, o5_result = get_plot_data(o1o4_base_df, o1o4_opt_df, o5_base_df, o5_opt_df)\n",
    "    print(name)\n",
    "    print(key_list_dict[name])\n",
    "    length = len(key_list_dict[name])\n",
    "    ax.plot(key_list_dict[name], total_result[\"overall\"][:length], label='%s (total)' % name.replace(\"_\", \"\"), color=color, marker=markerst1, markersize=7, linestyle=linest)\n",
    "    ax.plot(key_list_dict[name], o1o4_result[\"overall\"][:length], label='%s (o1-o4)' % name.replace(\"_\", \"\"), color=color, marker=markerst2, markersize=7, linestyle=linest)\n",
    "    ax.plot(key_list_dict[name], o5_result[\"overall\"][:length], label='%s (o5)' % name.replace(\"_\", \"\"), color=color, marker=markerst3, markersize=7, linestyle=linest)\n",
    "    count += 1\n",
    "\n",
    "ax.set_ylabel('Resource Reduction Rate ($\\%$)', fontsize=14)\n",
    "ax.set_xlabel('$\\#$ of sketches', fontsize=14)\n",
    "plt.tick_params(labelsize=14)\n",
    "plt.grid(color='gray', linestyle='--', linewidth=1, axis='y')\n",
    "# plt.xticks(x_label)\n",
    "# ax.set_title('%s' % item, fontsize=15)\n",
    "ax.set_ylim([0, 60])\n",
    "from matplotlib.ticker import MultipleLocator\n",
    "# if item == \"overall\":\n",
    "# plt.legend(loc=\"upper left\", fontsize=12, ncol=3)\n",
    "plt.legend(loc=\"upper left\", fontsize=12)\n",
    "\n",
    "fig.tight_layout()\n",
    "# plt.savefig(\"%s.png\" % item)\n",
    "# plt.savefig(\"overall.pdf\")\n",
    "# plt.savefig(\"/Users/hnamkung/Desktop/mrb.png\")\n",
    "plt.show()\n",
    "plt.clf()\n"
   ]
  },
  {
   "cell_type": "code",
   "execution_count": null,
   "metadata": {},
   "outputs": [],
   "source": [
    "Counter Update Type"
   ]
  }
 ],
 "metadata": {
  "kernelspec": {
   "display_name": "Python 3",
   "language": "python",
   "name": "python3"
  },
  "language_info": {
   "codemirror_mode": {
    "name": "ipython",
    "version": 3
   },
   "file_extension": ".py",
   "mimetype": "text/x-python",
   "name": "python",
   "nbconvert_exporter": "python",
   "pygments_lexer": "ipython3",
   "version": "3.7.1"
  }
 },
 "nbformat": 4,
 "nbformat_minor": 4
}
