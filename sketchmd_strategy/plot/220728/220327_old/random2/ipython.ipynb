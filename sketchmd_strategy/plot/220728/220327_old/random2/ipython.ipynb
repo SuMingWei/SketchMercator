{
 "cells": [
  {
   "cell_type": "code",
   "execution_count": 1,
   "metadata": {},
   "outputs": [
    {
     "name": "stdout",
     "output_type": "stream",
     "text": [
      "[load output]\n",
      "[success]\n"
     ]
    }
   ],
   "source": [
    "import pandas as pd\n",
    "import numpy as np\n",
    "pd.set_option('display.max_rows', 5000)\n",
    "pd.set_option('display.max_columns', 5000)\n",
    "pd.set_option('display.width', 10000)\n",
    "pd.set_option('display.expand_frame_repr', False)\n",
    "\n",
    "from python_lib.pkl_saver import PklSaver\n",
    "from sketch_formats.sketch_generator import *\n",
    "from sketch_formats.sketch_instance import *\n",
    "from plot.plot_common import *\n",
    "\n",
    "\n",
    "import os\n",
    "import sys\n",
    "import argparse\n",
    "\n",
    "out = \"../../workload_manage/random2/output\"\n",
    "filename = \"default_random_workload.pkl\"\n",
    "\n",
    "print(\"[load output]\")\n",
    "out_saver = PklSaver(out, filename)\n",
    "if out_saver.file_exist():\n",
    "    output_dict = out_saver.load()\n",
    "    print(\"[success]\")\n",
    "else:\n",
    "    print(\"No output file, exit\")\n",
    "    exit(1)"
   ]
  },
  {
   "cell_type": "code",
   "execution_count": 10,
   "metadata": {},
   "outputs": [
    {
     "name": "stdout",
     "output_type": "stream",
     "text": [
      "2 50\n",
      "4 50\n",
      "6 50\n",
      "8 50\n",
      "10 50\n",
      "12 50\n",
      "2 50\n",
      "4 50\n",
      "6 50\n",
      "8 50\n",
      "10 50\n",
      "12 50\n"
     ]
    }
   ],
   "source": [
    "\n",
    "candidate_list = [output_dict[\"bf\"], output_dict[\"o5\"]]\n",
    "name_list = [\"bf\", \"o5\"]\n",
    "\n",
    "core_data_dict = {}\n",
    "time_data_dict = {}\n",
    "key_list_dict = {}\n",
    "for candidate, name in zip(candidate_list, name_list):\n",
    "    core_data = []\n",
    "    time_data = []\n",
    "    key_list_dict[name] = list(candidate.keys())\n",
    "    for key, value in candidate.items():\n",
    "        print(key, len(value))\n",
    "\n",
    "        time_list = []\n",
    "        base_list = []\n",
    "        opt_list = []\n",
    "        reduction_list = []\n",
    "\n",
    "        for (time, data_sample, result) in value:\n",
    "            time_list.append(time)\n",
    "            \n",
    "            if name == \"o5\":\n",
    "                baseline_series = compute_heavy_hitter_baseline(data_sample)\n",
    "                if result != None:\n",
    "                    opt_series = result.objective_function()\n",
    "                else:\n",
    "                    opt_series = pd.Series([0, 0, 0, 0], index=['overall', 'salu', 'hashcall', 'sram'])\n",
    "\n",
    "            else:\n",
    "                baseline_series = compute_baseline(data_sample)\n",
    "                opt_series = compute_objective_function(result)\n",
    "            \n",
    "            base_list.append(baseline_series.tolist())\n",
    "            opt_list.append(opt_series.tolist())\n",
    "            \n",
    "            reduction_series = (baseline_series - opt_series)/(baseline_series+0.000001) * 100\n",
    "            reduction_list.append(reduction_series.tolist())\n",
    "\n",
    "        data = []\n",
    "        data.append(base_list)\n",
    "        data.append(opt_list)\n",
    "        data.append(reduction_list)\n",
    "\n",
    "        core_data.append(data)\n",
    "        time_data.append(time_list)\n",
    "\n",
    "    np_core_data = np.array(core_data) # (6, 3, 50, 4)\n",
    "    np_core_data = np.swapaxes(np_core_data, 2, 3) # (6, 3, 4, 50)\n",
    "    avg_data = np.mean(np_core_data, axis=3) # (6, 3, 4)\n",
    "    avg_data = avg_data.reshape(avg_data.shape[0], avg_data.shape[1]*avg_data.shape[2]) # (6, 12)\n",
    "    first_col = ['baseline']*4 + ['opt']*4 + ['reduction']*4\n",
    "    second_col = ['overall', 'hashcall', 'salu', 'sram'] * 3\n",
    "    df = pd.DataFrame(avg_data, columns = [first_col, second_col])\n",
    "    core_data_dict[name] = df\n",
    "\n",
    "    np_time_data = np.array(time_data) # (6, 50)\n",
    "    avg_data = np.mean(np_time_data, axis=1) # (6)\n",
    "    df = pd.DataFrame(avg_data, columns = [\"time\"])\n",
    "    time_data_dict[name] = df"
   ]
  },
  {
   "cell_type": "code",
   "execution_count": 13,
   "metadata": {},
   "outputs": [],
   "source": [
    "def get_plot_data(o1o4_base_df, o1o4_opt_df, o5_base_df, o5_opt_df):\n",
    "    total_base = o1o4_base_df + o5_base_df\n",
    "    total_opt = o1o4_opt_df + o5_opt_df\n",
    "    \n",
    "    total_result = (total_base - total_opt) / total_base * 100\n",
    "    o1o4_result = (o1o4_base_df - o1o4_opt_df) / total_base * 100\n",
    "    o5_result = (o5_base_df - o5_opt_df) / total_base * 100\n",
    "    return total_result, o1o4_result, o5_result\n",
    "\n",
    "    \n",
    "\n",
    "bf_o1o4_base_df = core_data_dict[\"bf\"][\"baseline\"]\n",
    "bf_o1o4_opt_df = core_data_dict[\"bf\"][\"opt\"]\n",
    "o5_base_df = core_data_dict[\"o5\"][\"baseline\"]\n",
    "o5_opt_df = core_data_dict[\"o5\"][\"opt\"]\n",
    "total_result, o1o4_result, o5_result = get_plot_data(bf_o1o4_base_df, bf_o1o4_opt_df, o5_base_df, o5_opt_df)\n",
    "\n",
    "\n"
   ]
  },
  {
   "cell_type": "code",
   "execution_count": 16,
   "metadata": {},
   "outputs": [
    {
     "data": {
      "text/html": [
       "<div>\n",
       "<style scoped>\n",
       "    .dataframe tbody tr th:only-of-type {\n",
       "        vertical-align: middle;\n",
       "    }\n",
       "\n",
       "    .dataframe tbody tr th {\n",
       "        vertical-align: top;\n",
       "    }\n",
       "\n",
       "    .dataframe thead th {\n",
       "        text-align: right;\n",
       "    }\n",
       "</style>\n",
       "<table border=\"1\" class=\"dataframe\">\n",
       "  <thead>\n",
       "    <tr style=\"text-align: right;\">\n",
       "      <th></th>\n",
       "      <th>overall</th>\n",
       "      <th>hashcall</th>\n",
       "      <th>salu</th>\n",
       "      <th>sram</th>\n",
       "    </tr>\n",
       "  </thead>\n",
       "  <tbody>\n",
       "    <tr>\n",
       "      <th>0</th>\n",
       "      <td>0.771087</td>\n",
       "      <td>7.017544</td>\n",
       "      <td>-6.675749</td>\n",
       "      <td>-0.115207</td>\n",
       "    </tr>\n",
       "    <tr>\n",
       "      <th>1</th>\n",
       "      <td>6.224140</td>\n",
       "      <td>14.583333</td>\n",
       "      <td>-2.813299</td>\n",
       "      <td>-1.090028</td>\n",
       "    </tr>\n",
       "    <tr>\n",
       "      <th>2</th>\n",
       "      <td>9.530211</td>\n",
       "      <td>17.203252</td>\n",
       "      <td>3.513072</td>\n",
       "      <td>-1.056969</td>\n",
       "    </tr>\n",
       "    <tr>\n",
       "      <th>3</th>\n",
       "      <td>10.690382</td>\n",
       "      <td>17.382413</td>\n",
       "      <td>5.566470</td>\n",
       "      <td>-1.202778</td>\n",
       "    </tr>\n",
       "    <tr>\n",
       "      <th>4</th>\n",
       "      <td>13.208932</td>\n",
       "      <td>19.840343</td>\n",
       "      <td>8.568598</td>\n",
       "      <td>-1.481375</td>\n",
       "    </tr>\n",
       "    <tr>\n",
       "      <th>5</th>\n",
       "      <td>14.796663</td>\n",
       "      <td>20.924092</td>\n",
       "      <td>10.893617</td>\n",
       "      <td>-1.453036</td>\n",
       "    </tr>\n",
       "  </tbody>\n",
       "</table>\n",
       "</div>"
      ],
      "text/plain": [
       "     overall   hashcall       salu      sram\n",
       "0   0.771087   7.017544  -6.675749 -0.115207\n",
       "1   6.224140  14.583333  -2.813299 -1.090028\n",
       "2   9.530211  17.203252   3.513072 -1.056969\n",
       "3  10.690382  17.382413   5.566470 -1.202778\n",
       "4  13.208932  19.840343   8.568598 -1.481375\n",
       "5  14.796663  20.924092  10.893617 -1.453036"
      ]
     },
     "execution_count": 16,
     "metadata": {},
     "output_type": "execute_result"
    }
   ],
   "source": [
    "o5_result"
   ]
  },
  {
   "cell_type": "code",
   "execution_count": 19,
   "metadata": {},
   "outputs": [
    {
     "data": {
      "image/png": "[encoded data removed]",
      "text/plain": [
       "<Figure size 504x360 with 1 Axes>"
      ]
     },
     "metadata": {
      "needs_background": "light"
     },
     "output_type": "display_data"
    },
    {
     "data": {
      "text/plain": [
       "<Figure size 432x288 with 0 Axes>"
      ]
     },
     "metadata": {},
     "output_type": "display_data"
    }
   ],
   "source": [
    "fig_size = (7, 5)\n",
    "fig, ax = plt.subplots(figsize=fig_size)\n",
    "ax.plot(key_list_dict[\"bf\"], total_result[\"overall\"], label='bruteforce-(o1-o5)', color=\"C0\", marker=markerst1, markersize=7, linestyle=linest)\n",
    "ax.plot(key_list_dict[\"bf\"], o1o4_result[\"overall\"], label='bruteforce-(o1-o4)', color=\"C0\", marker=markerst2, markersize=7, linestyle=linest)\n",
    "ax.plot(key_list_dict[\"bf\"], o5_result[\"overall\"], label='bruteforce-(o5)', color=\"C0\", marker=markerst3, markersize=7, linestyle=linest)\n",
    "\n",
    "# ax.plot(key_list, greedy_list, label='[W%d] greedy' % (count+1), color=color1, marker=markerst2, markersize=markersize, linestyle=linest)\n",
    "# count += 1\n",
    "\n",
    "\n",
    "ax.set_ylabel('Resource Reduction Rate ($\\%$)', fontsize=14)\n",
    "ax.set_xlabel('$\\#$ of sketches', fontsize=14)\n",
    "plt.tick_params(labelsize=14)\n",
    "plt.grid(color='gray', linestyle='--', linewidth=1, axis='y')\n",
    "# plt.xticks(x_label)\n",
    "# ax.set_title('%s' % item, fontsize=15)\n",
    "# ax.set_ylim([0, 60])\n",
    "from matplotlib.ticker import MultipleLocator\n",
    "# if item == \"overall\":\n",
    "plt.legend(loc=\"upper left\", fontsize=12, ncol=3)\n",
    "fig.tight_layout()\n",
    "# plt.savefig(\"%s.png\" % item)\n",
    "# plt.savefig(\"overall.pdf\")\n",
    "# plt.savefig(\"/Users/hnamkung/Desktop/mrb.png\")\n",
    "plt.show()\n",
    "plt.clf()\n"
   ]
  },
  {
   "cell_type": "code",
   "execution_count": null,
   "metadata": {},
   "outputs": [],
   "source": []
  }
 ],
 "metadata": {
  "kernelspec": {
   "display_name": "Python 3",
   "language": "python",
   "name": "python3"
  },
  "language_info": {
   "codemirror_mode": {
    "name": "ipython",
    "version": 3
   },
   "file_extension": ".py",
   "mimetype": "text/x-python",
   "name": "python",
   "nbconvert_exporter": "python",
   "pygments_lexer": "ipython3",
   "version": "3.7.1"
  }
 },
 "nbformat": 4,
 "nbformat_minor": 4
}
