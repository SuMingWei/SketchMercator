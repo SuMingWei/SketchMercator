{
 "cells": [
  {
   "cell_type": "code",
   "execution_count": 1,
   "metadata": {},
   "outputs": [
    {
     "name": "stdout",
     "output_type": "stream",
     "text": [
      "[load output] ../../workload_manage/five_workloads/output/workload_1/gd/0_0 8.pkl\n",
      "[success]\n",
      "[load output] ../../workload_manage/five_workloads/output/workload_1/gd/0_0 16.pkl\n",
      "[success]\n",
      "[load output] ../../workload_manage/five_workloads/output/workload_1/gd/0_0 14.pkl\n",
      "[success]\n",
      "[load output] ../../workload_manage/five_workloads/output/workload_1/gd/0_0 10.pkl\n",
      "[success]\n",
      "[load output] ../../workload_manage/five_workloads/output/workload_1/gd/0_0 12.pkl\n",
      "[success]\n",
      "[load output] ../../workload_manage/five_workloads/output/workload_1/gd/0_0 20.pkl\n",
      "[success]\n",
      "[load output] ../../workload_manage/five_workloads/output/workload_1/gd/0_0 25.pkl\n",
      "[success]\n",
      "[load output] ../../workload_manage/five_workloads/output/workload_1/gd/0_0 18.pkl\n",
      "[success]\n",
      "[load output] ../../workload_manage/five_workloads/output/workload_1/gd/0_0 30.pkl\n",
      "[success]\n",
      "[load output] ../../workload_manage/five_workloads/output/workload_1/gd/0_0 6.pkl\n",
      "[success]\n",
      "[load output] ../../workload_manage/five_workloads/output/workload_1/gd/0_0 4.pkl\n",
      "[success]\n",
      "[load output] ../../workload_manage/five_workloads/output/workload_1/gd/0_0 2.pkl\n",
      "[success]\n"
     ]
    }
   ],
   "source": [
    "import plot.plot_common as pc\n",
    "import plot.plot_plot as pp\n",
    "\n",
    "import importlib\n",
    "import os\n",
    "import pandas as pd\n",
    "pd.options.display.float_format = '{:.2f}'.format\n",
    "\n",
    "output = \"../../workload_manage/five_workloads/output\"\n",
    "\n",
    "output_folder = os.path.join(output, \"workload_1\", \"gd\", \"0_0\")\n",
    "\n",
    "# importlib.reload(pc)\n",
    "\n",
    "out_dict = {}\n",
    "for filename in os.listdir(output_folder):\n",
    "    if filename.endswith(\".pkl\"):\n",
    "        out_dict[int(filename.split(\".pkl\")[0])] = pc.data_read(output_folder, filename)"
   ]
  },
  {
   "cell_type": "code",
   "execution_count": 9,
   "metadata": {
    "scrolled": true
   },
   "outputs": [
    {
     "name": "stdout",
     "output_type": "stream",
     "text": [
      "key : 2\n",
      "0.05017092666666669\n",
      "key : 4\n",
      "0.051811206666666686\n",
      "key : 6\n",
      "0.05319705666666667\n",
      "key : 8\n",
      "0.05507178999999998\n",
      "key : 10\n",
      "0.05736319999999999\n",
      "key : 12\n",
      "0.058370476666666705\n",
      "key : 14\n",
      "0.05943766333333333\n",
      "key : 16\n",
      "0.06211097666666667\n",
      "key : 18\n",
      "0.0627886866666667\n",
      "key : 20\n",
      "0.06261742333333332\n",
      "key : 25\n",
      "0.06402921666666662\n",
      "key : 30\n",
      "0.06733454\n"
     ]
    }
   ],
   "source": [
    "importlib.reload(pc)\n",
    "\n",
    "key_list = list(out_dict.keys())\n",
    "key_list.sort()\n",
    "\n",
    "dict1 = {}\n",
    "dict2 = {}\n",
    "\n",
    "for key in key_list:\n",
    "    print(f\"key : {key}\")\n",
    "    pc.data_parse_breakdown_time(out_dict[key])\n",
    "\n"
   ]
  },
  {
   "cell_type": "code",
   "execution_count": null,
   "metadata": {},
   "outputs": [],
   "source": []
  }
 ],
 "metadata": {
  "kernelspec": {
   "display_name": "Python 3",
   "language": "python",
   "name": "python3"
  },
  "language_info": {
   "codemirror_mode": {
    "name": "ipython",
    "version": 3
   },
   "file_extension": ".py",
   "mimetype": "text/x-python",
   "name": "python",
   "nbconvert_exporter": "python",
   "pygments_lexer": "ipython3",
   "version": "3.7.1"
  }
 },
 "nbformat": 4,
 "nbformat_minor": 4
}
