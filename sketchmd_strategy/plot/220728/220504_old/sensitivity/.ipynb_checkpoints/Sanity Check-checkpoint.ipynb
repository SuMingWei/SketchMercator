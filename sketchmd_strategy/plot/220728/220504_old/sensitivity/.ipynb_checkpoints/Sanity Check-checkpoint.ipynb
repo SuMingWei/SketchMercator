{
 "cells": [
  {
   "cell_type": "code",
   "execution_count": null,
   "metadata": {},
   "outputs": [],
   "source": [
    "# Conclusion of sanity check!\n",
    "# breakdown and original method does not match, but I will drop original method"
   ]
  },
  {
   "cell_type": "code",
   "execution_count": 8,
   "metadata": {},
   "outputs": [
    {
     "name": "stdout",
     "output_type": "stream",
     "text": [
      "[load output]\n",
      "[success]\n"
     ]
    }
   ],
   "source": [
    "import plot.plot_common as pc\n",
    "import importlib\n",
    "importlib.reload(pc)\n",
    "\n",
    "out = \"../../workload_manage/sensitivity/output\"\n",
    "\n",
    "output = {}\n",
    "for i in range(2, 3):\n",
    "    filename = \"workload_%d.pkl\" % i\n",
    "    output[filename] = pc.data_read(out, filename)"
   ]
  },
  {
   "cell_type": "code",
   "execution_count": 9,
   "metadata": {
    "scrolled": true
   },
   "outputs": [
    {
     "name": "stdout",
     "output_type": "stream",
     "text": [
      "workload_2.pkl\n",
      "1 50\n",
      "there is a O3/O4!! [objective_function_breakdown]\n",
      "there is a O3/O4!! [objective_function_breakdown]\n",
      "there is a O3/O4!! [objective_function_breakdown]\n",
      "there is a O3/O4!! [objective_function_breakdown]\n",
      "there is a O3/O4!! [objective_function_breakdown]\n",
      "there is a O3/O4!! [objective_function_breakdown]\n",
      "there is a O3/O4!! [objective_function_breakdown]\n",
      "there is a O3/O4!! [objective_function_breakdown]\n",
      "there is a O3/O4!! [objective_function_breakdown]\n",
      "there is a O3/O4!! [objective_function_breakdown]\n",
      "there is a O3/O4!! [objective_function_breakdown]\n",
      "there is a O3/O4!! [objective_function_breakdown]\n",
      "there is a O3/O4!! [objective_function_breakdown]\n",
      "there is a O3/O4!! [objective_function_breakdown]\n",
      "there is a O3/O4!! [objective_function_breakdown]\n",
      "there is a O3/O4!! [objective_function_breakdown]\n",
      "there is a O3/O4!! [objective_function_breakdown]\n",
      "there is a O3/O4!! [objective_function_breakdown]\n",
      "there is a O3/O4!! [objective_function_breakdown]\n",
      "there is a O3/O4!! [objective_function_breakdown]\n",
      "there is a O3/O4!! [objective_function_breakdown]\n",
      "2 50\n",
      "there is a O3/O4!! [objective_function_breakdown]\n",
      "there is a O3/O4!! [objective_function_breakdown]\n",
      "there is a O3/O4!! [objective_function_breakdown]\n",
      "there is a O3/O4!! [objective_function_breakdown]\n",
      "there is a O3/O4!! [objective_function_breakdown]\n",
      "there is a O3/O4!! [objective_function_breakdown]\n",
      "there is a O3/O4!! [objective_function_breakdown]\n",
      "3 50\n",
      "there is a O3/O4!! [objective_function_breakdown]\n",
      "there is a O3/O4!! [objective_function_breakdown]\n",
      "there is a O3/O4!! [objective_function_breakdown]\n",
      "there is a O3/O4!! [objective_function_breakdown]\n",
      "there is a O3/O4!! [objective_function_breakdown]\n",
      "4 50\n",
      "there is a O3/O4!! [objective_function_breakdown]\n",
      "there is a O3/O4!! [objective_function_breakdown]\n",
      "5 50\n",
      "there is a O3/O4!! [objective_function_breakdown]\n",
      "there is a O3/O4!! [objective_function_breakdown]\n",
      "6 50\n",
      "there is a O3/O4!! [objective_function_breakdown]\n",
      "7 50\n",
      "there is a O3/O4!! [objective_function_breakdown]\n",
      "there is a O3/O4!! [objective_function_breakdown]\n",
      "there is a O3/O4!! [objective_function_breakdown]\n",
      "there is a O3/O4!! [objective_function_breakdown]\n",
      "1 50\n",
      "2 50\n",
      "3 50\n",
      "4 50\n",
      "5 50\n",
      "6 50\n",
      "7 50\n"
     ]
    }
   ],
   "source": [
    "import plot.plot_common as pc\n",
    "import importlib\n",
    "importlib.reload(pc)\n",
    "\n",
    "for k, v in output.items():\n",
    "    print(k)\n",
    "    if k != \"workload_2.pkl\":\n",
    "        continue\n",
    "    output_dict = v\n",
    "    greedy_df_list_per_key, o5_df_list_per_key = pc.data_parse_breakdown(output_dict[\"gd\"][\"bf\"][\"bf\"], output_dict[\"o5\"])\n",
    "\n"
   ]
  },
  {
   "cell_type": "code",
   "execution_count": 10,
   "metadata": {},
   "outputs": [
    {
     "name": "stdout",
     "output_type": "stream",
     "text": [
      "              before      after        O1   O2         O3         O4         O5\n",
      "hashcall   97.666667  67.555556  2.277778  0.0   8.888889   1.833333  17.111111\n",
      "salu      125.125000  62.833333  0.000000  0.0  13.333333  23.291667  25.666667\n",
      "sram       15.866667  26.916667  0.000000  0.0  -0.966667  -9.654167  -0.429167\n",
      "hashcall    30.830489\n",
      "salu        49.783550\n",
      "sram       -69.642857\n",
      "dtype: float64\n",
      "\n",
      "\n"
     ]
    }
   ],
   "source": [
    "import plot.plot_common as pc\n",
    "import importlib\n",
    "importlib.reload(pc)\n",
    "\n",
    "\n",
    "hashcall_df, salu_df, sram_df = pc.process_breakdown(greedy_df_list_per_key, o5_df_list_per_key)"
   ]
  },
  {
   "cell_type": "code",
   "execution_count": 2,
   "metadata": {},
   "outputs": [
    {
     "name": "stdout",
     "output_type": "stream",
     "text": [
      "workload_2.pkl\n",
      "1 50\n",
      "there is a O3/O4!! [objective_function]\n",
      "there is a O3/O4!! [objective_function]\n",
      "there is a O3/O4!! [objective_function]\n",
      "there is a O3/O4!! [objective_function]\n",
      "there is a O3/O4!! [objective_function]\n",
      "there is a O3/O4!! [objective_function]\n",
      "there is a O3/O4!! [objective_function]\n",
      "there is a O3/O4!! [objective_function]\n",
      "there is a O3/O4!! [objective_function]\n",
      "there is a O3/O4!! [objective_function]\n",
      "there is a O3/O4!! [objective_function]\n",
      "there is a O3/O4!! [objective_function]\n",
      "there is a O3/O4!! [objective_function]\n",
      "there is a O3/O4!! [objective_function]\n",
      "there is a O3/O4!! [objective_function]\n",
      "there is a O3/O4!! [objective_function]\n",
      "there is a O3/O4!! [objective_function]\n",
      "there is a O3/O4!! [objective_function]\n",
      "there is a O3/O4!! [objective_function]\n",
      "there is a O3/O4!! [objective_function]\n",
      "there is a O3/O4!! [objective_function]\n",
      "2 50\n",
      "there is a O3/O4!! [objective_function]\n",
      "there is a O3/O4!! [objective_function]\n",
      "there is a O3/O4!! [objective_function]\n",
      "there is a O3/O4!! [objective_function]\n",
      "there is a O3/O4!! [objective_function]\n",
      "there is a O3/O4!! [objective_function]\n",
      "there is a O3/O4!! [objective_function]\n",
      "3 50\n",
      "there is a O3/O4!! [objective_function]\n",
      "there is a O3/O4!! [objective_function]\n",
      "there is a O3/O4!! [objective_function]\n",
      "there is a O3/O4!! [objective_function]\n",
      "there is a O3/O4!! [objective_function]\n",
      "4 50\n",
      "there is a O3/O4!! [objective_function]\n",
      "there is a O3/O4!! [objective_function]\n",
      "5 50\n",
      "there is a O3/O4!! [objective_function]\n",
      "there is a O3/O4!! [objective_function]\n",
      "6 50\n",
      "there is a O3/O4!! [objective_function]\n",
      "7 50\n",
      "there is a O3/O4!! [objective_function]\n",
      "there is a O3/O4!! [objective_function]\n",
      "there is a O3/O4!! [objective_function]\n",
      "there is a O3/O4!! [objective_function]\n",
      "gd_bf_bf\n",
      "(7, 3, 4, 50)\n",
      "(7, 50)\n",
      "1 50\n",
      "2 50\n",
      "3 50\n",
      "4 50\n",
      "5 50\n",
      "6 50\n",
      "7 50\n",
      "o5\n",
      "(7, 3, 4, 50)\n",
      "(7, 50)\n",
      "(3, 7, 4, 50)\n"
     ]
    }
   ],
   "source": [
    "import plot.plot_common as pc\n",
    "import importlib\n",
    "importlib.reload(pc)\n",
    "\n",
    "ret_dict = {}\n",
    "for k, v in output.items():\n",
    "    print(k)\n",
    "    output_dict = v\n",
    "    candidate_list = [output_dict[\"gd\"][\"bf\"][\"bf\"], output_dict[\"o5\"]]\n",
    "    name_list = [\"gd_bf_bf\", \"o5\"]\n",
    "\n",
    "    ret = pc.data_parse_min_max(candidate_list, name_list)\n",
    "    ret_dict[k] = ret\n",
    "\n"
   ]
  },
  {
   "cell_type": "code",
   "execution_count": 6,
   "metadata": {},
   "outputs": [
    {
     "name": "stdout",
     "output_type": "stream",
     "text": [
      "workload_2.pkl\n",
      "hashcall before\n",
      "0    125.125000\n",
      "1    138.208333\n",
      "2    139.333333\n",
      "3    127.541667\n",
      "4    142.958333\n",
      "5    138.875000\n",
      "6    137.541667\n",
      "Name: hashcall, dtype: float64\n",
      "hashcall after\n",
      "0    61.736111\n",
      "1    68.055556\n",
      "2    72.652778\n",
      "3    68.583333\n",
      "4    75.486111\n",
      "5    73.944444\n",
      "6    74.027778\n",
      "Name: hashcall, dtype: float64\n",
      "salu before\n",
      "0     97.666667\n",
      "1    110.666667\n",
      "2    109.500000\n",
      "3    102.638889\n",
      "4    114.083333\n",
      "5    109.111111\n",
      "6    110.250000\n",
      "Name: salu, dtype: float64\n",
      "salu after\n",
      "0    68.652778\n",
      "1    74.611111\n",
      "2    78.250000\n",
      "3    72.777778\n",
      "4    80.666667\n",
      "5    77.694444\n",
      "6    78.402778\n",
      "Name: salu, dtype: float64\n",
      "sram before\n",
      "0    15.866667\n",
      "1    20.416667\n",
      "2    19.154167\n",
      "3    18.947917\n",
      "4    19.918750\n",
      "5    19.018750\n",
      "6    20.225000\n",
      "Name: sram, dtype: float64\n",
      "sram after\n",
      "0    26.916667\n",
      "1    33.068750\n",
      "2    30.606250\n",
      "3    27.475000\n",
      "4    30.714583\n",
      "5    28.133333\n",
      "6    29.402083\n",
      "Name: sram, dtype: float64\n"
     ]
    },
    {
     "data": {
      "image/png": "[encoded data removed]",
      "text/plain": [
       "<Figure size 720x360 with 1 Axes>"
      ]
     },
     "metadata": {
      "needs_background": "light"
     },
     "output_type": "display_data"
    },
    {
     "data": {
      "text/plain": [
       "<Figure size 432x288 with 0 Axes>"
      ]
     },
     "metadata": {},
     "output_type": "display_data"
    },
    {
     "data": {
      "image/png": "[encoded data removed]",
      "text/plain": [
       "<Figure size 504x360 with 1 Axes>"
      ]
     },
     "metadata": {
      "needs_background": "light"
     },
     "output_type": "display_data"
    },
    {
     "data": {
      "text/plain": [
       "<Figure size 432x288 with 0 Axes>"
      ]
     },
     "metadata": {},
     "output_type": "display_data"
    }
   ],
   "source": [
    "import plot.plot_plot as pp\n",
    "import importlib\n",
    "importlib.reload(pp)\n",
    "\n",
    "name = {}\n",
    "\n",
    "name[\"workload_2.pkl\"] = \"unique number of statistics\"\n",
    "\n",
    "\n",
    "for k, v in ret_dict.items():\n",
    "    print(k)\n",
    "    core_data_dict = v[\"core_data_dict\"]\n",
    "    time_data_dict = v[\"time_data_dict\"]\n",
    "    key_list_dict = v[\"key_list_dict\"]\n",
    "\n",
    "    pp.resource_bar_plot(key_list_dict[\"gd_bf_bf\"], core_data_dict[\"gd_bf_bf\"], core_data_dict[\"o5\"], name[k])\n",
    "\n"
   ]
  },
  {
   "cell_type": "code",
   "execution_count": null,
   "metadata": {},
   "outputs": [],
   "source": []
  }
 ],
 "metadata": {
  "kernelspec": {
   "display_name": "Python 3",
   "language": "python",
   "name": "python3"
  },
  "language_info": {
   "codemirror_mode": {
    "name": "ipython",
    "version": 3
   },
   "file_extension": ".py",
   "mimetype": "text/x-python",
   "name": "python",
   "nbconvert_exporter": "python",
   "pygments_lexer": "ipython3",
   "version": "3.7.1"
  }
 },
 "nbformat": 4,
 "nbformat_minor": 4
}
